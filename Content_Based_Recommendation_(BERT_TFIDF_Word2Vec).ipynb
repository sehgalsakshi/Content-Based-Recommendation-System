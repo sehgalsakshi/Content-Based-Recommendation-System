{
  "nbformat": 4,
  "nbformat_minor": 0,
  "metadata": {
    "colab": {
      "name": "Content Based Recommendation (BERT/ TFIDF/ Word2Vec).ipynb",
      "provenance": [],
      "collapsed_sections": [],
      "include_colab_link": true
    },
    "kernelspec": {
      "name": "python3",
      "display_name": "Python 3"
    },
    "widgets": {
      "application/vnd.jupyter.widget-state+json": {
        "28b2d8ac08ac471b81fe8af42af9829b": {
          "model_module": "@jupyter-widgets/controls",
          "model_name": "HBoxModel",
          "state": {
            "_view_name": "HBoxView",
            "_dom_classes": [],
            "_model_name": "HBoxModel",
            "_view_module": "@jupyter-widgets/controls",
            "_model_module_version": "1.5.0",
            "_view_count": null,
            "_view_module_version": "1.5.0",
            "box_style": "",
            "layout": "IPY_MODEL_25d97a65bb2e4891a3d3b3e73dd11a31",
            "_model_module": "@jupyter-widgets/controls",
            "children": [
              "IPY_MODEL_a4185712d3b44e7bae4b6f8b21f100ab",
              "IPY_MODEL_f393ae83d35942b5b9a420b1e6ac9843"
            ]
          }
        },
        "25d97a65bb2e4891a3d3b3e73dd11a31": {
          "model_module": "@jupyter-widgets/base",
          "model_name": "LayoutModel",
          "state": {
            "_view_name": "LayoutView",
            "grid_template_rows": null,
            "right": null,
            "justify_content": null,
            "_view_module": "@jupyter-widgets/base",
            "overflow": null,
            "_model_module_version": "1.2.0",
            "_view_count": null,
            "flex_flow": null,
            "width": null,
            "min_width": null,
            "border": null,
            "align_items": null,
            "bottom": null,
            "_model_module": "@jupyter-widgets/base",
            "top": null,
            "grid_column": null,
            "overflow_y": null,
            "overflow_x": null,
            "grid_auto_flow": null,
            "grid_area": null,
            "grid_template_columns": null,
            "flex": null,
            "_model_name": "LayoutModel",
            "justify_items": null,
            "grid_row": null,
            "max_height": null,
            "align_content": null,
            "visibility": null,
            "align_self": null,
            "height": null,
            "min_height": null,
            "padding": null,
            "grid_auto_rows": null,
            "grid_gap": null,
            "max_width": null,
            "order": null,
            "_view_module_version": "1.2.0",
            "grid_template_areas": null,
            "object_position": null,
            "object_fit": null,
            "grid_auto_columns": null,
            "margin": null,
            "display": null,
            "left": null
          }
        },
        "a4185712d3b44e7bae4b6f8b21f100ab": {
          "model_module": "@jupyter-widgets/controls",
          "model_name": "FloatProgressModel",
          "state": {
            "_view_name": "ProgressView",
            "style": "IPY_MODEL_5d4ff39384e645aa9992006238b2efba",
            "_dom_classes": [],
            "description": "Downloading: 100%",
            "_model_name": "FloatProgressModel",
            "bar_style": "success",
            "max": 28,
            "_view_module": "@jupyter-widgets/controls",
            "_model_module_version": "1.5.0",
            "value": 28,
            "_view_count": null,
            "_view_module_version": "1.5.0",
            "orientation": "horizontal",
            "min": 0,
            "description_tooltip": null,
            "_model_module": "@jupyter-widgets/controls",
            "layout": "IPY_MODEL_f06a2abfab05425f96ec20d91aa97847"
          }
        },
        "f393ae83d35942b5b9a420b1e6ac9843": {
          "model_module": "@jupyter-widgets/controls",
          "model_name": "HTMLModel",
          "state": {
            "_view_name": "HTMLView",
            "style": "IPY_MODEL_faa230452c294ca9be9d64891fcd0699",
            "_dom_classes": [],
            "description": "",
            "_model_name": "HTMLModel",
            "placeholder": "​",
            "_view_module": "@jupyter-widgets/controls",
            "_model_module_version": "1.5.0",
            "value": " 28.0/28.0 [00:14&lt;00:00, 1.94B/s]",
            "_view_count": null,
            "_view_module_version": "1.5.0",
            "description_tooltip": null,
            "_model_module": "@jupyter-widgets/controls",
            "layout": "IPY_MODEL_84f974490fb24144b5f50f36c801ed11"
          }
        },
        "5d4ff39384e645aa9992006238b2efba": {
          "model_module": "@jupyter-widgets/controls",
          "model_name": "ProgressStyleModel",
          "state": {
            "_view_name": "StyleView",
            "_model_name": "ProgressStyleModel",
            "description_width": "initial",
            "_view_module": "@jupyter-widgets/base",
            "_model_module_version": "1.5.0",
            "_view_count": null,
            "_view_module_version": "1.2.0",
            "bar_color": null,
            "_model_module": "@jupyter-widgets/controls"
          }
        },
        "f06a2abfab05425f96ec20d91aa97847": {
          "model_module": "@jupyter-widgets/base",
          "model_name": "LayoutModel",
          "state": {
            "_view_name": "LayoutView",
            "grid_template_rows": null,
            "right": null,
            "justify_content": null,
            "_view_module": "@jupyter-widgets/base",
            "overflow": null,
            "_model_module_version": "1.2.0",
            "_view_count": null,
            "flex_flow": null,
            "width": null,
            "min_width": null,
            "border": null,
            "align_items": null,
            "bottom": null,
            "_model_module": "@jupyter-widgets/base",
            "top": null,
            "grid_column": null,
            "overflow_y": null,
            "overflow_x": null,
            "grid_auto_flow": null,
            "grid_area": null,
            "grid_template_columns": null,
            "flex": null,
            "_model_name": "LayoutModel",
            "justify_items": null,
            "grid_row": null,
            "max_height": null,
            "align_content": null,
            "visibility": null,
            "align_self": null,
            "height": null,
            "min_height": null,
            "padding": null,
            "grid_auto_rows": null,
            "grid_gap": null,
            "max_width": null,
            "order": null,
            "_view_module_version": "1.2.0",
            "grid_template_areas": null,
            "object_position": null,
            "object_fit": null,
            "grid_auto_columns": null,
            "margin": null,
            "display": null,
            "left": null
          }
        },
        "faa230452c294ca9be9d64891fcd0699": {
          "model_module": "@jupyter-widgets/controls",
          "model_name": "DescriptionStyleModel",
          "state": {
            "_view_name": "StyleView",
            "_model_name": "DescriptionStyleModel",
            "description_width": "",
            "_view_module": "@jupyter-widgets/base",
            "_model_module_version": "1.5.0",
            "_view_count": null,
            "_view_module_version": "1.2.0",
            "_model_module": "@jupyter-widgets/controls"
          }
        },
        "84f974490fb24144b5f50f36c801ed11": {
          "model_module": "@jupyter-widgets/base",
          "model_name": "LayoutModel",
          "state": {
            "_view_name": "LayoutView",
            "grid_template_rows": null,
            "right": null,
            "justify_content": null,
            "_view_module": "@jupyter-widgets/base",
            "overflow": null,
            "_model_module_version": "1.2.0",
            "_view_count": null,
            "flex_flow": null,
            "width": null,
            "min_width": null,
            "border": null,
            "align_items": null,
            "bottom": null,
            "_model_module": "@jupyter-widgets/base",
            "top": null,
            "grid_column": null,
            "overflow_y": null,
            "overflow_x": null,
            "grid_auto_flow": null,
            "grid_area": null,
            "grid_template_columns": null,
            "flex": null,
            "_model_name": "LayoutModel",
            "justify_items": null,
            "grid_row": null,
            "max_height": null,
            "align_content": null,
            "visibility": null,
            "align_self": null,
            "height": null,
            "min_height": null,
            "padding": null,
            "grid_auto_rows": null,
            "grid_gap": null,
            "max_width": null,
            "order": null,
            "_view_module_version": "1.2.0",
            "grid_template_areas": null,
            "object_position": null,
            "object_fit": null,
            "grid_auto_columns": null,
            "margin": null,
            "display": null,
            "left": null
          }
        },
        "6cd570283d524b7183efc9f2d02b61a5": {
          "model_module": "@jupyter-widgets/controls",
          "model_name": "HBoxModel",
          "state": {
            "_view_name": "HBoxView",
            "_dom_classes": [],
            "_model_name": "HBoxModel",
            "_view_module": "@jupyter-widgets/controls",
            "_model_module_version": "1.5.0",
            "_view_count": null,
            "_view_module_version": "1.5.0",
            "box_style": "",
            "layout": "IPY_MODEL_8325e7c758ca484f8bc92730005fe57e",
            "_model_module": "@jupyter-widgets/controls",
            "children": [
              "IPY_MODEL_bdd48829950d416e92c493a9dad0688f",
              "IPY_MODEL_7bec6cc7dff1472fa7bc8ae9228d3108"
            ]
          }
        },
        "8325e7c758ca484f8bc92730005fe57e": {
          "model_module": "@jupyter-widgets/base",
          "model_name": "LayoutModel",
          "state": {
            "_view_name": "LayoutView",
            "grid_template_rows": null,
            "right": null,
            "justify_content": null,
            "_view_module": "@jupyter-widgets/base",
            "overflow": null,
            "_model_module_version": "1.2.0",
            "_view_count": null,
            "flex_flow": null,
            "width": null,
            "min_width": null,
            "border": null,
            "align_items": null,
            "bottom": null,
            "_model_module": "@jupyter-widgets/base",
            "top": null,
            "grid_column": null,
            "overflow_y": null,
            "overflow_x": null,
            "grid_auto_flow": null,
            "grid_area": null,
            "grid_template_columns": null,
            "flex": null,
            "_model_name": "LayoutModel",
            "justify_items": null,
            "grid_row": null,
            "max_height": null,
            "align_content": null,
            "visibility": null,
            "align_self": null,
            "height": null,
            "min_height": null,
            "padding": null,
            "grid_auto_rows": null,
            "grid_gap": null,
            "max_width": null,
            "order": null,
            "_view_module_version": "1.2.0",
            "grid_template_areas": null,
            "object_position": null,
            "object_fit": null,
            "grid_auto_columns": null,
            "margin": null,
            "display": null,
            "left": null
          }
        },
        "bdd48829950d416e92c493a9dad0688f": {
          "model_module": "@jupyter-widgets/controls",
          "model_name": "FloatProgressModel",
          "state": {
            "_view_name": "ProgressView",
            "style": "IPY_MODEL_ab209f876bd14b4fa66e3b022e472713",
            "_dom_classes": [],
            "description": "Downloading: 100%",
            "_model_name": "FloatProgressModel",
            "bar_style": "success",
            "max": 570,
            "_view_module": "@jupyter-widgets/controls",
            "_model_module_version": "1.5.0",
            "value": 570,
            "_view_count": null,
            "_view_module_version": "1.5.0",
            "orientation": "horizontal",
            "min": 0,
            "description_tooltip": null,
            "_model_module": "@jupyter-widgets/controls",
            "layout": "IPY_MODEL_f92bac9c14fc402589f189a7ab8b7084"
          }
        },
        "7bec6cc7dff1472fa7bc8ae9228d3108": {
          "model_module": "@jupyter-widgets/controls",
          "model_name": "HTMLModel",
          "state": {
            "_view_name": "HTMLView",
            "style": "IPY_MODEL_6d5ffd69142c416386e344f4b2afe712",
            "_dom_classes": [],
            "description": "",
            "_model_name": "HTMLModel",
            "placeholder": "​",
            "_view_module": "@jupyter-widgets/controls",
            "_model_module_version": "1.5.0",
            "value": " 570/570 [00:13&lt;00:00, 41.3B/s]",
            "_view_count": null,
            "_view_module_version": "1.5.0",
            "description_tooltip": null,
            "_model_module": "@jupyter-widgets/controls",
            "layout": "IPY_MODEL_c9d58bb6d2794ca58e0cc8f4fe57eb51"
          }
        },
        "ab209f876bd14b4fa66e3b022e472713": {
          "model_module": "@jupyter-widgets/controls",
          "model_name": "ProgressStyleModel",
          "state": {
            "_view_name": "StyleView",
            "_model_name": "ProgressStyleModel",
            "description_width": "initial",
            "_view_module": "@jupyter-widgets/base",
            "_model_module_version": "1.5.0",
            "_view_count": null,
            "_view_module_version": "1.2.0",
            "bar_color": null,
            "_model_module": "@jupyter-widgets/controls"
          }
        },
        "f92bac9c14fc402589f189a7ab8b7084": {
          "model_module": "@jupyter-widgets/base",
          "model_name": "LayoutModel",
          "state": {
            "_view_name": "LayoutView",
            "grid_template_rows": null,
            "right": null,
            "justify_content": null,
            "_view_module": "@jupyter-widgets/base",
            "overflow": null,
            "_model_module_version": "1.2.0",
            "_view_count": null,
            "flex_flow": null,
            "width": null,
            "min_width": null,
            "border": null,
            "align_items": null,
            "bottom": null,
            "_model_module": "@jupyter-widgets/base",
            "top": null,
            "grid_column": null,
            "overflow_y": null,
            "overflow_x": null,
            "grid_auto_flow": null,
            "grid_area": null,
            "grid_template_columns": null,
            "flex": null,
            "_model_name": "LayoutModel",
            "justify_items": null,
            "grid_row": null,
            "max_height": null,
            "align_content": null,
            "visibility": null,
            "align_self": null,
            "height": null,
            "min_height": null,
            "padding": null,
            "grid_auto_rows": null,
            "grid_gap": null,
            "max_width": null,
            "order": null,
            "_view_module_version": "1.2.0",
            "grid_template_areas": null,
            "object_position": null,
            "object_fit": null,
            "grid_auto_columns": null,
            "margin": null,
            "display": null,
            "left": null
          }
        },
        "6d5ffd69142c416386e344f4b2afe712": {
          "model_module": "@jupyter-widgets/controls",
          "model_name": "DescriptionStyleModel",
          "state": {
            "_view_name": "StyleView",
            "_model_name": "DescriptionStyleModel",
            "description_width": "",
            "_view_module": "@jupyter-widgets/base",
            "_model_module_version": "1.5.0",
            "_view_count": null,
            "_view_module_version": "1.2.0",
            "_model_module": "@jupyter-widgets/controls"
          }
        },
        "c9d58bb6d2794ca58e0cc8f4fe57eb51": {
          "model_module": "@jupyter-widgets/base",
          "model_name": "LayoutModel",
          "state": {
            "_view_name": "LayoutView",
            "grid_template_rows": null,
            "right": null,
            "justify_content": null,
            "_view_module": "@jupyter-widgets/base",
            "overflow": null,
            "_model_module_version": "1.2.0",
            "_view_count": null,
            "flex_flow": null,
            "width": null,
            "min_width": null,
            "border": null,
            "align_items": null,
            "bottom": null,
            "_model_module": "@jupyter-widgets/base",
            "top": null,
            "grid_column": null,
            "overflow_y": null,
            "overflow_x": null,
            "grid_auto_flow": null,
            "grid_area": null,
            "grid_template_columns": null,
            "flex": null,
            "_model_name": "LayoutModel",
            "justify_items": null,
            "grid_row": null,
            "max_height": null,
            "align_content": null,
            "visibility": null,
            "align_self": null,
            "height": null,
            "min_height": null,
            "padding": null,
            "grid_auto_rows": null,
            "grid_gap": null,
            "max_width": null,
            "order": null,
            "_view_module_version": "1.2.0",
            "grid_template_areas": null,
            "object_position": null,
            "object_fit": null,
            "grid_auto_columns": null,
            "margin": null,
            "display": null,
            "left": null
          }
        },
        "28dbcb747552484cb156e5cab2d8b08b": {
          "model_module": "@jupyter-widgets/controls",
          "model_name": "HBoxModel",
          "state": {
            "_view_name": "HBoxView",
            "_dom_classes": [],
            "_model_name": "HBoxModel",
            "_view_module": "@jupyter-widgets/controls",
            "_model_module_version": "1.5.0",
            "_view_count": null,
            "_view_module_version": "1.5.0",
            "box_style": "",
            "layout": "IPY_MODEL_cb79fc46ae1c4d199afc623dade0e060",
            "_model_module": "@jupyter-widgets/controls",
            "children": [
              "IPY_MODEL_eb49b18ef2814bbba39eec1ca6c51cb6",
              "IPY_MODEL_8a26eb9e7f5142c395d99b23e0af206a"
            ]
          }
        },
        "cb79fc46ae1c4d199afc623dade0e060": {
          "model_module": "@jupyter-widgets/base",
          "model_name": "LayoutModel",
          "state": {
            "_view_name": "LayoutView",
            "grid_template_rows": null,
            "right": null,
            "justify_content": null,
            "_view_module": "@jupyter-widgets/base",
            "overflow": null,
            "_model_module_version": "1.2.0",
            "_view_count": null,
            "flex_flow": null,
            "width": null,
            "min_width": null,
            "border": null,
            "align_items": null,
            "bottom": null,
            "_model_module": "@jupyter-widgets/base",
            "top": null,
            "grid_column": null,
            "overflow_y": null,
            "overflow_x": null,
            "grid_auto_flow": null,
            "grid_area": null,
            "grid_template_columns": null,
            "flex": null,
            "_model_name": "LayoutModel",
            "justify_items": null,
            "grid_row": null,
            "max_height": null,
            "align_content": null,
            "visibility": null,
            "align_self": null,
            "height": null,
            "min_height": null,
            "padding": null,
            "grid_auto_rows": null,
            "grid_gap": null,
            "max_width": null,
            "order": null,
            "_view_module_version": "1.2.0",
            "grid_template_areas": null,
            "object_position": null,
            "object_fit": null,
            "grid_auto_columns": null,
            "margin": null,
            "display": null,
            "left": null
          }
        },
        "eb49b18ef2814bbba39eec1ca6c51cb6": {
          "model_module": "@jupyter-widgets/controls",
          "model_name": "FloatProgressModel",
          "state": {
            "_view_name": "ProgressView",
            "style": "IPY_MODEL_654b4b10592b4e07a4d801e41f44fd35",
            "_dom_classes": [],
            "description": "Downloading: 100%",
            "_model_name": "FloatProgressModel",
            "bar_style": "success",
            "max": 231508,
            "_view_module": "@jupyter-widgets/controls",
            "_model_module_version": "1.5.0",
            "value": 231508,
            "_view_count": null,
            "_view_module_version": "1.5.0",
            "orientation": "horizontal",
            "min": 0,
            "description_tooltip": null,
            "_model_module": "@jupyter-widgets/controls",
            "layout": "IPY_MODEL_6af08daf7c7b463bb28a39b25ed035f4"
          }
        },
        "8a26eb9e7f5142c395d99b23e0af206a": {
          "model_module": "@jupyter-widgets/controls",
          "model_name": "HTMLModel",
          "state": {
            "_view_name": "HTMLView",
            "style": "IPY_MODEL_78b7e2cad20a461bb593974f818d5746",
            "_dom_classes": [],
            "description": "",
            "_model_name": "HTMLModel",
            "placeholder": "​",
            "_view_module": "@jupyter-widgets/controls",
            "_model_module_version": "1.5.0",
            "value": " 232k/232k [00:00&lt;00:00, 313kB/s]",
            "_view_count": null,
            "_view_module_version": "1.5.0",
            "description_tooltip": null,
            "_model_module": "@jupyter-widgets/controls",
            "layout": "IPY_MODEL_63566e7fa3aa4a82acd79640dacb0561"
          }
        },
        "654b4b10592b4e07a4d801e41f44fd35": {
          "model_module": "@jupyter-widgets/controls",
          "model_name": "ProgressStyleModel",
          "state": {
            "_view_name": "StyleView",
            "_model_name": "ProgressStyleModel",
            "description_width": "initial",
            "_view_module": "@jupyter-widgets/base",
            "_model_module_version": "1.5.0",
            "_view_count": null,
            "_view_module_version": "1.2.0",
            "bar_color": null,
            "_model_module": "@jupyter-widgets/controls"
          }
        },
        "6af08daf7c7b463bb28a39b25ed035f4": {
          "model_module": "@jupyter-widgets/base",
          "model_name": "LayoutModel",
          "state": {
            "_view_name": "LayoutView",
            "grid_template_rows": null,
            "right": null,
            "justify_content": null,
            "_view_module": "@jupyter-widgets/base",
            "overflow": null,
            "_model_module_version": "1.2.0",
            "_view_count": null,
            "flex_flow": null,
            "width": null,
            "min_width": null,
            "border": null,
            "align_items": null,
            "bottom": null,
            "_model_module": "@jupyter-widgets/base",
            "top": null,
            "grid_column": null,
            "overflow_y": null,
            "overflow_x": null,
            "grid_auto_flow": null,
            "grid_area": null,
            "grid_template_columns": null,
            "flex": null,
            "_model_name": "LayoutModel",
            "justify_items": null,
            "grid_row": null,
            "max_height": null,
            "align_content": null,
            "visibility": null,
            "align_self": null,
            "height": null,
            "min_height": null,
            "padding": null,
            "grid_auto_rows": null,
            "grid_gap": null,
            "max_width": null,
            "order": null,
            "_view_module_version": "1.2.0",
            "grid_template_areas": null,
            "object_position": null,
            "object_fit": null,
            "grid_auto_columns": null,
            "margin": null,
            "display": null,
            "left": null
          }
        },
        "78b7e2cad20a461bb593974f818d5746": {
          "model_module": "@jupyter-widgets/controls",
          "model_name": "DescriptionStyleModel",
          "state": {
            "_view_name": "StyleView",
            "_model_name": "DescriptionStyleModel",
            "description_width": "",
            "_view_module": "@jupyter-widgets/base",
            "_model_module_version": "1.5.0",
            "_view_count": null,
            "_view_module_version": "1.2.0",
            "_model_module": "@jupyter-widgets/controls"
          }
        },
        "63566e7fa3aa4a82acd79640dacb0561": {
          "model_module": "@jupyter-widgets/base",
          "model_name": "LayoutModel",
          "state": {
            "_view_name": "LayoutView",
            "grid_template_rows": null,
            "right": null,
            "justify_content": null,
            "_view_module": "@jupyter-widgets/base",
            "overflow": null,
            "_model_module_version": "1.2.0",
            "_view_count": null,
            "flex_flow": null,
            "width": null,
            "min_width": null,
            "border": null,
            "align_items": null,
            "bottom": null,
            "_model_module": "@jupyter-widgets/base",
            "top": null,
            "grid_column": null,
            "overflow_y": null,
            "overflow_x": null,
            "grid_auto_flow": null,
            "grid_area": null,
            "grid_template_columns": null,
            "flex": null,
            "_model_name": "LayoutModel",
            "justify_items": null,
            "grid_row": null,
            "max_height": null,
            "align_content": null,
            "visibility": null,
            "align_self": null,
            "height": null,
            "min_height": null,
            "padding": null,
            "grid_auto_rows": null,
            "grid_gap": null,
            "max_width": null,
            "order": null,
            "_view_module_version": "1.2.0",
            "grid_template_areas": null,
            "object_position": null,
            "object_fit": null,
            "grid_auto_columns": null,
            "margin": null,
            "display": null,
            "left": null
          }
        },
        "f812f2ef2d04440dacdae0d11b99c034": {
          "model_module": "@jupyter-widgets/controls",
          "model_name": "HBoxModel",
          "state": {
            "_view_name": "HBoxView",
            "_dom_classes": [],
            "_model_name": "HBoxModel",
            "_view_module": "@jupyter-widgets/controls",
            "_model_module_version": "1.5.0",
            "_view_count": null,
            "_view_module_version": "1.5.0",
            "box_style": "",
            "layout": "IPY_MODEL_5a0fcbf2bb524e5da7e10e205ba885b6",
            "_model_module": "@jupyter-widgets/controls",
            "children": [
              "IPY_MODEL_2b971d1b60d24d5dadc480b1401e8d6b",
              "IPY_MODEL_7d6bca3b252a41b685123c5023c026c7"
            ]
          }
        },
        "5a0fcbf2bb524e5da7e10e205ba885b6": {
          "model_module": "@jupyter-widgets/base",
          "model_name": "LayoutModel",
          "state": {
            "_view_name": "LayoutView",
            "grid_template_rows": null,
            "right": null,
            "justify_content": null,
            "_view_module": "@jupyter-widgets/base",
            "overflow": null,
            "_model_module_version": "1.2.0",
            "_view_count": null,
            "flex_flow": null,
            "width": null,
            "min_width": null,
            "border": null,
            "align_items": null,
            "bottom": null,
            "_model_module": "@jupyter-widgets/base",
            "top": null,
            "grid_column": null,
            "overflow_y": null,
            "overflow_x": null,
            "grid_auto_flow": null,
            "grid_area": null,
            "grid_template_columns": null,
            "flex": null,
            "_model_name": "LayoutModel",
            "justify_items": null,
            "grid_row": null,
            "max_height": null,
            "align_content": null,
            "visibility": null,
            "align_self": null,
            "height": null,
            "min_height": null,
            "padding": null,
            "grid_auto_rows": null,
            "grid_gap": null,
            "max_width": null,
            "order": null,
            "_view_module_version": "1.2.0",
            "grid_template_areas": null,
            "object_position": null,
            "object_fit": null,
            "grid_auto_columns": null,
            "margin": null,
            "display": null,
            "left": null
          }
        },
        "2b971d1b60d24d5dadc480b1401e8d6b": {
          "model_module": "@jupyter-widgets/controls",
          "model_name": "FloatProgressModel",
          "state": {
            "_view_name": "ProgressView",
            "style": "IPY_MODEL_b6e0981372cd4961832ad8a523e26300",
            "_dom_classes": [],
            "description": "Downloading: 100%",
            "_model_name": "FloatProgressModel",
            "bar_style": "success",
            "max": 466062,
            "_view_module": "@jupyter-widgets/controls",
            "_model_module_version": "1.5.0",
            "value": 466062,
            "_view_count": null,
            "_view_module_version": "1.5.0",
            "orientation": "horizontal",
            "min": 0,
            "description_tooltip": null,
            "_model_module": "@jupyter-widgets/controls",
            "layout": "IPY_MODEL_ac6b669658684d84b8d34dc6057676d1"
          }
        },
        "7d6bca3b252a41b685123c5023c026c7": {
          "model_module": "@jupyter-widgets/controls",
          "model_name": "HTMLModel",
          "state": {
            "_view_name": "HTMLView",
            "style": "IPY_MODEL_a345fa8bf10d409d99d84c66fb0b752a",
            "_dom_classes": [],
            "description": "",
            "_model_name": "HTMLModel",
            "placeholder": "​",
            "_view_module": "@jupyter-widgets/controls",
            "_model_module_version": "1.5.0",
            "value": " 466k/466k [00:12&lt;00:00, 38.4kB/s]",
            "_view_count": null,
            "_view_module_version": "1.5.0",
            "description_tooltip": null,
            "_model_module": "@jupyter-widgets/controls",
            "layout": "IPY_MODEL_9ff634659cd941e2979633db77aca4ec"
          }
        },
        "b6e0981372cd4961832ad8a523e26300": {
          "model_module": "@jupyter-widgets/controls",
          "model_name": "ProgressStyleModel",
          "state": {
            "_view_name": "StyleView",
            "_model_name": "ProgressStyleModel",
            "description_width": "initial",
            "_view_module": "@jupyter-widgets/base",
            "_model_module_version": "1.5.0",
            "_view_count": null,
            "_view_module_version": "1.2.0",
            "bar_color": null,
            "_model_module": "@jupyter-widgets/controls"
          }
        },
        "ac6b669658684d84b8d34dc6057676d1": {
          "model_module": "@jupyter-widgets/base",
          "model_name": "LayoutModel",
          "state": {
            "_view_name": "LayoutView",
            "grid_template_rows": null,
            "right": null,
            "justify_content": null,
            "_view_module": "@jupyter-widgets/base",
            "overflow": null,
            "_model_module_version": "1.2.0",
            "_view_count": null,
            "flex_flow": null,
            "width": null,
            "min_width": null,
            "border": null,
            "align_items": null,
            "bottom": null,
            "_model_module": "@jupyter-widgets/base",
            "top": null,
            "grid_column": null,
            "overflow_y": null,
            "overflow_x": null,
            "grid_auto_flow": null,
            "grid_area": null,
            "grid_template_columns": null,
            "flex": null,
            "_model_name": "LayoutModel",
            "justify_items": null,
            "grid_row": null,
            "max_height": null,
            "align_content": null,
            "visibility": null,
            "align_self": null,
            "height": null,
            "min_height": null,
            "padding": null,
            "grid_auto_rows": null,
            "grid_gap": null,
            "max_width": null,
            "order": null,
            "_view_module_version": "1.2.0",
            "grid_template_areas": null,
            "object_position": null,
            "object_fit": null,
            "grid_auto_columns": null,
            "margin": null,
            "display": null,
            "left": null
          }
        },
        "a345fa8bf10d409d99d84c66fb0b752a": {
          "model_module": "@jupyter-widgets/controls",
          "model_name": "DescriptionStyleModel",
          "state": {
            "_view_name": "StyleView",
            "_model_name": "DescriptionStyleModel",
            "description_width": "",
            "_view_module": "@jupyter-widgets/base",
            "_model_module_version": "1.5.0",
            "_view_count": null,
            "_view_module_version": "1.2.0",
            "_model_module": "@jupyter-widgets/controls"
          }
        },
        "9ff634659cd941e2979633db77aca4ec": {
          "model_module": "@jupyter-widgets/base",
          "model_name": "LayoutModel",
          "state": {
            "_view_name": "LayoutView",
            "grid_template_rows": null,
            "right": null,
            "justify_content": null,
            "_view_module": "@jupyter-widgets/base",
            "overflow": null,
            "_model_module_version": "1.2.0",
            "_view_count": null,
            "flex_flow": null,
            "width": null,
            "min_width": null,
            "border": null,
            "align_items": null,
            "bottom": null,
            "_model_module": "@jupyter-widgets/base",
            "top": null,
            "grid_column": null,
            "overflow_y": null,
            "overflow_x": null,
            "grid_auto_flow": null,
            "grid_area": null,
            "grid_template_columns": null,
            "flex": null,
            "_model_name": "LayoutModel",
            "justify_items": null,
            "grid_row": null,
            "max_height": null,
            "align_content": null,
            "visibility": null,
            "align_self": null,
            "height": null,
            "min_height": null,
            "padding": null,
            "grid_auto_rows": null,
            "grid_gap": null,
            "max_width": null,
            "order": null,
            "_view_module_version": "1.2.0",
            "grid_template_areas": null,
            "object_position": null,
            "object_fit": null,
            "grid_auto_columns": null,
            "margin": null,
            "display": null,
            "left": null
          }
        },
        "9706dd1d740c495ea6bf753fcd122151": {
          "model_module": "@jupyter-widgets/controls",
          "model_name": "HBoxModel",
          "state": {
            "_view_name": "HBoxView",
            "_dom_classes": [],
            "_model_name": "HBoxModel",
            "_view_module": "@jupyter-widgets/controls",
            "_model_module_version": "1.5.0",
            "_view_count": null,
            "_view_module_version": "1.5.0",
            "box_style": "",
            "layout": "IPY_MODEL_d7497bf35cb8443f953cad0df2e6d9bb",
            "_model_module": "@jupyter-widgets/controls",
            "children": [
              "IPY_MODEL_23df55e43ccb447692683def42f1f1c0",
              "IPY_MODEL_dbc06e7b73984fef93b2eb5930d6934b"
            ]
          }
        },
        "d7497bf35cb8443f953cad0df2e6d9bb": {
          "model_module": "@jupyter-widgets/base",
          "model_name": "LayoutModel",
          "state": {
            "_view_name": "LayoutView",
            "grid_template_rows": null,
            "right": null,
            "justify_content": null,
            "_view_module": "@jupyter-widgets/base",
            "overflow": null,
            "_model_module_version": "1.2.0",
            "_view_count": null,
            "flex_flow": null,
            "width": null,
            "min_width": null,
            "border": null,
            "align_items": null,
            "bottom": null,
            "_model_module": "@jupyter-widgets/base",
            "top": null,
            "grid_column": null,
            "overflow_y": null,
            "overflow_x": null,
            "grid_auto_flow": null,
            "grid_area": null,
            "grid_template_columns": null,
            "flex": null,
            "_model_name": "LayoutModel",
            "justify_items": null,
            "grid_row": null,
            "max_height": null,
            "align_content": null,
            "visibility": null,
            "align_self": null,
            "height": null,
            "min_height": null,
            "padding": null,
            "grid_auto_rows": null,
            "grid_gap": null,
            "max_width": null,
            "order": null,
            "_view_module_version": "1.2.0",
            "grid_template_areas": null,
            "object_position": null,
            "object_fit": null,
            "grid_auto_columns": null,
            "margin": null,
            "display": null,
            "left": null
          }
        },
        "23df55e43ccb447692683def42f1f1c0": {
          "model_module": "@jupyter-widgets/controls",
          "model_name": "FloatProgressModel",
          "state": {
            "_view_name": "ProgressView",
            "style": "IPY_MODEL_1a190e2ab87f44418009c03b9c692872",
            "_dom_classes": [],
            "description": "Downloading: 100%",
            "_model_name": "FloatProgressModel",
            "bar_style": "success",
            "max": 440473133,
            "_view_module": "@jupyter-widgets/controls",
            "_model_module_version": "1.5.0",
            "value": 440473133,
            "_view_count": null,
            "_view_module_version": "1.5.0",
            "orientation": "horizontal",
            "min": 0,
            "description_tooltip": null,
            "_model_module": "@jupyter-widgets/controls",
            "layout": "IPY_MODEL_8df3dc66f32e4c3a82729d6dc4f7e7f3"
          }
        },
        "dbc06e7b73984fef93b2eb5930d6934b": {
          "model_module": "@jupyter-widgets/controls",
          "model_name": "HTMLModel",
          "state": {
            "_view_name": "HTMLView",
            "style": "IPY_MODEL_6d5c0dee648a494094d4f3798f7c95df",
            "_dom_classes": [],
            "description": "",
            "_model_name": "HTMLModel",
            "placeholder": "​",
            "_view_module": "@jupyter-widgets/controls",
            "_model_module_version": "1.5.0",
            "value": " 440M/440M [00:09&lt;00:00, 44.3MB/s]",
            "_view_count": null,
            "_view_module_version": "1.5.0",
            "description_tooltip": null,
            "_model_module": "@jupyter-widgets/controls",
            "layout": "IPY_MODEL_5670f49cde9247158c2071e2882881d1"
          }
        },
        "1a190e2ab87f44418009c03b9c692872": {
          "model_module": "@jupyter-widgets/controls",
          "model_name": "ProgressStyleModel",
          "state": {
            "_view_name": "StyleView",
            "_model_name": "ProgressStyleModel",
            "description_width": "initial",
            "_view_module": "@jupyter-widgets/base",
            "_model_module_version": "1.5.0",
            "_view_count": null,
            "_view_module_version": "1.2.0",
            "bar_color": null,
            "_model_module": "@jupyter-widgets/controls"
          }
        },
        "8df3dc66f32e4c3a82729d6dc4f7e7f3": {
          "model_module": "@jupyter-widgets/base",
          "model_name": "LayoutModel",
          "state": {
            "_view_name": "LayoutView",
            "grid_template_rows": null,
            "right": null,
            "justify_content": null,
            "_view_module": "@jupyter-widgets/base",
            "overflow": null,
            "_model_module_version": "1.2.0",
            "_view_count": null,
            "flex_flow": null,
            "width": null,
            "min_width": null,
            "border": null,
            "align_items": null,
            "bottom": null,
            "_model_module": "@jupyter-widgets/base",
            "top": null,
            "grid_column": null,
            "overflow_y": null,
            "overflow_x": null,
            "grid_auto_flow": null,
            "grid_area": null,
            "grid_template_columns": null,
            "flex": null,
            "_model_name": "LayoutModel",
            "justify_items": null,
            "grid_row": null,
            "max_height": null,
            "align_content": null,
            "visibility": null,
            "align_self": null,
            "height": null,
            "min_height": null,
            "padding": null,
            "grid_auto_rows": null,
            "grid_gap": null,
            "max_width": null,
            "order": null,
            "_view_module_version": "1.2.0",
            "grid_template_areas": null,
            "object_position": null,
            "object_fit": null,
            "grid_auto_columns": null,
            "margin": null,
            "display": null,
            "left": null
          }
        },
        "6d5c0dee648a494094d4f3798f7c95df": {
          "model_module": "@jupyter-widgets/controls",
          "model_name": "DescriptionStyleModel",
          "state": {
            "_view_name": "StyleView",
            "_model_name": "DescriptionStyleModel",
            "description_width": "",
            "_view_module": "@jupyter-widgets/base",
            "_model_module_version": "1.5.0",
            "_view_count": null,
            "_view_module_version": "1.2.0",
            "_model_module": "@jupyter-widgets/controls"
          }
        },
        "5670f49cde9247158c2071e2882881d1": {
          "model_module": "@jupyter-widgets/base",
          "model_name": "LayoutModel",
          "state": {
            "_view_name": "LayoutView",
            "grid_template_rows": null,
            "right": null,
            "justify_content": null,
            "_view_module": "@jupyter-widgets/base",
            "overflow": null,
            "_model_module_version": "1.2.0",
            "_view_count": null,
            "flex_flow": null,
            "width": null,
            "min_width": null,
            "border": null,
            "align_items": null,
            "bottom": null,
            "_model_module": "@jupyter-widgets/base",
            "top": null,
            "grid_column": null,
            "overflow_y": null,
            "overflow_x": null,
            "grid_auto_flow": null,
            "grid_area": null,
            "grid_template_columns": null,
            "flex": null,
            "_model_name": "LayoutModel",
            "justify_items": null,
            "grid_row": null,
            "max_height": null,
            "align_content": null,
            "visibility": null,
            "align_self": null,
            "height": null,
            "min_height": null,
            "padding": null,
            "grid_auto_rows": null,
            "grid_gap": null,
            "max_width": null,
            "order": null,
            "_view_module_version": "1.2.0",
            "grid_template_areas": null,
            "object_position": null,
            "object_fit": null,
            "grid_auto_columns": null,
            "margin": null,
            "display": null,
            "left": null
          }
        }
      }
    }
  },
  "cells": [
    {
      "cell_type": "markdown",
      "metadata": {
        "id": "view-in-github",
        "colab_type": "text"
      },
      "source": [
        "<a href=\"https://colab.research.google.com/github/sehgalsakshi/Content-Based-Recommendation-System/blob/main/Content_Based_Recommendation_(BERT_TFIDF_Word2Vec).ipynb\" target=\"_parent\"><img src=\"https://colab.research.google.com/assets/colab-badge.svg\" alt=\"Open In Colab\"/></a>"
      ]
    },
    {
      "cell_type": "markdown",
      "metadata": {
        "id": "lARTqQ7n583U"
      },
      "source": [
        "**Content Based Recommendation System**\n",
        "\n",
        "Word embeddings generated using:\n",
        "\n",
        "*   BERT Vectors/ Can be used for any transformer by changing model name\n",
        "*   TF-IDF Vectors\n",
        "*   Word2Vec Vectors\n",
        "*   Combined Word2Vec and TF-IDF Vectors\n",
        "\n",
        "Steps for all embeddings are same. It's bit elaborative in the notebook for BERT embeddings for better understanding.\n",
        "\n",
        "**Read and Preprocess Data**\n",
        "\n",
        "\n",
        "*   Different preprocessing is required for transformer based models since they require minimal preprocessing.\n",
        "\n",
        "<br>**Vector Generation**\n",
        "*   Vectors are generated using classes extending TransformerMixin and BaseEstimator. Since such a class can be added to a column transformer and fit over the particular column of the data.\n",
        "\n",
        "<br>**Column Transformer**\n",
        "*   Create a column transformer instance where column/ array is tranformed as per the vector generation class\n",
        "\n",
        "<br>**Generation word Embeddings**\n",
        "*   This is just putting above 2 steps into action. Word Embeddings are generated for desired column (sent as numpy array) applying column transformers which in turn returns a list of word embedding for each row. \n",
        "We save this as a new column in the dataframe\n",
        "\n",
        "<br>**Cosine Similarity**\n",
        "*   Once we've numerical representation of text as per desired word embedding, last step is just to calculate the similarity of two vectors given by the cosine similarity score between the two\n",
        "*   Also an N x N similarity matrix is constructed which contains similarity score between all N rows of description with each other\n",
        "\n",
        "<br>**Construction of Recommendation System**\n",
        "*   Here are just few methods written for giving a list of similar books.\n",
        "*   As of now books can be recommended using title or description\n",
        "*   If title is present in the dataframe, it looks for top 5 similar books for as many number of books that have the same title\n",
        "*   If user inputs description, word embeddings for description are generated on the fly and it's similarity score is compared with all the row vectors (saved in data frame itself) and top 5 books are recommended.\n",
        "*   There is also a parameter that allows partial filtering by rating. It first finds double the number of books to recommend to user over a certain threshold and then sorts the 2*n books by ratings and returns top n books.\n",
        "*   Another approach could have been sorting by ratings first and then by score but this might have returned very high rated books but less similarity score.\n",
        "\n",
        "<br>**Future Scope**\n",
        "*   Abstractive/ Extractive summarization of longer description\n",
        "*   Right now absolute title are looked for while recommending, spell checks or slightly different titles won't return any result. This can be made flexible by using fuzzy match with the title (using fuzzy wuzzy or string matching library/ algorithm)\n",
        "*   More filtering options can be configured. Implicit/ Explicit Filters can be added for author name, genre, rating etc."
      ]
    },
    {
      "cell_type": "markdown",
      "metadata": {
        "id": "W5Apz34e52y2"
      },
      "source": [
        "# Installing libraries"
      ]
    },
    {
      "cell_type": "code",
      "metadata": {
        "id": "MFpf99rpjaTA",
        "colab": {
          "base_uri": "https://localhost:8080/"
        },
        "outputId": "fec5f87c-0150-45fe-f019-a9e13686a1e1"
      },
      "source": [
        "# Importing necessary libraries\n",
        "import pandas as pd\n",
        "import numpy as np\n",
        "import nltk\n",
        "nltk.download('stopwords')\n",
        "from nltk.corpus import stopwords\n",
        "from sklearn.metrics.pairwise import linear_kernel\n",
        "from sklearn.feature_extraction.text import CountVectorizer\n",
        "from sklearn.feature_extraction.text import TfidfVectorizer\n",
        "from nltk.tokenize import RegexpTokenizer\n",
        "import re\n",
        "import string\n",
        "import random\n",
        "from PIL import Image\n",
        "import requests\n",
        "from io import BytesIO\n",
        "import matplotlib.pyplot as plt\n",
        "%matplotlib inline\n",
        "from sklearn.metrics.pairwise import cosine_similarity\n",
        "from gensim.models import Word2Vec\n",
        "from gensim.models.phrases import Phrases, Phraser\n",
        "from matplotlib import pyplot\n",
        "from gensim.models import KeyedVectors"
      ],
      "execution_count": 1,
      "outputs": [
        {
          "output_type": "stream",
          "text": [
            "[nltk_data] Downloading package stopwords to /root/nltk_data...\n",
            "[nltk_data]   Unzipping corpora/stopwords.zip.\n"
          ],
          "name": "stdout"
        }
      ]
    },
    {
      "cell_type": "code",
      "metadata": {
        "colab": {
          "base_uri": "https://localhost:8080/"
        },
        "id": "d7Kfd7eVz5DW",
        "outputId": "33ad4a93-e694-425f-8e14-e1b0ea6e82af"
      },
      "source": [
        "joblib.dump(cosine_similarity_w2v_tf_idf,'cosine_similarity_w2v_tf_idf.pkl')"
      ],
      "execution_count": 245,
      "outputs": [
        {
          "output_type": "execute_result",
          "data": {
            "text/plain": [
              "['cosine_similarity_w2v_tf_idf.pkl']"
            ]
          },
          "metadata": {
            "tags": []
          },
          "execution_count": 245
        }
      ]
    },
    {
      "cell_type": "markdown",
      "metadata": {
        "id": "Za_oEiJ16AP0"
      },
      "source": [
        "# Reading the Data"
      ]
    },
    {
      "cell_type": "code",
      "metadata": {
        "id": "vHfkyO_vjdVA"
      },
      "source": [
        "# Reading the data\n",
        "df = pd.read_csv(\"good_reads_data.csv\")"
      ],
      "execution_count": 5,
      "outputs": []
    },
    {
      "cell_type": "code",
      "metadata": {
        "colab": {
          "base_uri": "https://localhost:8080/"
        },
        "id": "z7JOM1hLtpPE",
        "outputId": "3c02ab82-15d7-4b03-a1a7-580f438901f3"
      },
      "source": [
        "df.columns"
      ],
      "execution_count": 6,
      "outputs": [
        {
          "output_type": "execute_result",
          "data": {
            "text/plain": [
              "Index(['Unnamed: 0', 'Desc', 'Unnamed: 0.1', 'author', 'genre', 'image_link',\n",
              "       'rating', 'title'],\n",
              "      dtype='object')"
            ]
          },
          "metadata": {
            "tags": []
          },
          "execution_count": 6
        }
      ]
    },
    {
      "cell_type": "code",
      "metadata": {
        "colab": {
          "base_uri": "https://localhost:8080/",
          "height": 635
        },
        "id": "R61eWTt1tasD",
        "outputId": "3e87cc46-8263-412d-ec79-425e2397a13b"
      },
      "source": [
        "df"
      ],
      "execution_count": 7,
      "outputs": [
        {
          "output_type": "execute_result",
          "data": {
            "text/html": [
              "<div>\n",
              "<style scoped>\n",
              "    .dataframe tbody tr th:only-of-type {\n",
              "        vertical-align: middle;\n",
              "    }\n",
              "\n",
              "    .dataframe tbody tr th {\n",
              "        vertical-align: top;\n",
              "    }\n",
              "\n",
              "    .dataframe thead th {\n",
              "        text-align: right;\n",
              "    }\n",
              "</style>\n",
              "<table border=\"1\" class=\"dataframe\">\n",
              "  <thead>\n",
              "    <tr style=\"text-align: right;\">\n",
              "      <th></th>\n",
              "      <th>Unnamed: 0</th>\n",
              "      <th>Desc</th>\n",
              "      <th>Unnamed: 0.1</th>\n",
              "      <th>author</th>\n",
              "      <th>genre</th>\n",
              "      <th>image_link</th>\n",
              "      <th>rating</th>\n",
              "      <th>title</th>\n",
              "    </tr>\n",
              "  </thead>\n",
              "  <tbody>\n",
              "    <tr>\n",
              "      <th>0</th>\n",
              "      <td>0</td>\n",
              "      <td>We know that power is shifting: From West to E...</td>\n",
              "      <td>0.0</td>\n",
              "      <td>Moisés Naím</td>\n",
              "      <td>Business</td>\n",
              "      <td>https://i.gr-assets.com/images/S/compressed.ph...</td>\n",
              "      <td>3.63</td>\n",
              "      <td>The End of Power: From Boardrooms to Battlefie...</td>\n",
              "    </tr>\n",
              "    <tr>\n",
              "      <th>1</th>\n",
              "      <td>1</td>\n",
              "      <td>Following the success of The Accidental Billio...</td>\n",
              "      <td>1.0</td>\n",
              "      <td>Blake J. Harris</td>\n",
              "      <td>Business</td>\n",
              "      <td>https://i.gr-assets.com/images/S/compressed.ph...</td>\n",
              "      <td>3.94</td>\n",
              "      <td>Console Wars: Sega, Nintendo, and the Battle t...</td>\n",
              "    </tr>\n",
              "    <tr>\n",
              "      <th>2</th>\n",
              "      <td>2</td>\n",
              "      <td>How to tap the power of social software and ne...</td>\n",
              "      <td>2.0</td>\n",
              "      <td>Chris Brogan</td>\n",
              "      <td>Business</td>\n",
              "      <td>https://i.gr-assets.com/images/S/compressed.ph...</td>\n",
              "      <td>3.78</td>\n",
              "      <td>Trust Agents: Using the Web to Build Influence...</td>\n",
              "    </tr>\n",
              "    <tr>\n",
              "      <th>3</th>\n",
              "      <td>3</td>\n",
              "      <td>William J. Bernstein is an American financial ...</td>\n",
              "      <td>3.0</td>\n",
              "      <td>William J. Bernstein</td>\n",
              "      <td>Business</td>\n",
              "      <td>https://i.gr-assets.com/images/S/compressed.ph...</td>\n",
              "      <td>4.20</td>\n",
              "      <td>The Four Pillars of Investing</td>\n",
              "    </tr>\n",
              "    <tr>\n",
              "      <th>4</th>\n",
              "      <td>4</td>\n",
              "      <td>Amazing book. And I joined Steve Jobs and many...</td>\n",
              "      <td>4.0</td>\n",
              "      <td>Akio Morita</td>\n",
              "      <td>Business</td>\n",
              "      <td>https://i.gr-assets.com/images/S/compressed.ph...</td>\n",
              "      <td>4.05</td>\n",
              "      <td>Made in Japan: Akio Morita and Sony</td>\n",
              "    </tr>\n",
              "    <tr>\n",
              "      <th>...</th>\n",
              "      <td>...</td>\n",
              "      <td>...</td>\n",
              "      <td>...</td>\n",
              "      <td>...</td>\n",
              "      <td>...</td>\n",
              "      <td>...</td>\n",
              "      <td>...</td>\n",
              "      <td>...</td>\n",
              "    </tr>\n",
              "    <tr>\n",
              "      <th>2377</th>\n",
              "      <td>2446</td>\n",
              "      <td>Ralph Roberts, a sus setenta años y tras la mu...</td>\n",
              "      <td>NaN</td>\n",
              "      <td>Stephen King</td>\n",
              "      <td>Non-Fiction</td>\n",
              "      <td>https://i.gr-assets.com/images/S/compressed.ph...</td>\n",
              "      <td>3.82</td>\n",
              "      <td>Insomnia</td>\n",
              "    </tr>\n",
              "    <tr>\n",
              "      <th>2378</th>\n",
              "      <td>2447</td>\n",
              "      <td>Murder at the Vicarage marks the debut of Agat...</td>\n",
              "      <td>NaN</td>\n",
              "      <td>Agatha Christie</td>\n",
              "      <td>Non-Fiction</td>\n",
              "      <td>https://i.gr-assets.com/images/S/compressed.ph...</td>\n",
              "      <td>4.05</td>\n",
              "      <td>Murder at the Vicarage</td>\n",
              "    </tr>\n",
              "    <tr>\n",
              "      <th>2379</th>\n",
              "      <td>2448</td>\n",
              "      <td>In 1951 John Wyndham published his novel The D...</td>\n",
              "      <td>NaN</td>\n",
              "      <td>John Wyndham</td>\n",
              "      <td>Non-Fiction</td>\n",
              "      <td>https://i.gr-assets.com/images/S/compressed.ph...</td>\n",
              "      <td>4.02</td>\n",
              "      <td>The Day of the Triffids</td>\n",
              "    </tr>\n",
              "    <tr>\n",
              "      <th>2380</th>\n",
              "      <td>2449</td>\n",
              "      <td>This now classic book revealed Flannery O'Conn...</td>\n",
              "      <td>NaN</td>\n",
              "      <td>Flannery O'Connor</td>\n",
              "      <td>Non-Fiction</td>\n",
              "      <td>https://i.gr-assets.com/images/S/compressed.ph...</td>\n",
              "      <td>4.22</td>\n",
              "      <td>A Good Man is Hard to Find and Other Stories</td>\n",
              "    </tr>\n",
              "    <tr>\n",
              "      <th>2381</th>\n",
              "      <td>2450</td>\n",
              "      <td>Imbued on every page with Frank McCourt's asto...</td>\n",
              "      <td>NaN</td>\n",
              "      <td>Frank McCourt</td>\n",
              "      <td>Non-Fiction</td>\n",
              "      <td>https://i.gr-assets.com/images/S/compressed.ph...</td>\n",
              "      <td>4.11</td>\n",
              "      <td>Angela's Ashes</td>\n",
              "    </tr>\n",
              "  </tbody>\n",
              "</table>\n",
              "<p>2382 rows × 8 columns</p>\n",
              "</div>"
            ],
            "text/plain": [
              "      Unnamed: 0  ...                                              title\n",
              "0              0  ...  The End of Power: From Boardrooms to Battlefie...\n",
              "1              1  ...  Console Wars: Sega, Nintendo, and the Battle t...\n",
              "2              2  ...  Trust Agents: Using the Web to Build Influence...\n",
              "3              3  ...                      The Four Pillars of Investing\n",
              "4              4  ...                Made in Japan: Akio Morita and Sony\n",
              "...          ...  ...                                                ...\n",
              "2377        2446  ...                                           Insomnia\n",
              "2378        2447  ...                             Murder at the Vicarage\n",
              "2379        2448  ...                            The Day of the Triffids\n",
              "2380        2449  ...       A Good Man is Hard to Find and Other Stories\n",
              "2381        2450  ...                                     Angela's Ashes\n",
              "\n",
              "[2382 rows x 8 columns]"
            ]
          },
          "metadata": {
            "tags": []
          },
          "execution_count": 7
        }
      ]
    },
    {
      "cell_type": "markdown",
      "metadata": {
        "id": "ctU4sTG5FiDg"
      },
      "source": [
        "# Text Preprocessing"
      ]
    },
    {
      "cell_type": "code",
      "metadata": {
        "id": "BDvUYfOZjvB5"
      },
      "source": [
        "#Utitlity functions for removing ASCII characters, converting lower case, removing stop words, html and punctuation from description\n",
        "\n",
        "def _removeNonAscii(s):\n",
        "    return \"\".join(i for i in s if  ord(i)<128)\n",
        "\n",
        "def make_lower_case(text):\n",
        "    return text.lower()\n",
        "\n",
        "def remove_stop_words(text):\n",
        "    text = text.split()\n",
        "    stops = set(stopwords.words(\"english\"))\n",
        "    text = [w for w in text if not w in stops]\n",
        "    text = \" \".join(text)\n",
        "    return text\n",
        "\n",
        "def remove_html(text):\n",
        "    html_pattern = re.compile('<.*?>')\n",
        "    return html_pattern.sub(r'', text)\n",
        "\n",
        "def remove_punctuation(text):\n",
        "    tokenizer = RegexpTokenizer(r'\\w+')\n",
        "    text = tokenizer.tokenize(text)\n",
        "    text = \" \".join(text)\n",
        "    return text"
      ],
      "execution_count": 123,
      "outputs": []
    },
    {
      "cell_type": "code",
      "metadata": {
        "id": "sOiemLX0kvQ8"
      },
      "source": [
        "df['Desc'] = df['Desc'].astype(str)"
      ],
      "execution_count": 9,
      "outputs": []
    },
    {
      "cell_type": "markdown",
      "metadata": {
        "id": "cOLCSwTEGccM"
      },
      "source": [
        "Since for bert/ any transformer based, we need minimum text preprocessing and for other embeddings, we need exhaustive preprocessing steps. Hence creating 2 different preprocessed columns\n",
        "\n",
        "\n",
        "*   cleaned for bert\n",
        "*   cleaned_2 for tfidf and word2vec\n",
        "\n"
      ]
    },
    {
      "cell_type": "code",
      "metadata": {
        "id": "J1JAUqqh2AF9"
      },
      "source": [
        "df['cleaned'] = df['Desc'].apply(_removeNonAscii)\n",
        "df['cleaned_2'] = df['Desc'].apply(_removeNonAscii)\n",
        "df['cleaned_2'] = df.cleaned.apply(func = make_lower_case)\n",
        "df['cleaned_2'] = df.cleaned.apply(func = remove_stop_words)\n",
        "df['cleaned_2'] = df.cleaned.apply(func=remove_punctuation)\n",
        "df['cleaned'] = df.cleaned.apply(func=remove_html)\n",
        "df['cleaned_2'] = df.cleaned.apply(func=remove_html)"
      ],
      "execution_count": 10,
      "outputs": []
    },
    {
      "cell_type": "code",
      "metadata": {
        "id": "0iq4G9ATxcV1",
        "colab": {
          "base_uri": "https://localhost:8080/"
        },
        "outputId": "f2b899f4-6568-4652-f2b9-36827ee563d4"
      },
      "source": [
        "df.columns"
      ],
      "execution_count": 11,
      "outputs": [
        {
          "output_type": "execute_result",
          "data": {
            "text/plain": [
              "Index(['Unnamed: 0', 'Desc', 'Unnamed: 0.1', 'author', 'genre', 'image_link',\n",
              "       'rating', 'title', 'cleaned', 'cleaned_2'],\n",
              "      dtype='object')"
            ]
          },
          "metadata": {
            "tags": []
          },
          "execution_count": 11
        }
      ]
    },
    {
      "cell_type": "code",
      "metadata": {
        "id": "TnPhzsLuxaTy"
      },
      "source": [
        "df.drop(df.columns[0], axis=1, inplace=True)"
      ],
      "execution_count": 12,
      "outputs": []
    },
    {
      "cell_type": "markdown",
      "metadata": {
        "id": "K0S_EHFParcV"
      },
      "source": [
        "## Basic EDA"
      ]
    },
    {
      "cell_type": "code",
      "metadata": {
        "id": "OeeSe0K7azsK"
      },
      "source": [
        "from matplotlib import pyplot as plt\n",
        "import seaborn as sns"
      ],
      "execution_count": 18,
      "outputs": []
    },
    {
      "cell_type": "code",
      "metadata": {
        "colab": {
          "base_uri": "https://localhost:8080/",
          "height": 367
        },
        "id": "_YdCZBhpaH7I",
        "outputId": "77134c4c-0571-4bb1-d548-66cf16fdefb0"
      },
      "source": [
        "fig, ax = plt.subplots(figsize=(10,5))\n",
        "sns.kdeplot(df.cleaned.str.split().apply(len))\n",
        "plt.title(\"Distribution of Desc Length\")"
      ],
      "execution_count": 19,
      "outputs": [
        {
          "output_type": "execute_result",
          "data": {
            "text/plain": [
              "Text(0.5, 1.0, 'Distribution of Desc Length')"
            ]
          },
          "metadata": {
            "tags": []
          },
          "execution_count": 19
        },
        {
          "output_type": "display_data",
          "data": {
            "image/png": "[encoded data removed]",
            "text/plain": [
              "<Figure size 720x360 with 1 Axes>"
            ]
          },
          "metadata": {
            "tags": [],
            "needs_background": "light"
          }
        }
      ]
    },
    {
      "cell_type": "code",
      "metadata": {
        "colab": {
          "base_uri": "https://localhost:8080/",
          "height": 348
        },
        "id": "TNHroU0gcj9U",
        "outputId": "553cd46b-45ea-437e-fb51-d3fa2fbea2b9"
      },
      "source": [
        "fig,(ax1,ax2) = plt.subplots(1,2,figsize=(20,5))\n",
        "sns.kdeplot(df.cleaned.str.split().apply(len), ax=ax1, hue=df.genre)\n",
        "ax1.set_title('With stop words')\n",
        "sns.kdeplot(df.cleaned.apply(func = remove_stop_words).str.split().apply(len), hue=df.genre, ax=ax2)\n",
        "ax2.set_title('Without stop words')\n",
        "fig.suptitle(\"Distribution of Desc Length\")\n",
        "plt.show()"
      ],
      "execution_count": 20,
      "outputs": [
        {
          "output_type": "display_data",
          "data": {
            "image/png": "[encoded data removed]",
            "text/plain": [
              "<Figure size 1440x360 with 2 Axes>"
            ]
          },
          "metadata": {
            "tags": [],
            "needs_background": "light"
          }
        }
      ]
    },
    {
      "cell_type": "markdown",
      "metadata": {
        "id": "KsjquhlAbCrO"
      },
      "source": [
        "Checking desc length before and after removing stopwords.\n",
        "<br>Since we are interested in bert embeddings, whose max token length is 512, for text descriptions greater than this length, let's apply stop words removal to generate vectors for most relevant words. \n",
        "\n",
        "**Another approach can be to perform further summarization of longer texts using any abstractive/ extractive summarization model**"
      ]
    },
    {
      "cell_type": "code",
      "metadata": {
        "id": "UGxKJc28fKBE"
      },
      "source": [
        "df['cleaned'] = df.cleaned.apply(lambda x : remove_stop_words(x) if len(x.split())>512 else x)"
      ],
      "execution_count": 21,
      "outputs": []
    },
    {
      "cell_type": "code",
      "metadata": {
        "colab": {
          "base_uri": "https://localhost:8080/",
          "height": 367
        },
        "id": "N8l_F_O5fyoH",
        "outputId": "38003330-0012-4c3e-958d-0bf8e7f820ce"
      },
      "source": [
        "fig, ax = plt.subplots(figsize=(10,5))\n",
        "sns.kdeplot(df.cleaned.str.split().apply(len))\n",
        "plt.title(\"Distribution of Desc Length\")"
      ],
      "execution_count": 22,
      "outputs": [
        {
          "output_type": "execute_result",
          "data": {
            "text/plain": [
              "Text(0.5, 1.0, 'Distribution of Desc Length')"
            ]
          },
          "metadata": {
            "tags": []
          },
          "execution_count": 22
        },
        {
          "output_type": "display_data",
          "data": {
            "image/png": "[encoded data removed]",
            "text/plain": [
              "<Figure size 720x360 with 1 Axes>"
            ]
          },
          "metadata": {
            "tags": [],
            "needs_background": "light"
          }
        }
      ]
    },
    {
      "cell_type": "markdown",
      "metadata": {
        "id": "lsZxOm49zcBo"
      },
      "source": [
        "# Bert/ Transformer Vectors Generation"
      ]
    },
    {
      "cell_type": "code",
      "metadata": {
        "colab": {
          "base_uri": "https://localhost:8080/",
          "height": 1000
        },
        "id": "sEQCi9lSzg-g",
        "outputId": "0de62124-09c4-4343-9edf-55e4d17a268d"
      },
      "source": [
        "!pip install flair"
      ],
      "execution_count": 124,
      "outputs": [
        {
          "output_type": "stream",
          "text": [
            "Collecting flair\n",
            "  Downloading flair-0.8.0.post1-py3-none-any.whl (284 kB)\n",
            "\u001b[K     |████████████████████████████████| 284 kB 5.1 MB/s \n",
            "\u001b[?25hRequirement already satisfied: gensim<=3.8.3,>=3.4.0 in /usr/local/lib/python3.7/dist-packages (from flair) (3.6.0)\n",
            "Requirement already satisfied: numpy<1.20.0 in /usr/local/lib/python3.7/dist-packages (from flair) (1.19.5)\n",
            "Collecting sentencepiece==0.1.95\n",
            "  Downloading sentencepiece-0.1.95-cp37-cp37m-manylinux2014_x86_64.whl (1.2 MB)\n",
            "\u001b[K     |████████████████████████████████| 1.2 MB 8.0 MB/s \n",
            "\u001b[?25hCollecting sqlitedict>=1.6.0\n",
            "  Downloading sqlitedict-1.7.0.tar.gz (28 kB)\n",
            "Collecting bpemb>=0.3.2\n",
            "  Downloading bpemb-0.3.3-py3-none-any.whl (19 kB)\n",
            "Requirement already satisfied: tqdm>=4.26.0 in /usr/local/lib/python3.7/dist-packages (from flair) (4.41.1)\n",
            "Collecting janome\n",
            "  Downloading Janome-0.4.1-py2.py3-none-any.whl (19.7 MB)\n",
            "\u001b[K     |████████████████████████████████| 19.7 MB 1.2 MB/s \n",
            "\u001b[?25hRequirement already satisfied: hyperopt>=0.1.1 in /usr/local/lib/python3.7/dist-packages (from flair) (0.1.2)\n",
            "Collecting gdown==3.12.2\n",
            "  Downloading gdown-3.12.2.tar.gz (8.2 kB)\n",
            "  Installing build dependencies ... \u001b[?25l\u001b[?25hdone\n",
            "  Getting requirements to build wheel ... \u001b[?25l\u001b[?25hdone\n",
            "    Preparing wheel metadata ... \u001b[?25l\u001b[?25hdone\n",
            "Collecting konoha<5.0.0,>=4.0.0\n",
            "  Downloading konoha-4.6.5-py3-none-any.whl (20 kB)\n",
            "Collecting transformers>=4.0.0\n",
            "  Downloading transformers-4.9.0-py3-none-any.whl (2.6 MB)\n",
            "\u001b[K     |████████████████████████████████| 2.6 MB 34.2 MB/s \n",
            "\u001b[?25hRequirement already satisfied: scikit-learn>=0.21.3 in /usr/local/lib/python3.7/dist-packages (from flair) (0.22.2.post1)\n",
            "Requirement already satisfied: regex in /usr/local/lib/python3.7/dist-packages (from flair) (2019.12.20)\n",
            "Requirement already satisfied: lxml in /usr/local/lib/python3.7/dist-packages (from flair) (4.2.6)\n",
            "Requirement already satisfied: matplotlib>=2.2.3 in /usr/local/lib/python3.7/dist-packages (from flair) (3.2.2)\n",
            "Collecting mpld3==0.3\n",
            "  Downloading mpld3-0.3.tar.gz (788 kB)\n",
            "\u001b[K     |████████████████████████████████| 788 kB 22.9 MB/s \n",
            "\u001b[?25hCollecting huggingface-hub\n",
            "  Downloading huggingface_hub-0.0.14-py3-none-any.whl (43 kB)\n",
            "\u001b[K     |████████████████████████████████| 43 kB 1.3 MB/s \n",
            "\u001b[?25hCollecting deprecated>=1.2.4\n",
            "  Downloading Deprecated-1.2.12-py2.py3-none-any.whl (9.5 kB)\n",
            "Collecting ftfy\n",
            "  Downloading ftfy-6.0.3.tar.gz (64 kB)\n",
            "\u001b[K     |████████████████████████████████| 64 kB 2.5 MB/s \n",
            "\u001b[?25hRequirement already satisfied: python-dateutil>=2.6.1 in /usr/local/lib/python3.7/dist-packages (from flair) (2.8.1)\n",
            "Collecting langdetect\n",
            "  Downloading langdetect-1.0.9.tar.gz (981 kB)\n",
            "\u001b[K     |████████████████████████████████| 981 kB 33.4 MB/s \n",
            "\u001b[?25hCollecting segtok>=1.5.7\n",
            "  Downloading segtok-1.5.10.tar.gz (25 kB)\n",
            "Collecting torch<=1.7.1,>=1.5.0\n",
            "  Downloading torch-1.7.1-cp37-cp37m-manylinux1_x86_64.whl (776.8 MB)\n",
            "\u001b[K     |████████████████████████████████| 776.8 MB 12 kB/s \n",
            "\u001b[?25hRequirement already satisfied: tabulate in /usr/local/lib/python3.7/dist-packages (from flair) (0.8.9)\n",
            "Requirement already satisfied: requests[socks] in /usr/local/lib/python3.7/dist-packages (from gdown==3.12.2->flair) (2.23.0)\n",
            "Requirement already satisfied: six in /usr/local/lib/python3.7/dist-packages (from gdown==3.12.2->flair) (1.15.0)\n",
            "Requirement already satisfied: filelock in /usr/local/lib/python3.7/dist-packages (from gdown==3.12.2->flair) (3.0.12)\n",
            "Requirement already satisfied: wrapt<2,>=1.10 in /usr/local/lib/python3.7/dist-packages (from deprecated>=1.2.4->flair) (1.12.1)\n",
            "Requirement already satisfied: scipy>=0.18.1 in /usr/local/lib/python3.7/dist-packages (from gensim<=3.8.3,>=3.4.0->flair) (1.4.1)\n",
            "Requirement already satisfied: smart-open>=1.2.1 in /usr/local/lib/python3.7/dist-packages (from gensim<=3.8.3,>=3.4.0->flair) (5.1.0)\n",
            "Requirement already satisfied: networkx in /usr/local/lib/python3.7/dist-packages (from hyperopt>=0.1.1->flair) (2.5.1)\n",
            "Requirement already satisfied: future in /usr/local/lib/python3.7/dist-packages (from hyperopt>=0.1.1->flair) (0.16.0)\n",
            "Requirement already satisfied: pymongo in /usr/local/lib/python3.7/dist-packages (from hyperopt>=0.1.1->flair) (3.11.4)\n",
            "Collecting overrides<4.0.0,>=3.0.0\n",
            "  Downloading overrides-3.1.0.tar.gz (11 kB)\n",
            "Collecting importlib-metadata<4.0.0,>=3.7.0\n",
            "  Downloading importlib_metadata-3.10.1-py3-none-any.whl (14 kB)\n",
            "Collecting requests\n",
            "  Downloading requests-2.26.0-py2.py3-none-any.whl (62 kB)\n",
            "\u001b[K     |████████████████████████████████| 62 kB 715 kB/s \n",
            "\u001b[?25hRequirement already satisfied: typing-extensions>=3.6.4 in /usr/local/lib/python3.7/dist-packages (from importlib-metadata<4.0.0,>=3.7.0->konoha<5.0.0,>=4.0.0->flair) (3.7.4.3)\n",
            "Requirement already satisfied: zipp>=0.5 in /usr/local/lib/python3.7/dist-packages (from importlib-metadata<4.0.0,>=3.7.0->konoha<5.0.0,>=4.0.0->flair) (3.5.0)\n",
            "Requirement already satisfied: pyparsing!=2.0.4,!=2.1.2,!=2.1.6,>=2.0.1 in /usr/local/lib/python3.7/dist-packages (from matplotlib>=2.2.3->flair) (2.4.7)\n",
            "Requirement already satisfied: kiwisolver>=1.0.1 in /usr/local/lib/python3.7/dist-packages (from matplotlib>=2.2.3->flair) (1.3.1)\n",
            "Requirement already satisfied: cycler>=0.10 in /usr/local/lib/python3.7/dist-packages (from matplotlib>=2.2.3->flair) (0.10.0)\n",
            "Requirement already satisfied: charset-normalizer~=2.0.0 in /usr/local/lib/python3.7/dist-packages (from requests->bpemb>=0.3.2->flair) (2.0.2)\n",
            "Requirement already satisfied: certifi>=2017.4.17 in /usr/local/lib/python3.7/dist-packages (from requests->bpemb>=0.3.2->flair) (2021.5.30)\n",
            "Requirement already satisfied: urllib3<1.27,>=1.21.1 in /usr/local/lib/python3.7/dist-packages (from requests->bpemb>=0.3.2->flair) (1.24.3)\n",
            "Requirement already satisfied: idna<4,>=2.5 in /usr/local/lib/python3.7/dist-packages (from requests->bpemb>=0.3.2->flair) (2.10)\n",
            "Requirement already satisfied: joblib>=0.11 in /usr/local/lib/python3.7/dist-packages (from scikit-learn>=0.21.3->flair) (1.0.1)\n",
            "Collecting huggingface-hub\n",
            "  Downloading huggingface_hub-0.0.12-py3-none-any.whl (37 kB)\n",
            "Collecting tokenizers<0.11,>=0.10.1\n",
            "  Downloading tokenizers-0.10.3-cp37-cp37m-manylinux_2_5_x86_64.manylinux1_x86_64.manylinux_2_12_x86_64.manylinux2010_x86_64.whl (3.3 MB)\n",
            "\u001b[K     |████████████████████████████████| 3.3 MB 30.7 MB/s \n",
            "\u001b[?25hCollecting sacremoses\n",
            "  Downloading sacremoses-0.0.45-py3-none-any.whl (895 kB)\n",
            "\u001b[K     |████████████████████████████████| 895 kB 40.5 MB/s \n",
            "\u001b[?25hCollecting pyyaml>=5.1\n",
            "  Downloading PyYAML-5.4.1-cp37-cp37m-manylinux1_x86_64.whl (636 kB)\n",
            "\u001b[K     |████████████████████████████████| 636 kB 65.8 MB/s \n",
            "\u001b[?25hRequirement already satisfied: packaging in /usr/local/lib/python3.7/dist-packages (from transformers>=4.0.0->flair) (21.0)\n",
            "Requirement already satisfied: wcwidth in /usr/local/lib/python3.7/dist-packages (from ftfy->flair) (0.2.5)\n",
            "Requirement already satisfied: decorator<5,>=4.3 in /usr/local/lib/python3.7/dist-packages (from networkx->hyperopt>=0.1.1->flair) (4.4.2)\n",
            "Requirement already satisfied: PySocks!=1.5.7,>=1.5.6 in /usr/local/lib/python3.7/dist-packages (from requests->bpemb>=0.3.2->flair) (1.7.1)\n",
            "Requirement already satisfied: click in /usr/local/lib/python3.7/dist-packages (from sacremoses->transformers>=4.0.0->flair) (7.1.2)\n",
            "Building wheels for collected packages: gdown, mpld3, overrides, segtok, sqlitedict, ftfy, langdetect\n",
            "  Building wheel for gdown (PEP 517) ... \u001b[?25l\u001b[?25hdone\n",
            "  Created wheel for gdown: filename=gdown-3.12.2-py3-none-any.whl size=9705 sha256=326edd9ab79a333edfeb738204336adaa6b4d38532db0a5026b9e35edef996ec\n",
            "  Stored in directory: /root/.cache/pip/wheels/ba/e0/7e/726e872a53f7358b4b96a9975b04e98113b005cd8609a63abc\n",
            "  Building wheel for mpld3 (setup.py) ... \u001b[?25l\u001b[?25hdone\n",
            "  Created wheel for mpld3: filename=mpld3-0.3-py3-none-any.whl size=116701 sha256=53417d55d51d91d1de827d0230214e9ccff0407a9646227a4a6eb97db71c4e50\n",
            "  Stored in directory: /root/.cache/pip/wheels/26/70/6a/1c79e59951a41b4045497da187b2724f5659ca64033cf4548e\n",
            "  Building wheel for overrides (setup.py) ... \u001b[?25l\u001b[?25hdone\n",
            "  Created wheel for overrides: filename=overrides-3.1.0-py3-none-any.whl size=10188 sha256=240d95d83f4e67a40b542e49323f2365fefa2db2cc713d5f96deae3bba543dfd\n",
            "  Stored in directory: /root/.cache/pip/wheels/3a/0d/38/01a9bc6e20dcfaf0a6a7b552d03137558ba1c38aea47644682\n",
            "  Building wheel for segtok (setup.py) ... \u001b[?25l\u001b[?25hdone\n",
            "  Created wheel for segtok: filename=segtok-1.5.10-py3-none-any.whl size=25030 sha256=01874d708e0d310cf2e543c419cf8b80f415087c1b1270f4f7b21bf02a546f69\n",
            "  Stored in directory: /root/.cache/pip/wheels/67/b7/d0/a121106e61339eee5ed083bc230b1c8dc422c49a5a28c2addd\n",
            "  Building wheel for sqlitedict (setup.py) ... \u001b[?25l\u001b[?25hdone\n",
            "  Created wheel for sqlitedict: filename=sqlitedict-1.7.0-py3-none-any.whl size=14392 sha256=489c1bd70b7b8af8fca264cc2e19461aac757b533f950298e20faea2b91da53a\n",
            "  Stored in directory: /root/.cache/pip/wheels/af/94/06/18c0e83e9e227da8f3582810b51f319bbfd181e508676a56c8\n",
            "  Building wheel for ftfy (setup.py) ... \u001b[?25l\u001b[?25hdone\n",
            "  Created wheel for ftfy: filename=ftfy-6.0.3-py3-none-any.whl size=41934 sha256=c75516a8a89d74a8cefe3eab39bd948cf36d398b1a86f899bed29f659b215b63\n",
            "  Stored in directory: /root/.cache/pip/wheels/19/f5/38/273eb3b5e76dfd850619312f693716ac4518b498f5ffb6f56d\n",
            "  Building wheel for langdetect (setup.py) ... \u001b[?25l\u001b[?25hdone\n",
            "  Created wheel for langdetect: filename=langdetect-1.0.9-py3-none-any.whl size=993241 sha256=ace9ed7b6266c19b30cdb9feb8ce3842c1231d2c75497bf86831e6950994fbc1\n",
            "  Stored in directory: /root/.cache/pip/wheels/c5/96/8a/f90c59ed25d75e50a8c10a1b1c2d4c402e4dacfa87f3aff36a\n",
            "Successfully built gdown mpld3 overrides segtok sqlitedict ftfy langdetect\n",
            "Installing collected packages: requests, importlib-metadata, tokenizers, sentencepiece, sacremoses, pyyaml, overrides, huggingface-hub, transformers, torch, sqlitedict, segtok, mpld3, langdetect, konoha, janome, gdown, ftfy, deprecated, bpemb, flair\n",
            "  Attempting uninstall: requests\n",
            "    Found existing installation: requests 2.23.0\n",
            "    Uninstalling requests-2.23.0:\n",
            "      Successfully uninstalled requests-2.23.0\n",
            "  Attempting uninstall: importlib-metadata\n",
            "    Found existing installation: importlib-metadata 4.6.1\n",
            "    Uninstalling importlib-metadata-4.6.1:\n",
            "      Successfully uninstalled importlib-metadata-4.6.1\n",
            "  Attempting uninstall: pyyaml\n",
            "    Found existing installation: PyYAML 3.13\n",
            "    Uninstalling PyYAML-3.13:\n",
            "      Successfully uninstalled PyYAML-3.13\n",
            "  Attempting uninstall: torch\n",
            "    Found existing installation: torch 1.9.0+cu102\n",
            "    Uninstalling torch-1.9.0+cu102:\n",
            "      Successfully uninstalled torch-1.9.0+cu102\n",
            "  Attempting uninstall: gdown\n",
            "    Found existing installation: gdown 3.6.4\n",
            "    Uninstalling gdown-3.6.4:\n",
            "      Successfully uninstalled gdown-3.6.4\n",
            "\u001b[31mERROR: pip's dependency resolver does not currently take into account all the packages that are installed. This behaviour is the source of the following dependency conflicts.\n",
            "torchvision 0.10.0+cu102 requires torch==1.9.0, but you have torch 1.7.1 which is incompatible.\n",
            "torchtext 0.10.0 requires torch==1.9.0, but you have torch 1.7.1 which is incompatible.\n",
            "google-colab 1.0.0 requires requests~=2.23.0, but you have requests 2.26.0 which is incompatible.\n",
            "datascience 0.10.6 requires folium==0.2.1, but you have folium 0.8.3 which is incompatible.\u001b[0m\n",
            "Successfully installed bpemb-0.3.3 deprecated-1.2.12 flair-0.8.0.post1 ftfy-6.0.3 gdown-3.12.2 huggingface-hub-0.0.12 importlib-metadata-3.10.1 janome-0.4.1 konoha-4.6.5 langdetect-1.0.9 mpld3-0.3 overrides-3.1.0 pyyaml-5.4.1 requests-2.26.0 sacremoses-0.0.45 segtok-1.5.10 sentencepiece-0.1.95 sqlitedict-1.7.0 tokenizers-0.10.3 torch-1.7.1 transformers-4.9.0\n"
          ],
          "name": "stdout"
        },
        {
          "output_type": "display_data",
          "data": {
            "application/vnd.colab-display-data+json": {
              "pip_warning": {
                "packages": [
                  "requests",
                  "torch"
                ]
              }
            }
          },
          "metadata": {
            "tags": []
          }
        }
      ]
    },
    {
      "cell_type": "code",
      "metadata": {
        "id": "l8TlOsh-zg7E"
      },
      "source": [
        "import torch\n",
        "from flair.data import Sentence\n",
        "from flair.embeddings import TransformerDocumentEmbeddings\n",
        "from sklearn.base import BaseEstimator, TransformerMixin"
      ],
      "execution_count": 126,
      "outputs": []
    },
    {
      "cell_type": "code",
      "metadata": {
        "id": "lI0VUz6Vzg1G"
      },
      "source": [
        "class FlairTransformerEmbedding(TransformerMixin, BaseEstimator):\n",
        "\n",
        "    def __init__(self, model_name='bert-base-uncased', batch_size=None, layers=None):\n",
        "        # From https://lvngd.com/blog/spacy-word-vectors-as-features-in-scikit-learn/\n",
        "        # For pickling reason you should not load models in __init__\n",
        "        self.model_name = model_name\n",
        "        self.model_kw_args = {'batch_size': batch_size, 'layers': layers}\n",
        "        self.model_kw_args = {k: v for k, v in self.model_kw_args.items()\n",
        "                              if v is not None}\n",
        "    \n",
        "    def fit(self, X, y=None):\n",
        "        return self\n",
        "    \n",
        "    def transform(self, X):\n",
        "        model = TransformerDocumentEmbeddings(\n",
        "                self.model_name, fine_tune=False,\n",
        "                **self.model_kw_args)\n",
        "\n",
        "        sentences = [Sentence(text) for text in X]\n",
        "        embedded = model.embed(sentences)\n",
        "        embedded = [e.get_embedding().reshape(1, -1) for e in embedded]\n",
        "        return np.array(torch.cat(embedded).cpu())"
      ],
      "execution_count": 127,
      "outputs": []
    },
    {
      "cell_type": "markdown",
      "metadata": {
        "id": "YHc_Y1tRz0JQ"
      },
      "source": [
        "## Column Transformer"
      ]
    },
    {
      "cell_type": "code",
      "metadata": {
        "id": "xYhyJDb-zgvE"
      },
      "source": [
        "from sklearn.compose import ColumnTransformer\n",
        "# you may provide any transformer model to get word embeddings from\n",
        "bert_trans = ColumnTransformer([\n",
        "    ('embedding', FlairTransformerEmbedding(model_name='bert-base-uncased'), 0) #column name if column given\n",
        "])\n"
      ],
      "execution_count": 56,
      "outputs": []
    },
    {
      "cell_type": "markdown",
      "metadata": {
        "id": "mWxEyxXF1BMq"
      },
      "source": [
        "## Building Word Embeddings"
      ]
    },
    {
      "cell_type": "code",
      "metadata": {
        "id": "9jKIN0eI1XWy"
      },
      "source": [
        "def fit_word_embeddings(text_series, column_transformer):\n",
        "  text_np_array =text_series.array.to_numpy().reshape(-1,1)\n",
        "  text_vector = column_transformer.fit_transform(text_np_array)\n",
        "  return text_vector, column_transformer"
      ],
      "execution_count": 129,
      "outputs": []
    },
    {
      "cell_type": "code",
      "metadata": {
        "colab": {
          "base_uri": "https://localhost:8080/",
          "height": 365,
          "referenced_widgets": [
            "28b2d8ac08ac471b81fe8af42af9829b",
            "25d97a65bb2e4891a3d3b3e73dd11a31",
            "a4185712d3b44e7bae4b6f8b21f100ab",
            "f393ae83d35942b5b9a420b1e6ac9843",
            "5d4ff39384e645aa9992006238b2efba",
            "f06a2abfab05425f96ec20d91aa97847",
            "faa230452c294ca9be9d64891fcd0699",
            "84f974490fb24144b5f50f36c801ed11",
            "6cd570283d524b7183efc9f2d02b61a5",
            "8325e7c758ca484f8bc92730005fe57e",
            "bdd48829950d416e92c493a9dad0688f",
            "7bec6cc7dff1472fa7bc8ae9228d3108",
            "ab209f876bd14b4fa66e3b022e472713",
            "f92bac9c14fc402589f189a7ab8b7084",
            "6d5ffd69142c416386e344f4b2afe712",
            "c9d58bb6d2794ca58e0cc8f4fe57eb51",
            "28dbcb747552484cb156e5cab2d8b08b",
            "cb79fc46ae1c4d199afc623dade0e060",
            "eb49b18ef2814bbba39eec1ca6c51cb6",
            "8a26eb9e7f5142c395d99b23e0af206a",
            "654b4b10592b4e07a4d801e41f44fd35",
            "6af08daf7c7b463bb28a39b25ed035f4",
            "78b7e2cad20a461bb593974f818d5746",
            "63566e7fa3aa4a82acd79640dacb0561",
            "f812f2ef2d04440dacdae0d11b99c034",
            "5a0fcbf2bb524e5da7e10e205ba885b6",
            "2b971d1b60d24d5dadc480b1401e8d6b",
            "7d6bca3b252a41b685123c5023c026c7",
            "b6e0981372cd4961832ad8a523e26300",
            "ac6b669658684d84b8d34dc6057676d1",
            "a345fa8bf10d409d99d84c66fb0b752a",
            "9ff634659cd941e2979633db77aca4ec",
            "9706dd1d740c495ea6bf753fcd122151",
            "d7497bf35cb8443f953cad0df2e6d9bb",
            "23df55e43ccb447692683def42f1f1c0",
            "dbc06e7b73984fef93b2eb5930d6934b",
            "1a190e2ab87f44418009c03b9c692872",
            "8df3dc66f32e4c3a82729d6dc4f7e7f3",
            "6d5c0dee648a494094d4f3798f7c95df",
            "5670f49cde9247158c2071e2882881d1"
          ]
        },
        "id": "OpsqXLVm1Ghu",
        "outputId": "42fd6518-3d7e-447e-e5a2-c650e7aed91b"
      },
      "source": [
        "bert_vectors, bert_embedding_transformer = fit_word_embeddings(df.cleaned, bert_trans)"
      ],
      "execution_count": 28,
      "outputs": [
        {
          "output_type": "stream",
          "text": [
            "/usr/local/lib/python3.7/dist-packages/sklearn/base.py:197: FutureWarning: From version 0.24, get_params will raise an AttributeError if a parameter cannot be retrieved as an instance attribute. Previously it would return None.\n",
            "  FutureWarning)\n"
          ],
          "name": "stderr"
        },
        {
          "output_type": "display_data",
          "data": {
            "application/vnd.jupyter.widget-view+json": {
              "model_id": "28b2d8ac08ac471b81fe8af42af9829b",
              "version_minor": 0,
              "version_major": 2
            },
            "text/plain": [
              "HBox(children=(FloatProgress(value=0.0, description='Downloading', max=28.0, style=ProgressStyle(description_w…"
            ]
          },
          "metadata": {
            "tags": []
          }
        },
        {
          "output_type": "stream",
          "text": [
            "\n"
          ],
          "name": "stdout"
        },
        {
          "output_type": "display_data",
          "data": {
            "application/vnd.jupyter.widget-view+json": {
              "model_id": "6cd570283d524b7183efc9f2d02b61a5",
              "version_minor": 0,
              "version_major": 2
            },
            "text/plain": [
              "HBox(children=(FloatProgress(value=0.0, description='Downloading', max=570.0, style=ProgressStyle(description_…"
            ]
          },
          "metadata": {
            "tags": []
          }
        },
        {
          "output_type": "stream",
          "text": [
            "\n"
          ],
          "name": "stdout"
        },
        {
          "output_type": "display_data",
          "data": {
            "application/vnd.jupyter.widget-view+json": {
              "model_id": "28dbcb747552484cb156e5cab2d8b08b",
              "version_minor": 0,
              "version_major": 2
            },
            "text/plain": [
              "HBox(children=(FloatProgress(value=0.0, description='Downloading', max=231508.0, style=ProgressStyle(descripti…"
            ]
          },
          "metadata": {
            "tags": []
          }
        },
        {
          "output_type": "stream",
          "text": [
            "\n"
          ],
          "name": "stdout"
        },
        {
          "output_type": "display_data",
          "data": {
            "application/vnd.jupyter.widget-view+json": {
              "model_id": "f812f2ef2d04440dacdae0d11b99c034",
              "version_minor": 0,
              "version_major": 2
            },
            "text/plain": [
              "HBox(children=(FloatProgress(value=0.0, description='Downloading', max=466062.0, style=ProgressStyle(descripti…"
            ]
          },
          "metadata": {
            "tags": []
          }
        },
        {
          "output_type": "stream",
          "text": [
            "\n"
          ],
          "name": "stdout"
        },
        {
          "output_type": "display_data",
          "data": {
            "application/vnd.jupyter.widget-view+json": {
              "model_id": "9706dd1d740c495ea6bf753fcd122151",
              "version_minor": 0,
              "version_major": 2
            },
            "text/plain": [
              "HBox(children=(FloatProgress(value=0.0, description='Downloading', max=440473133.0, style=ProgressStyle(descri…"
            ]
          },
          "metadata": {
            "tags": []
          }
        },
        {
          "output_type": "stream",
          "text": [
            "\n"
          ],
          "name": "stdout"
        },
        {
          "output_type": "stream",
          "text": [
            "Some weights of the model checkpoint at bert-base-uncased were not used when initializing BertModel: ['cls.seq_relationship.bias', 'cls.predictions.transform.dense.weight', 'cls.seq_relationship.weight', 'cls.predictions.transform.LayerNorm.bias', 'cls.predictions.decoder.weight', 'cls.predictions.transform.dense.bias', 'cls.predictions.transform.LayerNorm.weight', 'cls.predictions.bias']\n",
            "- This IS expected if you are initializing BertModel from the checkpoint of a model trained on another task or with another architecture (e.g. initializing a BertForSequenceClassification model from a BertForPreTraining model).\n",
            "- This IS NOT expected if you are initializing BertModel from the checkpoint of a model that you expect to be exactly identical (initializing a BertForSequenceClassification model from a BertForSequenceClassification model).\n"
          ],
          "name": "stderr"
        }
      ]
    },
    {
      "cell_type": "code",
      "metadata": {
        "id": "c8ugxDXv7yvH",
        "colab": {
          "base_uri": "https://localhost:8080/"
        },
        "outputId": "67e7023e-c3ee-47e5-f5a3-bfd41d6bf4b2"
      },
      "source": [
        "type(bert_vectors), bert_vectors.shape, df.shape"
      ],
      "execution_count": 132,
      "outputs": [
        {
          "output_type": "execute_result",
          "data": {
            "text/plain": [
              "(numpy.ndarray, (2382, 768), (2382, 11))"
            ]
          },
          "metadata": {
            "tags": []
          },
          "execution_count": 132
        }
      ]
    },
    {
      "cell_type": "code",
      "metadata": {
        "id": "sQjjykka7mhn"
      },
      "source": [
        "bert_vectors_list = []\n",
        "for i in bert_vectors:\n",
        "  bert_vectors_list.append(i)\n",
        "\n",
        "#adding bert vectors as column\n",
        "df['bert_vectors'] = bert_vectors_list"
      ],
      "execution_count": 133,
      "outputs": []
    },
    {
      "cell_type": "code",
      "metadata": {
        "colab": {
          "base_uri": "https://localhost:8080/"
        },
        "id": "_VshyM8yJUmC",
        "outputId": "150f12d0-e0d0-4696-8be4-3d9a3b815acc"
      },
      "source": [
        "import joblib\n",
        "joblib.dump(bert_vectors_list, \"bert_vectors_list.pkl\")\n",
        "joblib.dump(bert_embedding_transformer, \"bert_embedding_transformer.pkl\")"
      ],
      "execution_count": 30,
      "outputs": [
        {
          "output_type": "execute_result",
          "data": {
            "text/plain": [
              "['bert_embedding_transformer.pkl']"
            ]
          },
          "metadata": {
            "tags": []
          },
          "execution_count": 30
        }
      ]
    },
    {
      "cell_type": "markdown",
      "metadata": {
        "id": "ZZaLn0xk-Hx6"
      },
      "source": [
        "# Cosine Score Generation"
      ]
    },
    {
      "cell_type": "code",
      "metadata": {
        "id": "jbMekjiP_05D"
      },
      "source": [
        "import json\n",
        "from sklearn.metrics.pairwise import cosine_similarity"
      ],
      "execution_count": 134,
      "outputs": []
    },
    {
      "cell_type": "code",
      "metadata": {
        "colab": {
          "base_uri": "https://localhost:8080/"
        },
        "id": "sSRgoq1M-GJP",
        "outputId": "7ef08bb4-b744-467c-f7ca-04bc61e2885f"
      },
      "source": [
        "#Example usage\n",
        "cosine_similarity([bert_vectors_list[1]], [bert_vectors_list[0]])"
      ],
      "execution_count": 135,
      "outputs": [
        {
          "output_type": "execute_result",
          "data": {
            "text/plain": [
              "array([[0.8414842]], dtype=float32)"
            ]
          },
          "metadata": {
            "tags": []
          },
          "execution_count": 135
        }
      ]
    },
    {
      "cell_type": "markdown",
      "metadata": {
        "id": "_yKZeCNWKNXa"
      },
      "source": [
        "creating a similarity matrix for all book descriptions with each other"
      ]
    },
    {
      "cell_type": "code",
      "metadata": {
        "id": "ilih9kTelCGE"
      },
      "source": [
        "cosine_similarity_bert = cosine_similarity(bert_vectors_list, bert_vectors_list)"
      ],
      "execution_count": 136,
      "outputs": []
    },
    {
      "cell_type": "code",
      "metadata": {
        "colab": {
          "base_uri": "https://localhost:8080/"
        },
        "id": "iKrT_J_llJ1j",
        "outputId": "0bf2229e-e1fc-4d16-88b0-de42426b6f13"
      },
      "source": [
        "cosine_similarity_bert.shape"
      ],
      "execution_count": 137,
      "outputs": [
        {
          "output_type": "execute_result",
          "data": {
            "text/plain": [
              "(2382, 2382)"
            ]
          },
          "metadata": {
            "tags": []
          },
          "execution_count": 137
        }
      ]
    },
    {
      "cell_type": "code",
      "metadata": {
        "colab": {
          "base_uri": "https://localhost:8080/"
        },
        "id": "fS5Mwa-XMd2E",
        "outputId": "0731ea4e-f0ab-4ea7-a400-e68dade22803"
      },
      "source": [
        "joblib.dump(cosine_similarity_bert, 'cosine_similarity_bert.pkl')"
      ],
      "execution_count": 216,
      "outputs": [
        {
          "output_type": "execute_result",
          "data": {
            "text/plain": [
              "['cosine_similarity_bert.pkl']"
            ]
          },
          "metadata": {
            "tags": []
          },
          "execution_count": 216
        }
      ]
    },
    {
      "cell_type": "markdown",
      "metadata": {
        "id": "Xa14HpQ8MNqg"
      },
      "source": [
        "# Content-Based Recommendation System Using BERT"
      ]
    },
    {
      "cell_type": "markdown",
      "metadata": {
        "id": "J4JC6tNumsMp"
      },
      "source": [
        "These are going to be the common methods for recommending books using any word embeddings. Hence they are parametrized as much as possible."
      ]
    },
    {
      "cell_type": "code",
      "metadata": {
        "id": "BTDZ_0710xT4"
      },
      "source": [
        "def get_text_vector(text, column_transformer):\n",
        "  text_np_array = np.asarray([text])\n",
        "  text_np_array = text_np_array.reshape(-1,1)\n",
        "  text_np_array = column_transformer.transform(text_np_array)\n",
        "  return text_np_array"
      ],
      "execution_count": 186,
      "outputs": []
    },
    {
      "cell_type": "code",
      "metadata": {
        "id": "8Np885RoL5ii"
      },
      "source": [
        "def find_most_similar_vector_list(input_vector, vector_col):\n",
        "  cosine_similarity_list = []\n",
        "  for row in df.itertuples():\n",
        "    cosine_similarity_value = cosine_similarity(input_vector, [getattr(row, vector_col)])\n",
        "    cosine_similarity_list.append(cosine_similarity_value[0][0])\n",
        "  return cosine_similarity_list"
      ],
      "execution_count": 187,
      "outputs": []
    },
    {
      "cell_type": "code",
      "metadata": {
        "id": "3g7q2qjTSSo8"
      },
      "source": [
        "def create_book_dict(idx_score):\n",
        "  books_dict = df.iloc[idx_score[0]].to_dict()\n",
        "  books_dict['score']=float(idx_score[1])\n",
        "  books_dict['id']=float(idx_score[0])\n",
        "  keys_to_retain = ['id','Desc', 'title', 'author', 'genre', 'image_link', 'rating', 'score']\n",
        "  return dict((key,value) for key, value in books_dict.items() if key in keys_to_retain)"
      ],
      "execution_count": 188,
      "outputs": []
    },
    {
      "cell_type": "code",
      "metadata": {
        "id": "b2dlRqY2OruP"
      },
      "source": [
        "def get_recommendations_list(cosine_list, num_books, idx = None, filter_by_rating=True, thresh_score=.85):\n",
        "  cosine_list = sorted(enumerate(cosine_list), key=lambda i: i[1], reverse=True)\n",
        "  if filter_by_rating:\n",
        "    cosine_thresh_list = cosine_list.copy()\n",
        "    cosine_thresh_list = [(book, df.iloc[book[0]].to_dict()['rating']) for i, book in enumerate(cosine_thresh_list)\\\n",
        "                          if (book[1]>=thresh_score and len(cosine_thresh_list[:i])<=(2*num_books))\\\n",
        "                          or len(cosine_thresh_list[:i])<=num_books]\n",
        "    cosine_thresh_list = (sorted(cosine_thresh_list, key=lambda i: i[1], reverse=True))[:num_books+1]\n",
        "    cosine_list = [book[0] for book in cosine_thresh_list]\n",
        "  else:\n",
        "    cosine_list = (sorted(enumerate(cosine_list), key=lambda i: i[1], reverse=True))[:num_books+1]\n",
        "  cosine_list = [ create_book_dict(idx_score) for idx_score in cosine_list if not idx or int(idx_score[0]) != int(idx)]\n",
        "  return cosine_list"
      ],
      "execution_count": 228,
      "outputs": []
    },
    {
      "cell_type": "code",
      "metadata": {
        "id": "C89hO_jxL9VN"
      },
      "source": [
        "def recommend_books_from_desc(desc, embedding_transformer, vector_col, num_books=5):\n",
        "  desc_vector = get_text_vector(desc, embedding_transformer)\n",
        "  return find_most_similar_vector_list(desc_vector, vector_col)"
      ],
      "execution_count": 229,
      "outputs": []
    },
    {
      "cell_type": "code",
      "metadata": {
        "id": "tDz7fXyLlSuQ"
      },
      "source": [
        "def recommend_books(embedding_transformer, cosine_similarity_matrix, title=None, desc=None, vector_col='bert_vectors', num_books=5,\n",
        "                               filter_by_rating=True, thresh_score=.85):\n",
        "  if title:\n",
        "    recommended_books = {}\n",
        "    for count, idx in enumerate(df[df.title.str.lower() == title.lower()].index):\n",
        "      cosine_list = [i[0] for i in cosine_similarity_matrix[idx].reshape(-1,1)]\n",
        "      recommended_books[idx] = get_recommendations_list(cosine_list, num_books, idx=idx , filter_by_rating=filter_by_rating, thresh_score=thresh_score)\n",
        "    return recommended_books\n",
        "  else:\n",
        "    cosine_list = recommend_books_from_desc(desc, embedding_transformer, vector_col, num_books=num_books)\n",
        "    return get_recommendations_list(cosine_list, num_books, filter_by_rating=filter_by_rating, thresh_score=thresh_score)\n",
        "  "
      ],
      "execution_count": 231,
      "outputs": []
    },
    {
      "cell_type": "code",
      "metadata": {
        "id": "DGV0qewebKLS"
      },
      "source": [
        "desc= \"One is tempted to say 'the only book you'll need on starting a business.' Brilliant! Genius! Choose your superlative-it'll fit.\\\"-Tom Peters   People starting out in business tend to seek step-by-step formulas or rules, but in reality there are no magic bullets. Rather, says veteran company-builder Norm Brodsky, there's a mentality that helps street- smart entrepreneurs solve problems and pursue opportunities as they arise.  Brodsky shares his hard-earned wisdom every month in Inc. magazine, in the hugely popular \\\"Street Smarts\\\" column he cowrites with Bo Burlingham. Now they've adapted their best advice into a comprehensive guide for anyone running a small business.\""
      ],
      "execution_count": 232,
      "outputs": []
    },
    {
      "cell_type": "code",
      "metadata": {
        "colab": {
          "base_uri": "https://localhost:8080/"
        },
        "id": "f_U-SZ7EXt2g",
        "outputId": "bdad1f42-a827-4a8f-a38c-4979e1f96441"
      },
      "source": [
        "recommend_books(bert_embedding_transformer, cosine_similarity_bert, desc = desc)"
      ],
      "execution_count": 233,
      "outputs": [
        {
          "output_type": "stream",
          "text": [
            "Some weights of the model checkpoint at bert-base-uncased were not used when initializing BertModel: ['cls.predictions.transform.LayerNorm.bias', 'cls.predictions.bias', 'cls.seq_relationship.bias', 'cls.predictions.decoder.weight', 'cls.predictions.transform.LayerNorm.weight', 'cls.seq_relationship.weight', 'cls.predictions.transform.dense.weight', 'cls.predictions.transform.dense.bias']\n",
            "- This IS expected if you are initializing BertModel from the checkpoint of a model trained on another task or with another architecture (e.g. initializing a BertForSequenceClassification model from a BertForPreTraining model).\n",
            "- This IS NOT expected if you are initializing BertModel from the checkpoint of a model that you expect to be exactly identical (initializing a BertForSequenceClassification model from a BertForSequenceClassification model).\n"
          ],
          "name": "stderr"
        },
        {
          "output_type": "execute_result",
          "data": {
            "text/plain": [
              "[{'Desc': '“Pfeffer [blends] academic rigor and practical genius into wonderfully readable text. The leading thinker on the topic of power, Pfeffer here distills his wisdom into an indispensable guide.”\\xa0—Jim Collins, author of New York Times bestselling author Good to Great and How the Mighty FallSome people have it, and others don’t. Jeffrey Pfeffer explores why, in Power.One of the greatest minds in management theory and author or co-author of thirteen books, including the seminal business-school text Managing With Power, Jeffrey Pfeffer shows readers how to succeed and wield power in the real world.',\n",
              "  'author': 'Kurt Eichenwald',\n",
              "  'genre': 'Business',\n",
              "  'id': 962.0,\n",
              "  'image_link': 'https://i.gr-assets.com/images/S/compressed.photo.goodreads.com/books/1388187674l/29519.jpg',\n",
              "  'rating': 4.23,\n",
              "  'score': 0.8991384506225586,\n",
              "  'title': 'Conspiracy of Fools'},\n",
              " {'Desc': 'Creativity is crucial to business success. But too often, even the most innovative organization quickly becomes a \"giant hairball\"--a tangled, impenetrable mass of rules, traditions, and systems, all based on what worked in the past--that exercises an inexorable pull into mediocrity. Gordon McKenzie worked at Hallmark Cards for thirty years, many of which he spent inspiring his colleagues to slip the bonds of Corporate Normalcy and rise to orbit--to a mode of dreaming, daring and doing above and beyond the rubber-stamp confines of the administrative mind-set. In his deeply funny book, exuberantly illustrated in full color, he shares the story of his own professional evolution, together with lessons on awakening and fostering creative genius.Originally self-published and already a business \"cult classic\", this personally empowering and entertaining look at the intersection between human creativity and the bottom line is now widely available to bookstores. It will be a must-read for any manager looking for new ways to invigorate employees, and any professional who wants to achieve his or her best, most self-expressive, most creative and fulfilling work.',\n",
              "  'author': 'David Ogilvy',\n",
              "  'genre': 'Business',\n",
              "  'id': 904.0,\n",
              "  'image_link': 'https://i.gr-assets.com/images/S/compressed.photo.goodreads.com/books/1388252662l/44895.jpg',\n",
              "  'rating': 4.07,\n",
              "  'score': 0.9174222946166992,\n",
              "  'title': 'Confessions of an Advertising Man'},\n",
              " {'Desc': 'Today’s stock market is not for the faint of heart. At a time of frightening volatility, what is the average investor to do?The answer: turn to Burton G. Malkiel’s advice in his reassuring, authoritative, gimmick-free, and perennially best-selling guide to investing. Long established as the first book to purchase before starting a portfolio or 401(k), A Random Walk Down Wall Street now features new material on “tax-loss harvesting,” the crown jewel of tax management; the current bitcoin bubble; and automated investment advisers; as well as a brand-new chapter on factor investing and risk parity. And as always, Malkiel’s core insights—on stocks and bonds, as well as real estate investment trusts, home ownership, and tangible assets like gold and collectibles— along with the book’s classic life-cycle guide to investing, will help restore confidence and composure to anyone seeking a calm route through today’s financial markets.',\n",
              "  'author': 'Burton G. Malkiel',\n",
              "  'genre': 'Business',\n",
              "  'id': 692.0,\n",
              "  'image_link': 'https://i.gr-assets.com/images/S/compressed.photo.goodreads.com/books/1529041799l/40242274.jpg',\n",
              "  'rating': 4.1,\n",
              "  'score': 0.900372326374054,\n",
              "  'title': 'A Random Walk Down Wall Street: The Time-Tested Strategy for Successful Investing'},\n",
              " {'Desc': 'Tick … tick … tick … can\\'t find enough time? Find out how to use it far more wisely by the man who successfully run multiple business ventures simultaneously. Dan Kennedy has been called the \"Professor of Harsh Reality\" because he doesn\\'t deal in glib, pabulum solutions and eye-rolling cliches you\\'ve heard incessantly on time management. He takes on the world of cell phones, PDAs, faxes, e-mails, and every other communication device that pervade our lives, suggesting when to tap it, and when to give it the heave-ho. This entrepreneur/consultant/author/speaker has a whirlwind business life, yet manages to fit everything in using a handful of home-brewed time management tools he swears by. He shows how to maximize your time with a fresh take on the mantra that \"time is money.\" It\\'s all about using disciplined productivity strategies Kennedy has devised over 30 years of managing highly-profitable businesses with only minimal help.',\n",
              "  'author': 'Guy Kawasaki',\n",
              "  'genre': 'Business',\n",
              "  'id': 446.0,\n",
              "  'image_link': 'https://i.gr-assets.com/images/S/compressed.photo.goodreads.com/books/1354724620l/16114241.jpg',\n",
              "  'rating': 4.17,\n",
              "  'score': 0.9001985788345337,\n",
              "  'title': 'APE: Author, Publisher, Entrepreneur. How to Publish a Book'},\n",
              " {'Desc': \"The Bogleheads' Guide to Investing is a slightly irreverent, straightforward guide to investing for everyone. The book offers sound, practical advice, no matter what your age or net worth. Bottomline, become a Boglehead and prosper! Originally just the chat-line ruminations of Boglehead founder Taylor Larimore, and Morningstar forum leading cohorts Mel Lindauer and Michael LeBoeuf, their trusted advice has been brewed and distilled into an easy-to-use, need-to-know, no frills guide to building up your own financial well-being - so you can worry less and profit more from the investments you make. Invest like a Boglehead, and let their grassroots investment wisdom guide you down the path of long-term wealth creation and happiness, without all the worries and fuss of stock pickers and day traders. If you face a financial crisis or problem, or simply want to know what is prudent to do with the money you save, the Bogleheads will have the answers you need to help you gain your financial footing and keep it.\",\n",
              "  'author': 'Taylor Larimore',\n",
              "  'genre': 'Business',\n",
              "  'id': 101.0,\n",
              "  'image_link': 'https://i.gr-assets.com/images/S/compressed.photo.goodreads.com/books/1388380454l/381355.jpg',\n",
              "  'rating': 4.28,\n",
              "  'score': 0.9075983762741089,\n",
              "  'title': \"The Bogleheads' Guide to Investing\"},\n",
              " {'Desc': ' \"One is tempted to say \\'the only book you\\'ll need on starting a business.\\' Brilliant! Genius! Choose your superlative-it\\'ll fit.\"-Tom Peters   People starting out in business tend to seek step-by-step formulas or rules, but in reality there are no magic bullets. Rather, says veteran company-builder Norm Brodsky, there\\'s a mentality that helps street- smart entrepreneurs solve problems and pursue opportunities as they arise.  Brodsky shares his hard-earned wisdom every month in Inc. magazine, in the hugely popular \"Street Smarts\" column he cowrites with Bo Burlingham. Now they\\'ve adapted their best advice into a comprehensive guide for anyone running a small business.',\n",
              "  'author': 'Norm Brodsky',\n",
              "  'genre': 'Business',\n",
              "  'id': 40.0,\n",
              "  'image_link': 'https://i.gr-assets.com/images/S/compressed.photo.goodreads.com/books/1347912518l/7218240.jpg',\n",
              "  'rating': 4.14,\n",
              "  'score': 0.9960893392562866,\n",
              "  'title': 'Street Smarts: An All-Purpose Tool Kit for Entrepreneurs'}]"
            ]
          },
          "metadata": {
            "tags": []
          },
          "execution_count": 233
        }
      ]
    },
    {
      "cell_type": "code",
      "metadata": {
        "colab": {
          "base_uri": "https://localhost:8080/"
        },
        "id": "mSyHfh6sQBFM",
        "outputId": "9087652d-8cd6-4d97-8e10-ecd95c4ee492"
      },
      "source": [
        "recommend_books( bert_embedding_transformer, cosine_similarity_bert, title='the fountainhead')"
      ],
      "execution_count": 234,
      "outputs": [
        {
          "output_type": "execute_result",
          "data": {
            "text/plain": [
              "{532: [{'Desc': \"What if charisma could be taught? For the first time, science and technology have taken charisma apart, figured it out and turned it into an applied science: In controlled laboratory experiments, researchers could raise or lower people's level of charisma as if they were turning a dial. What you'll find here is practical magic: unique knowledge, drawn from a variety of sciences, revealing what charisma really is and how it works. You'll get both the insights and the techniques you need to apply this knowledge. The world will become your lab, and every person you meet, a chance to experiment.The Charisma Myth is a mix of fun stories, sound science, and practical tools. Cabane takes a hard scientific approach to a heretofore mystical topic, covering what charisma actually is, how it is learned, what its side effects are, and how to handle them.\",\n",
              "   'author': 'Jeff Olson',\n",
              "   'genre': 'Business',\n",
              "   'id': 879.0,\n",
              "   'image_link': 'https://i.gr-assets.com/images/S/compressed.photo.goodreads.com/books/1387667330l/590652.jpg',\n",
              "   'rating': 4.39,\n",
              "   'score': 0.9031041860580444,\n",
              "   'title': 'The Slight Edge'},\n",
              "  {'Desc': \"From the bestselling authors who taught the world how to have Crucial Conversations comes Influencer, a thought-provoking book that combines the remarkable insights of behavioral scientists and business leaders with the astonishing stories of high-powered influencers from all walks of life. You'll be taught each and every step of the influence process-including robust strategies for making change inevitable in your personal life, your business, and your world. You'll learn how to:- Identify a handful of high-leverage behaviors that lead to rapid and profound change.- Apply strategies for changing both thoughts and actions.- Marshall six sources of influence to make change inevitable.Influencer takes you on a fascinating journey from San Francisco to Thailand where you'll see how seemingly “insignificant” people are making incredibly significant improvements in solving problems others would think impossible. You'll learn how savvy folks make change not only achievable and sustainable, but inevitable. You'll discover why some managers have increased productivity repeatedly and significantly-while others have failed miserably.\",\n",
              "   'author': 'Kerry Patterson',\n",
              "   'genre': 'Business',\n",
              "   'id': 756.0,\n",
              "   'image_link': 'https://i.gr-assets.com/images/S/compressed.photo.goodreads.com/books/1393217540l/914211.jpg',\n",
              "   'rating': 4.02,\n",
              "   'score': 0.8967194557189941,\n",
              "   'title': 'Influencer : The Power to Change Anything'},\n",
              "  {'Desc': 'If you will live like no one else, later you can \"live\" like no one else.Build up your money muscles with America\\'s favorite finance coach.Okay, folks, do you want to turn those fat and flabby expenses into a well-toned budget? Do you want to transform your sad and skinny little bank account into a bulked-up cash machine? Then get with the program, people. There\\'s one sure way to whip your finances into shape, and that\\'s with \"The Total Money Makeover: Classic Edition\".By now, you\\'ve heard all the nutty get-rich-quick schemes, the fiscal diet fads that leave you with a lot of kooky ideas but not a penny in your pocket. Hey, if you\\'re tired of the lies and sick of the false promises, take a look at this--it\\'s the simplest, most straightforward game plan for completely making over your money habits. And it\\'s based on results, not pie-in-the-sky fantasies. With \"The Total Money Makeover: Classic Edition,\" you\\'ll be able to:Design a sure-fire plan for paying off all debt--meaning cars, houses, everything Recognize the 10 most dangerous money myths (these will kill you) Secure a big, fat nest egg for emergencies and retirement!',\n",
              "   'author': 'Dave Ramsey',\n",
              "   'genre': 'Business',\n",
              "   'id': 733.0,\n",
              "   'image_link': 'https://i.gr-assets.com/images/S/compressed.photo.goodreads.com/books/1441590984l/78427._SX318_.jpg',\n",
              "   'rating': 4.28,\n",
              "   'score': 0.9130087494850159,\n",
              "   'title': 'The Total Money Makeover: A Proven Plan for Financial Fitness'},\n",
              "  {'Desc': 'Is the financial plan of mediocrity-a dream-stealing, soul-sucking dogma known as The Slowlane-your plan for creating wealth? You know how it goes-go to school, get a good job, save 10 percent of your paycheck, buy a used car, cancel the movie channels, quit drinking expensive Starbucks mocha lattes, save and penny-pinch your life away, trust your life-savings to the stock market, and one day you can retire rich. The mainstream financial gurus have sold you blindly down the river. For those who don\\'t want a lifetime subscription to \"settle for less,\" and a slight chance of elderly riches, there is an expressway to extraordinary wealth that can burn a trail to financial independence faster than any road out there. Demand the Fastlane, an alternative road to wealth that actually ignites dreams and creates millionaires young, not old. Hit the Fastlane, crack the code to wealth, and find out how to live rich for a lifetime.',\n",
              "   'author': 'M.J. DeMarco',\n",
              "   'genre': 'Business',\n",
              "   'id': 694.0,\n",
              "   'image_link': 'https://i.gr-assets.com/images/S/compressed.photo.goodreads.com/books/1384971700l/18872437.jpg',\n",
              "   'rating': 4.36,\n",
              "   'score': 0.9010751247406006,\n",
              "   'title': 'The Millionaire Fastlane: Crack the Code to Wealth and Live Rich for a Lifetime!'},\n",
              "  {'Desc': \"This is the only money guide you'll ever need That's a bold claim, given there are already thousands of finance books on the shelves. So what makes this one different? Well, you won't be overwhelmed with a bunch of 'tips' … or a strict budget (that you won't follow). You'll get a step-by-step formula: open this account, then do this; call this person, and say this; invest money here, and not there. All with a glass of wine in your hand. This book will show you how to create an entire financial plan that is so simple you can sketch it on the back of a serviette … and you'll be able to manage your money in 10 minutes a week. You'll also get the skinny on:    Saving up a six-figure house deposit in 20 months   Doubling your income using the 'Trapeze Strategy'   Saving $78,173 on your mortgage and wiping out 7 years of payments   Finding a financial advisor who won't rip you off   Handing your kids (or grandkids) a $140,000 cheque on their 21st birthday   Why you don't need $1 million to retire … with the 'Donald Bradman Retirement Strategy'    Sound too good to be true? It's not. This book is full of stories from everyday Aussies — single people, young families, empty nesters, retirees — who have applied the simple steps in this book and achieved amazing, life-changing results. \\nAnd you're next.\\n\",\n",
              "   'author': 'David Einhorn',\n",
              "   'genre': 'Business',\n",
              "   'id': 507.0,\n",
              "   'image_link': 'https://i.gr-assets.com/images/S/compressed.photo.goodreads.com/books/1347574504l/7663760.jpg',\n",
              "   'rating': 4.01,\n",
              "   'score': 0.9217461347579956,\n",
              "   'title': 'Fooling Some of the People All of the Time, a Long Short (and Now Complete) Story, Updated with New Epilogue'},\n",
              "  {'Desc': \"WHAT IF LIFE WASN'T ABOUT DECADES OF WAGE-SLAVERY, PAYING BILLS, AND THEN DYING?Today's contemporary slavery is an implied social contract whereas a gilded cage is exchanged for voluntary indebtedness and lifelong toil, a price sacrificed by a non-redeemable fifty-years of Monday through Friday, a willful servitude in which freedom is only promised by the dawn of life's fading twilight.-\\n \\n\\n MJ DeMarco\\nHAS AN INVISIBLE SCRIPT HIJACKED YOUR LIFE?UNLOCK YOUR TRUTH. UNLEASH YOUR DREAM.Tired of sleepwalking through a mediocre life bribed by mindless video-gaming, redemptive weekends, and a scant paycheck from a soul-suffocating job? Welcome to the \\nSCRIPTED\\n club-- where membership is neither perceived or consented.The fact is, ever since you've been old enough to sit obediently in a classroom, you have been culturally engineered for servitude, unwittingly enslaved into a Machiavellian system where illusionary rules go unchallenged, sanctified traditions go unquestioned, and lifelong dreams go unfulfilled. As a result, your life is hijacked and marginalised into debt, despair, and dependence. Life's death sentence becomes the daily curse of the trivial and mundane. Fun fades. Dreams die. Don't let life's consolation prize become a car and a weekend.Recapture what is yours and make a revolutionary repossession of life-and-liberty through the pursuit of entrepreneurship. A paradigm shift isn't needed--the damn paradigm needs to be thrown-out altogether.The truth is, if you blindly follow conventional wisdom pushed by conventional people living conventional lives, can you expect to be anything but conventional? Rewrite life's script: ditch the job, give Wall Street the bird, and escape the insanity of trading your life away for a paycheck and an elderly promise called retirement.\\nUNSCRIPT today and start leading life-- instead of life leading you. \\n\",\n",
              "   'author': 'M.J. DeMarco',\n",
              "   'genre': 'Business',\n",
              "   'id': 97.0,\n",
              "   'image_link': 'https://i.gr-assets.com/images/S/compressed.photo.goodreads.com/books/1492290939l/34758995.jpg',\n",
              "   'rating': 4.54,\n",
              "   'score': 0.8983689546585083,\n",
              "   'title': 'Unscripted: Life, Liberty, and the Pursuit of Entrepreneurship'}],\n",
              " 1363: [{'Desc': \"‘It is stripped off - the paper - in great patches . . . The colour is repellent . . . In the places where it isn’t faded and where the sun is just so - I can see a strange, provoking, formless sort of figure, that seems to skulk about . . .’Based on the author’s own experiences, 'The Yellow Wallpaper' is the chilling tale of a woman driven to the brink of insanity by the ‘rest cure’ prescribed after the birth of her child. Isolated in a crumbling colonial mansion, in a room with bars on the windows, the tortuous pattern of the yellow wallpaper winds its way into the recesses of her mind.Charlotte Perkins Gilman was America’s leading feminist intellectual of the early twentieth century. In addition to her masterpiece 'The Yellow Wallpaper', this new edition includes a selection of her best short fiction and extracts from her autobiography.\",\n",
              "   'author': 'Charlotte Perkins Gilman',\n",
              "   'genre': 'Non-Fiction',\n",
              "   'id': 2146.0,\n",
              "   'image_link': 'https://i.gr-assets.com/images/S/compressed.photo.goodreads.com/books/1351778524l/286957.jpg',\n",
              "   'rating': 4.12,\n",
              "   'score': 0.8552877902984619,\n",
              "   'title': 'The Yellow Wall-Paper'},\n",
              "  {'Desc': 'On November 15, 1959, in the small town of Holcomb, Kansas, four members of the Clutter family were savagely murdered by blasts from a shotgun held a few inches from their faces. There was no apparent motive for the crime, and there were almost no clues. As Truman Capote reconstructs the murder and the investigation that led to the capture, trial, and execution of the killers, he generates both mesmerizing suspense and astonishing empathy. At the center of his study are the amoral young killers Perry Smith and Dick Hickcock, who, vividly drawn by Capote, are shown to be reprehensible yet entirely and frighteningly human. In Cold Blood is a seminal work of modern prose, a remarkable synthesis of journalistic skill and powerfully evocative narrative.',\n",
              "   'author': 'Truman Capote',\n",
              "   'genre': 'Non-Fiction',\n",
              "   'id': 2086.0,\n",
              "   'image_link': 'https://i.gr-assets.com/images/S/compressed.photo.goodreads.com/books/1424931136l/168642.jpg',\n",
              "   'rating': 4.07,\n",
              "   'score': 0.8621913194656372,\n",
              "   'title': 'In Cold Blood'},\n",
              "  {'Desc': \"On the afternoon of October 12, 1990, my twin brother, Thomas, entered the Three Rivers, Connecticut, public library, retreated to one of the rear study carrels, and prayed to God the sacrifice he was about to commit would be deemed acceptable. . . .One of the most acclaimed novels of our time, Wally Lamb's I Know This Much Is True is a story of alienation and connection, devastation and renewal, at once joyous, heartbreaking, poignant, mystical, and powerfully, profoundly human.\",\n",
              "   'author': 'Wally Lamb',\n",
              "   'genre': 'Non-Fiction',\n",
              "   'id': 1639.0,\n",
              "   'image_link': 'https://i.gr-assets.com/images/S/compressed.photo.goodreads.com/books/1373532198l/227711.jpg',\n",
              "   'rating': 4.18,\n",
              "   'score': 0.8589104413986206,\n",
              "   'title': 'I Know This Much Is True'},\n",
              "  {'Desc': 'Have you ever left a nerve-racking challenge and immediately wished for a do over? Maybe after a job interview, a performance, or a difficult conversation? The very moments that require us to be genuine and commanding can instead cause us to feel phony and powerless. Too often we approach our lives\\' biggest hurdles with dread, execute them with anxiety, and leave them with regret.  By accessing our personal power, we can achieve \"presence,\" the state in which we stop worrying about the impression we\\'re making on others and instead adjust the impression we\\'ve been making on ourselves. As Harvard professor Amy Cuddy\\'s revolutionary book reveals, we don\\'t need to embark on a grand spiritual quest or complete an inner transformation to harness the power of presence. Instead, we need to nudge ourselves, moment by moment, by tweaking our body language, behavior, and mind-set in our day-to-day lives.  Amy Cuddy has galvanized tens of millions of viewers around the world with her TED talk about \"power poses.\" Now she presents the enthralling science underlying these and many other fascinating body-mind effects, and teaches us how to use simple techniques to liberate ourselves from fear in high-pressure moments, perform at our best, and connect with and empower others to do the same.  Brilliantly researched, impassioned, and accessible, Presence is filled with stories of individuals who learned how to flourish during the stressful moments that once terrified them. Every reader will learn how to approach their biggest challenges with confidence instead of dread, and to leave them with satisfaction instead of regret.  \"Presence feels at once concrete and inspiring, simple but ambitious -- above all, truly powerful.\"-New York Times Book Review',\n",
              "   'author': 'Avinash K. Dixit',\n",
              "   'genre': 'Business',\n",
              "   'id': 969.0,\n",
              "   'image_link': 'https://i.gr-assets.com/images/S/compressed.photo.goodreads.com/books/1347324446l/103592.jpg',\n",
              "   'rating': 3.97,\n",
              "   'score': 0.8563101291656494,\n",
              "   'title': 'Thinking Strategically: The Competitive Edge in Business, Politics, and Everyday Life'},\n",
              "  {'Desc': \"The revolutionary literary vision that sowed the seeds of Objectivism, Ayn Rand's groundbreaking philosophy, and brought her immediate worldwide acclaim.This modern classic is the story of intransigent young architect Howard Roark, whose integrity was as unyielding as granite...of Dominique Francon, the exquisitely beautiful woman who loved Roark passionately, but married his worst enemy...and of the fanatic denunciation unleashed by an enraged society against a great creator. As fresh today as it was then, Rand’s provocative novel presents one of the most challenging ideas in all of fiction—that man’s ego is the fountainhead of human progress...“A writer of great power. She has a subtle and ingenious mind and the capacity of writing brilliantly, beautifully, bitterly...This is the only novel of ideas written by an American woman that I can recall.”—The New York Times\",\n",
              "   'author': 'Chris Brogan',\n",
              "   'genre': 'Business',\n",
              "   'id': 524.0,\n",
              "   'image_link': 'https://i.gr-assets.com/images/S/compressed.photo.goodreads.com/books/1348265996l/13076469.jpg',\n",
              "   'rating': 3.92,\n",
              "   'score': 0.9999998807907104,\n",
              "   'title': 'The Impact Equation: Are You Making Things Happen or Just Making Noise?'},\n",
              "  {'Desc': 'An extraordinary book that will dramatically change the way you experience life.Finite games are the familiar contests of everyday life, the games we play in business and politics, in the bedroom and on the battlefied -- games with winners and losers, a beginning and an end. Infinite games are more mysterious -- and ultimately more rewarding. They are unscripted and unpredictable; they are the source of true freedom.In this elegant and compelling work, James Carse explores what these games mean, and what they can mean to you. He offers stunning new insights into the nature of property and power, of culture and community, of sexuality and self-discovery, opening the door to a world of infinite delight and possibility.\"An extraordinary little book . . . a wise and intimate companion, an elegant reminder of the real.\"-- Brain/Mind Bulletin',\n",
              "   'author': 'Scott Pape',\n",
              "   'genre': 'Business',\n",
              "   'id': 515.0,\n",
              "   'image_link': 'https://i.gr-assets.com/images/S/compressed.photo.goodreads.com/books/1509770624l/33121747._SX318_.jpg',\n",
              "   'rating': 4.47,\n",
              "   'score': 0.8730847239494324,\n",
              "   'title': \"The Barefoot Investor: The Only Money Guide You'll Ever Need\"}]}"
            ]
          },
          "metadata": {
            "tags": []
          },
          "execution_count": 234
        }
      ]
    },
    {
      "cell_type": "markdown",
      "metadata": {
        "id": "gjCwNp0PSSby"
      },
      "source": [
        "# Content - Based Recommendation System Using TF-IDF Model\n",
        "\n"
      ]
    },
    {
      "cell_type": "code",
      "metadata": {
        "id": "okcwdbzKSiNq"
      },
      "source": [
        "from sklearn.compose import ColumnTransformer\n",
        "tfidf_trans = ColumnTransformer(transformers=[\n",
        "    ('tfidf', TfidfVectorizer(analyzer='word', ngram_range=(1, 3), min_df = 5, stop_words='english'), 0)\n",
        "])\n",
        "tfidf_vectors, tfidf_embedding_transformer = fit_word_embeddings(df.cleaned_2, tfidf_trans)"
      ],
      "execution_count": 147,
      "outputs": []
    },
    {
      "cell_type": "code",
      "metadata": {
        "colab": {
          "base_uri": "https://localhost:8080/"
        },
        "id": "aAgC6vWDWGcb",
        "outputId": "8dd50fac-63f8-4ba6-fa9d-28eb73fa2d96"
      },
      "source": [
        "type(tfidf_vectors), tfidf_vectors.shape, df.shape"
      ],
      "execution_count": 148,
      "outputs": [
        {
          "output_type": "execute_result",
          "data": {
            "text/plain": [
              "(scipy.sparse.csr.csr_matrix, (2382, 8377), (2382, 12))"
            ]
          },
          "metadata": {
            "tags": []
          },
          "execution_count": 148
        }
      ]
    },
    {
      "cell_type": "code",
      "metadata": {
        "id": "wPFurLpRXt-Y"
      },
      "source": [
        "tfidf_vectors = tfidf_vectors.toarray()\n",
        "tfidf_vectors_list = []\n",
        "for i in tfidf_vectors:\n",
        "  tfidf_vectors_list.append(i)\n",
        "#adding tfidf vectors as column\n",
        "df['tfidf_vectors'] = tfidf_vectors_list\n",
        "\n",
        "#generating cosine similarity matrix\n",
        "cosine_similarity_tfidf = cosine_similarity(tfidf_vectors_list, tfidf_vectors_list)"
      ],
      "execution_count": 150,
      "outputs": []
    },
    {
      "cell_type": "code",
      "metadata": {
        "colab": {
          "base_uri": "https://localhost:8080/"
        },
        "id": "RoLOWOwx3lt5",
        "outputId": "d9fac536-10e9-4732-f27a-b0f4b919e725"
      },
      "source": [
        "joblib.dump(tfidf_vectors_list, \"tfidf_vectors_list.pkl\")\n",
        "joblib.dump(cosine_similarity_tfidf, \"cosine_similarity_tfidf.pkl\")\n",
        "joblib.dump(tfidf_embedding_transformer, \"tfidf_embedding_transformer.pkl\")"
      ],
      "execution_count": 151,
      "outputs": [
        {
          "output_type": "execute_result",
          "data": {
            "text/plain": [
              "['tfidf_embedding_transformer.pkl']"
            ]
          },
          "metadata": {
            "tags": []
          },
          "execution_count": 151
        }
      ]
    },
    {
      "cell_type": "code",
      "metadata": {
        "colab": {
          "base_uri": "https://localhost:8080/"
        },
        "id": "cpt77rJGUSBV",
        "outputId": "9ca55201-4013-494f-8d7d-fe2a0931c907"
      },
      "source": [
        "recommend_books(tfidf_embedding_transformer,cosine_similarity_tfidf, title='the fountainhead', vector_col='tfidf_vectors')"
      ],
      "execution_count": 208,
      "outputs": [
        {
          "output_type": "execute_result",
          "data": {
            "text/plain": [
              "{532: [{'Desc': \"This is the only money guide you'll ever need That's a bold claim, given there are already thousands of finance books on the shelves. So what makes this one different? Well, you won't be overwhelmed with a bunch of 'tips' … or a strict budget (that you won't follow). You'll get a step-by-step formula: open this account, then do this; call this person, and say this; invest money here, and not there. All with a glass of wine in your hand. This book will show you how to create an entire financial plan that is so simple you can sketch it on the back of a serviette … and you'll be able to manage your money in 10 minutes a week. You'll also get the skinny on:    Saving up a six-figure house deposit in 20 months   Doubling your income using the 'Trapeze Strategy'   Saving $78,173 on your mortgage and wiping out 7 years of payments   Finding a financial advisor who won't rip you off   Handing your kids (or grandkids) a $140,000 cheque on their 21st birthday   Why you don't need $1 million to retire … with the 'Donald Bradman Retirement Strategy'    Sound too good to be true? It's not. This book is full of stories from everyday Aussies — single people, young families, empty nesters, retirees — who have applied the simple steps in this book and achieved amazing, life-changing results. \\nAnd you're next.\\n\",\n",
              "   'author': 'David Einhorn',\n",
              "   'genre': 'Business',\n",
              "   'id': 507.0,\n",
              "   'image_link': 'https://i.gr-assets.com/images/S/compressed.photo.goodreads.com/books/1347574504l/7663760.jpg',\n",
              "   'rating': 4.01,\n",
              "   'score': 0.13795143218799172,\n",
              "   'title': 'Fooling Some of the People All of the Time, a Long Short (and Now Complete) Story, Updated with New Epilogue'},\n",
              "  {'Desc': 'Secrets of the Millionaire Mind reveals the missing link between wanting success and achieving it!Have you ever wondered why some people seem to get rich easily, while others are destined for a life of financial struggle? Is the difference found in their education, intelligence, skills, timing, work habits, contacts, luck, or their choice of jobs, businesses, or investments?The shocking answer is: None of the above!In his groundbreaking Secrets of the Millionaire Mind, T. Harv Eker states: \"Give me five minutes, and I can predict your financial future for the rest of your life!\" Eker does this by identifying your \"money and success blueprint.\" We all have a personal money blueprint ingrained in our subconscious minds, and it is this blueprint, more than anything, that will determine our financial lives. You can know everything about marketing, sales, negotiations, stocks, real estate, and the world of finance, but if your money blueprint is not set for a high level of success, you will never have a lot of money—and if somehow you do, you will most likely lose it! The good news is that now you can actually reset your money blueprint to create natural and automatic success.Secrets of the Millionaire Mind is two books in one. Part I explains how your money blueprint works. Through Eker\\'s rare combination of street smarts, humor, and heart, you will learn how your childhood influences have shaped your financial destiny. You will also learn how to identify your own money blueprint and \"revise\" it to not only create success but, more important, to keep and continually grow it.In Part II you will be introduced to seventeen \"Wealth Files,\" which describe exactly how rich people think and act differently than most poor and middle-class people. Each Wealth File includes action steps for you to practice in the real world in order to dramatically increase your income and accumulate wealth.If you are not doing as well financially as you would like, you will have to change your money blueprint. Unfortunately your current money blueprint will tend to stay with you for the rest of your life, unless you identify and revise it, and that\\'s exactly what you will do with the help of this extraordinary book. According to T. Harv Eker, it\\'s simple. If you think like rich people think and do what rich people do, chances are you\\'ll get rich too!',\n",
              "   'author': 'T. Harv Eker',\n",
              "   'genre': 'Business',\n",
              "   'id': 752.0,\n",
              "   'image_link': 'https://i.gr-assets.com/images/S/compressed.photo.goodreads.com/books/1347940515l/785092.jpg',\n",
              "   'rating': 4.19,\n",
              "   'score': 0.13535835650511735,\n",
              "   'title': 'Secrets of the Millionaire Mind: Mastering the Inner Game of Wealth'},\n",
              "  {'Desc': 'The year is 1954. U.S. Marshal Teddy Daniels and his new partner, Chuck Aule, have come to Shutter Island, home of Ashecliffe Hospital for the Criminally Insane, to investigate the disappearance of a patient. Multiple murderess Rachel Solando is loose somewhere on this remote and barren island, despite having been kept in a locked cell under constant surveillance. As a killer hurricane relentlessly bears down on them, a strange case takes on even darker, more sinister shades—with hints of radical experimentation, horrifying surgeries, and lethal countermoves made in the cause of a covert shadow war. No one is going to escape Shutter Island unscathed, because nothing at Ashecliffe Hospital is what it seems. But then neither is Teddy Daniels.',\n",
              "   'author': 'Dennis Lehane',\n",
              "   'genre': 'Non-Fiction',\n",
              "   'id': 1817.0,\n",
              "   'image_link': 'https://i.gr-assets.com/images/S/compressed.photo.goodreads.com/books/1329269081l/21686.jpg',\n",
              "   'rating': 4.09,\n",
              "   'score': 0.1300675548285911,\n",
              "   'title': 'Shutter Island'},\n",
              "  {'Desc': 'If you will live like no one else, later you can \"live\" like no one else.Build up your money muscles with America\\'s favorite finance coach.Okay, folks, do you want to turn those fat and flabby expenses into a well-toned budget? Do you want to transform your sad and skinny little bank account into a bulked-up cash machine? Then get with the program, people. There\\'s one sure way to whip your finances into shape, and that\\'s with \"The Total Money Makeover: Classic Edition\".By now, you\\'ve heard all the nutty get-rich-quick schemes, the fiscal diet fads that leave you with a lot of kooky ideas but not a penny in your pocket. Hey, if you\\'re tired of the lies and sick of the false promises, take a look at this--it\\'s the simplest, most straightforward game plan for completely making over your money habits. And it\\'s based on results, not pie-in-the-sky fantasies. With \"The Total Money Makeover: Classic Edition,\" you\\'ll be able to:Design a sure-fire plan for paying off all debt--meaning cars, houses, everything Recognize the 10 most dangerous money myths (these will kill you) Secure a big, fat nest egg for emergencies and retirement!',\n",
              "   'author': 'Dave Ramsey',\n",
              "   'genre': 'Business',\n",
              "   'id': 733.0,\n",
              "   'image_link': 'https://i.gr-assets.com/images/S/compressed.photo.goodreads.com/books/1441590984l/78427._SX318_.jpg',\n",
              "   'rating': 4.28,\n",
              "   'score': 0.1284203075933239,\n",
              "   'title': 'The Total Money Makeover: A Proven Plan for Financial Fitness'},\n",
              "  {'Desc': \"Mary Shelley began writing Frankenstein when she was only eighteen. At once a Gothic thriller, a passionate romance, and a cautionary tale about the dangers of science, Frankenstein tells the story of committed science student Victor Frankenstein. Obsessed with discovering the cause of generation and life and bestowing animation upon lifeless matter, Frankenstein assembles a human being from stolen body parts but; upon bringing it to life, he recoils in horror at the creature's hideousness. Tormented by isolation and loneliness, the once-innocent creature turns to evil and unleashes a campaign of murderous revenge against his creator, Frankenstein.Frankenstein, an instant bestseller and an important ancestor of both the horror and science fiction genres, not only tells a terrifying story, but also raises profound, disturbing questions about the very nature of life and the place of humankind within the cosmos: What does it mean to be human? What responsibilities do we have to each other? How far can we go in tampering with Nature? In our age, filled with news of organ donation genetic engineering, and bio-terrorism, these questions are more relevant than ever.\",\n",
              "   'author': 'Mary Wollstonecraft Shelley',\n",
              "   'genre': 'Non-Fiction',\n",
              "   'id': 1228.0,\n",
              "   'image_link': 'https://i.gr-assets.com/images/S/compressed.photo.goodreads.com/books/1498841231l/35031085.jpg',\n",
              "   'rating': 3.8,\n",
              "   'score': 0.11947992111669643,\n",
              "   'title': 'Frankenstein'}],\n",
              " 1363: [{'Desc': \"The revolutionary literary vision that sowed the seeds of Objectivism, Ayn Rand's groundbreaking philosophy, and brought her immediate worldwide acclaim.This modern classic is the story of intransigent young architect Howard Roark, whose integrity was as unyielding as granite...of Dominique Francon, the exquisitely beautiful woman who loved Roark passionately, but married his worst enemy...and of the fanatic denunciation unleashed by an enraged society against a great creator. As fresh today as it was then, Rand’s provocative novel presents one of the most challenging ideas in all of fiction—that man’s ego is the fountainhead of human progress...“A writer of great power. She has a subtle and ingenious mind and the capacity of writing brilliantly, beautifully, bitterly...This is the only novel of ideas written by an American woman that I can recall.”—The New York Times\",\n",
              "   'author': 'Chris Brogan',\n",
              "   'genre': 'Business',\n",
              "   'id': 524.0,\n",
              "   'image_link': 'https://i.gr-assets.com/images/S/compressed.photo.goodreads.com/books/1348265996l/13076469.jpg',\n",
              "   'rating': 3.92,\n",
              "   'score': 1.0000000000000004,\n",
              "   'title': 'The Impact Equation: Are You Making Things Happen or Just Making Noise?'},\n",
              "  {'Desc': 'Anthem has long been hailed as one of Ayn Rand\\'s classic novels, and a clear predecessor to her later masterpieces, The Fountainhead and Atlas Shrugged. In Anthem, Rand examines a frightening future in which individuals have no name, no independence, and no values. Equality 7-2521 lives in the dark ages of the future where all decisions are made by committee, all people live in collectives, and all traces of individualism have been wiped out. Despite such a restrictive environment, the spark of individual thought and freedom still burns in him--a passion which he has been taught to call sinful. In a purely egalitarian world, Equality 7-2521 dares to stand apart from the herd--to think and choose for himself, to discover electricity, and to love the woman of his choice. Now he has been marked for death for committing the ultimate sin. In a world where the great \"we\" reign supreme, he has rediscovered the lost and holy word--\"I.\"',\n",
              "   'author': 'Ayn Rand',\n",
              "   'genre': 'Non-Fiction',\n",
              "   'id': 1624.0,\n",
              "   'image_link': 'https://i.gr-assets.com/images/S/compressed.photo.goodreads.com/books/1388190459l/667.jpg',\n",
              "   'rating': 3.63,\n",
              "   'score': 0.13478546932256452,\n",
              "   'title': 'Anthem'},\n",
              "  {'Desc': \"Howard Belsey, a Rembrandt scholar who doesn't like Rembrandt, is an Englishman abroad and a long-suffering professor at Wellington, a liberal New England arts college. He has been married for thirty years to Kiki, an American woman who no longer resembles the sexy activist she once was. Their three children passionately pursue their own paths: Levi quests after authentic blackness, Zora believes that intellectuals can redeem everybody, and Jerome struggles to be a believer in a family of strict atheists. Faced with the oppressive enthusiasms of his children, Howard feels that the first two acts of his life are over and he has no clear plans for the finale. Or the encore.Then Jerome, Howard's older son, falls for Victoria, the stunning daughter of the right-wing icon Monty Kipps, and the two families find themselves thrown together in a beautiful corner of America, enacting a cultural and personal war against the background of real wars that they barely register. An infidelity, a death, and a legacy set in motion a chain of events that sees all parties forced to examine the unarticulated assumptions which underpin their lives. How do you choose the work on which to spend your life? Why do you love the people you love? Do you really believe what you claim to? And what is the beautiful thing, and how far will you go to get it?Set on both sides of the Atlantic, Zadie Smith's third novel is a brilliant analysis of family life, the institution of marriage, intersections of the personal and political, and an honest look at people's deceptions. It is also, as you might expect, very funny indeed.\",\n",
              "   'author': 'Zadie Smith',\n",
              "   'genre': 'Non-Fiction',\n",
              "   'id': 1827.0,\n",
              "   'image_link': 'https://i.gr-assets.com/images/S/compressed.photo.goodreads.com/books/1495961870l/3679._SY475_.jpg',\n",
              "   'rating': 3.73,\n",
              "   'score': 0.12572144183565379,\n",
              "   'title': 'On Beauty'},\n",
              "  {'Desc': \" How the world's leading innovators push their ideas to fruition again and again   Edison famously said that genius is 1 percent inspiration, 99 percent perspiration. Ideas for new businesses, solutions to the world's problems, and artistic breakthroughs are common, but great execution is rare.  According to Scott Belsky, the capacity to make ideas happen can be developed by anyone willing to develop their organizational habits and leadership capability. That's why he founded Behance, a company that helps creative people and teams across industries develop these skills.  Belsky has spent six years studying the habits of creative people and teams that are especially productive-the ones who make their ideas happen time and time again. After interviewing hundreds of successful creatives, he has compiled their most powerful-and often counterintuitive-practices, such as: •Generate ideas in moderation and kill ideas liberally  •Prioritize through nagging  •Encourage fighting within your team  While many of us obsess about discovering great new ideas, Belsky shows why it's better to develop the capacity to make ideas happen-a capacity that endures over time.\",\n",
              "   'author': 'Scott Belsky',\n",
              "   'genre': 'Business',\n",
              "   'id': 772.0,\n",
              "   'image_link': 'https://i.gr-assets.com/images/S/compressed.photo.goodreads.com/books/1347876337l/7696135.jpg',\n",
              "   'rating': 3.98,\n",
              "   'score': 0.11992003948169608,\n",
              "   'title': 'Making Ideas Happen: Overcoming the Obstacles Between Vision and Reality'},\n",
              "  {'Desc': \"The exhilarating dystopian novel that inspired George Orwell's 1984 and foreshadowed the worst excesses of Soviet RussiaYevgeny Zamyatin's We is a powerfully inventive vision that has influenced writers from George Orwell to Ayn Rand. In a glass-enclosed city of absolute straight lines, ruled over by the all-powerful 'Benefactor', the citizens of the totalitarian society of OneState live out lives devoid of passion and creativity - until D-503, a mathematician who dreams in numbers, makes a discovery: he has an individual soul. Set in the twenty-sixth century AD, We is the classic dystopian novel and was the forerunner of works such as George Orwell's 1984 and Aldous Huxley's Brave New World. It was suppressed for many years in Russia and remains a resounding cry for individual freedom, yet is also a powerful, exciting and vivid work of science fiction. Clarence Brown's brilliant translation is based on the corrected text of the novel, first published in Russia in 1988 after more than sixty years' suppression.\",\n",
              "   'author': 'Yevgeny Zamyatin',\n",
              "   'genre': 'Non-Fiction',\n",
              "   'id': 1816.0,\n",
              "   'image_link': 'https://i.gr-assets.com/images/S/compressed.photo.goodreads.com/books/1421883730l/76171.jpg',\n",
              "   'rating': 3.94,\n",
              "   'score': 0.11429808945306158,\n",
              "   'title': 'We'}]}"
            ]
          },
          "metadata": {
            "tags": []
          },
          "execution_count": 208
        }
      ]
    },
    {
      "cell_type": "code",
      "metadata": {
        "colab": {
          "base_uri": "https://localhost:8080/"
        },
        "id": "HYFDmgubZBvW",
        "outputId": "d281a663-20c4-4fcd-806b-31422dc55405"
      },
      "source": [
        "recommend_books(tfidf_embedding_transformer, cosine_similarity_tfidf, desc= \"One is tempted to say 'the only book you'll need on starting a business.' Brilliant! Genius! Choose your superlative-it'll fit.\\\"-Tom Peters   People starting out in business tend to seek step-by-step formulas or rules, but in reality there are no magic bullets. Rather, says veteran company-builder Norm Brodsky, there's a mentality that helps street- smart entrepreneurs solve problems and pursue opportunities as they arise.  Brodsky shares his hard-earned wisdom every month in Inc. magazine, in the hugely popular \\\"Street Smarts\\\" column he cowrites with Bo Burlingham. Now they've adapted their best advice into a comprehensive guide for anyone running a small business.\", vector_col='tfidf_vectors')"
      ],
      "execution_count": 153,
      "outputs": [
        {
          "output_type": "execute_result",
          "data": {
            "text/plain": [
              "[{'Desc': ' \"One is tempted to say \\'the only book you\\'ll need on starting a business.\\' Brilliant! Genius! Choose your superlative-it\\'ll fit.\"-Tom Peters   People starting out in business tend to seek step-by-step formulas or rules, but in reality there are no magic bullets. Rather, says veteran company-builder Norm Brodsky, there\\'s a mentality that helps street- smart entrepreneurs solve problems and pursue opportunities as they arise.  Brodsky shares his hard-earned wisdom every month in Inc. magazine, in the hugely popular \"Street Smarts\" column he cowrites with Bo Burlingham. Now they\\'ve adapted their best advice into a comprehensive guide for anyone running a small business.',\n",
              "  'author': 'Norm Brodsky',\n",
              "  'genre': 'Business',\n",
              "  'image_link': 'https://i.gr-assets.com/images/S/compressed.photo.goodreads.com/books/1347912518l/7218240.jpg',\n",
              "  'rating': 4.14,\n",
              "  'score': 1.0,\n",
              "  'title': 'Street Smarts: An All-Purpose Tool Kit for Entrepreneurs'},\n",
              " {'Desc': '\"It is [Tom] Peters—as consultant, writer, columnist, seminar lecturer, and stage performer—whose energy, style, influence, and ideas have [most] shaped new management thinking.”\\xa0—Movers and Shakers: The 100 Most Influential Figures in Modern Business “We live in a Tom Peters world.” —Fortune Magazine Business uber-guru Tom Peters is back with his first book in a decade, The Little Big Things. In this age of economic recession and financial uncertainty, the patented Peters approach to business and management—no-nonsense, witty, down-to-earth, insightful—is more pertinent now than ever. As essential for small-business owners as it is for the heads of major corporations, The Little Big Things is a rousing call-to-arms to American business to get “back to the basics” of running a successful enterprise. ',\n",
              "  'author': 'Jeremy Rifkin',\n",
              "  'genre': 'Business',\n",
              "  'image_link': 'https://i.gr-assets.com/images/S/compressed.photo.goodreads.com/books/1392432251l/18594514.jpg',\n",
              "  'rating': 3.99,\n",
              "  'score': 0.2117890930424689,\n",
              "  'title': 'The Zero Marginal Cost Society: The Internet of Things, the Collaborative Commons, and the Eclipse of Capitalism'},\n",
              " {'Desc': 'There is an epidemic of unhappiness in the American workplace. A full 70 percent of workers in the United States report that they are disengaged from their jobs. When asked, \"Do you have the opportunity to do what you do best every day?\" only 20 percent of nearly 2 million employees said yes. It is no wonder that 56 percent of all Americans dream of starting their own business. So why don\\'t they do so? Because starting one\\'s own business is seen as difficult, expensive, and risky.In this extraordinary book, successful Go It Alone! entrepreneur Bruce Judson explains that the conventional wisdom about starting your own business is stunningly wrong. Using the leverage of technology -- e-mail, the World Wide Web, and the remarkable array of off-the-shelf business services now available -- it is dramatically easier to start your own business. Magnified by these new services, it is also possible to create, for the first time, a highly focused business.Bruce Judson shows you the practical steps that will allow nearly any individual to create a business, often using job skills that seem to require an entire corporation for support. It is no longer necessary to spend time on the tasks that don\\'t add value. It is now possible to stay small but reap big profits. Go-it-alone businesses allow the individual the freedom to concentrate on their greatest skills. After reading this book, your motto will be \"Do What You Do Best, Let Others Do the Rest.\"',\n",
              "  'author': 'Kurt Eichenwald',\n",
              "  'genre': 'Business',\n",
              "  'image_link': 'https://i.gr-assets.com/images/S/compressed.photo.goodreads.com/books/1388230946l/58557.jpg',\n",
              "  'rating': 3.94,\n",
              "  'score': 0.18554653536138405,\n",
              "  'title': 'The Informant'},\n",
              " {'Desc': \"A lot of people talk about how great it is to start a business, but only Ben Horowitz is brutally honest about how hard it is to run one.In The Hard Thing About Hard Things, Ben Horowitz, cofounder of Andreessen Horowitz and one of Silicon Valley's most respected and experienced entrepreneurs, draws on his own story of founding, running, selling, buying, managing, and investing in technology companies to offer essential advice and practical wisdom for navigating the toughest problems business schools don't cover. His blog has garnered a devoted following of millions of readers who have come to rely on him to help them run their businesses. A lifelong rap fan, Horowitz amplifies business lessons with lyrics from his favorite songs and tells it straight about everything from firing friends to poaching competitors, from cultivating and sustaining a CEO mentality to knowing the right time to cash in.His advice is grounded in anecdotes from his own hard-earned rise—from cofounding the early cloud service provider Loudcloud to building the phenomenally successful Andreessen Horowitz venture capital firm, both with fellow tech superstar Marc Andreessen (inventor of Mosaic, the Internet's first popular Web browser). This is no polished victory lap; he analyzes issues with no easy answers through his trials, includingdemoting (or firing) a loyal friend;whether you should incorporate titles and promotions, and how to handle them;if it's OK to hire people from your friend's company;how to manage your own psychology, while the whole company is relying on you;what to do when smart people are bad employees;why Andreessen Horowitz prefers founder CEOs, and how to become one;whether you should sell your company, and how to do it.Filled with Horowitz's trademark humor and straight talk, and drawing from his personal and often humbling experiences, The Hard Thing About Hard Things is invaluable for veteran entrepreneurs as well as those aspiring to their own new ventures.\",\n",
              "  'author': 'Ben Horowitz',\n",
              "  'genre': 'Business',\n",
              "  'image_link': 'https://i.gr-assets.com/images/S/compressed.photo.goodreads.com/books/1386609333l/18176747.jpg',\n",
              "  'rating': 4.24,\n",
              "  'score': 0.17038092021477297,\n",
              "  'title': 'The Hard Thing About Hard Things: Building a Business When There Are No Easy Answers'},\n",
              " {'Desc': \"E-Myth \\\\ 'e-,'mith\\\\ n 1: the entrepreneurial myth: the myth that most people who start small businesses are entrepreneurs 2: the fatal assumption that an individual who understands the technical work of a business can successfully run a business that does that technical workVoted #1 business book by Inc. 500 CEOs.An instant classic, this revised and updated edition of the phenomenal bestseller dispels the myths about starting your own business. Small business consultant and author Michael E. Gerber, with sharp insight gained from years of experience, points out how common assumptions, expectations, and even technical expertise can get in the way of running a successful business.Gerber walks you through the steps in the life of a business—from entrepreneurial infancy through adolescent growing pains to the mature entrepreneurial perspective: the guiding light of all businesses that succeed—and shows how to apply the lessons of franchising to any business, whether or not it is a franchise. Most importantly, Gerber draws the vital, often overlooked distinction between working on your business and working in your business.The E-Myth Revisited will help you grow your business in a productive, assured way.\",\n",
              "  'author': 'Michael E. Gerber',\n",
              "  'genre': 'Business',\n",
              "  'image_link': 'https://i.gr-assets.com/images/S/compressed.photo.goodreads.com/books/1435673032l/81948._SY475_.jpg',\n",
              "  'rating': 4.01,\n",
              "  'score': 0.1456387629720113,\n",
              "  'title': \"The E-Myth Revisited: Why Most Small Businesses Don't Work and What to Do About It\"},\n",
              " {'Desc': 'Organized into more than 200 thought- and action-provoking elements—from the importance of clean trucks and bathrooms to conversations with entrepreneurs creating new markets—Tom Peters, bestselling management guru offers a practical guide to impractical times. In The Pursuit of Wow!, Tom Peters offers readers the words, the tools, to survive in tumultuous business environments. In his groundbreaking book, In Search of Excellence changed the way business does business. Now it’s time to take the next leap into the cyberstage era. Getting to a place called excellence is no longer the idea. You’ve got to take that leap, then leap again—catapult their imaginations, blow their mindsets—in a word, wow! them. Once more the unconventional Peters stimulates corporate thought processes. Along with the best of his columns, Peters includes questions and rebuttals that come from readers and listeners, as well as his own candid responses. A must-read for every business person.',\n",
              "  'author': 'Luke Sullivan',\n",
              "  'genre': 'Business',\n",
              "  'image_link': 'https://i.gr-assets.com/images/S/compressed.photo.goodreads.com/books/1386923975l/239409.jpg',\n",
              "  'rating': 4.2,\n",
              "  'score': 0.139873335908596,\n",
              "  'title': 'Hey, Whipple, Squeeze This: A Guide to Creating Great Ads'}]"
            ]
          },
          "metadata": {
            "tags": []
          },
          "execution_count": 153
        }
      ]
    },
    {
      "cell_type": "markdown",
      "metadata": {
        "id": "-2eogBr7FsSb"
      },
      "source": [
        "# Content - Based Recommendation System Using Word2Vec Model"
      ]
    },
    {
      "cell_type": "code",
      "metadata": {
        "id": "sUdgvEJqks3k",
        "colab": {
          "base_uri": "https://localhost:8080/"
        },
        "outputId": "f818b6cc-c474-4b0f-9e60-7b5393ef92aa"
      },
      "source": [
        "# Downloading the Google pretrained Word2Vec Model\n",
        "!wget -P /root/input/ -c \"https://s3.amazonaws.com/dl4j-distribution/GoogleNews-vectors-negative300.bin.gz\""
      ],
      "execution_count": 71,
      "outputs": [
        {
          "output_type": "stream",
          "text": [
            "--2021-07-25 08:55:48--  https://s3.amazonaws.com/dl4j-distribution/GoogleNews-vectors-negative300.bin.gz\n",
            "Resolving s3.amazonaws.com (s3.amazonaws.com)... 52.217.165.16\n",
            "Connecting to s3.amazonaws.com (s3.amazonaws.com)|52.217.165.16|:443... connected.\n",
            "HTTP request sent, awaiting response... 200 OK\n",
            "Length: 1647046227 (1.5G) [application/x-gzip]\n",
            "Saving to: ‘/root/input/GoogleNews-vectors-negative300.bin.gz’\n",
            "\n",
            "GoogleNews-vectors- 100%[===================>]   1.53G  69.8MB/s    in 24s     \n",
            "\n",
            "2021-07-25 08:56:12 (66.1 MB/s) - ‘/root/input/GoogleNews-vectors-negative300.bin.gz’ saved [1647046227/1647046227]\n",
            "\n"
          ],
          "name": "stdout"
        }
      ]
    },
    {
      "cell_type": "code",
      "metadata": {
        "id": "oGVSIbRHk_pn"
      },
      "source": [
        "EMBEDDING_FILE = '/root/input/GoogleNews-vectors-negative300.bin.gz'\n",
        "google_word2vec = KeyedVectors.load_word2vec_format(EMBEDDING_FILE, binary=True)"
      ],
      "execution_count": 72,
      "outputs": []
    },
    {
      "cell_type": "code",
      "metadata": {
        "id": "fvu_Z9QDv2Zy"
      },
      "source": [
        "#splitting the description into words\n",
        "i = 0\n",
        "corpus = []\n",
        "for words in df['cleaned_2']:\n",
        "    corpus.append(words.split())"
      ],
      "execution_count": 84,
      "outputs": []
    },
    {
      "cell_type": "code",
      "metadata": {
        "id": "PbC7_Zx1l8sc",
        "colab": {
          "base_uri": "https://localhost:8080/"
        },
        "outputId": "191b49b3-5b53-4c25-8951-540de0d359ba"
      },
      "source": [
        "# Training our corpus with Google Pretrained Model\n",
        "%%time\n",
        "google_model = Word2Vec(size = 300, window=5, min_count = 1, workers = -1)\n",
        "google_model.build_vocab(corpus)\n",
        "\n",
        "#model.intersect_word2vec_format('./word2vec/GoogleNews-vectors-negative300.bin', lockf=1.0, binary=True)\n",
        "\n",
        "google_model.intersect_word2vec_format(EMBEDDING_FILE, lockf=1.0, binary=True)\n",
        "\n",
        "google_model.train(corpus, total_examples=google_model.corpus_count, epochs = 5)"
      ],
      "execution_count": 85,
      "outputs": [
        {
          "output_type": "stream",
          "text": [
            "CPU times: user 2min 11s, sys: 1.49 s, total: 2min 12s\n",
            "Wall time: 2min 12s\n"
          ],
          "name": "stdout"
        }
      ]
    },
    {
      "cell_type": "code",
      "metadata": {
        "colab": {
          "base_uri": "https://localhost:8080/"
        },
        "id": "BF5DKI-RvxaA",
        "outputId": "79b5d22c-5987-4fa2-bb54-75ad296060b4"
      },
      "source": [
        "joblib.dump(google_model, 'google_model.pkl')"
      ],
      "execution_count": 242,
      "outputs": [
        {
          "output_type": "execute_result",
          "data": {
            "text/plain": [
              "['google_model.pkl']"
            ]
          },
          "metadata": {
            "tags": []
          },
          "execution_count": 242
        }
      ]
    },
    {
      "cell_type": "code",
      "metadata": {
        "id": "jIwnKF80vwF5",
        "colab": {
          "base_uri": "https://localhost:8080/"
        },
        "outputId": "0bcb7eea-0965-49a6-9d3b-fbdf0975ed68"
      },
      "source": [
        "google_model.wv.most_similar(positive=[\"book\"])"
      ],
      "execution_count": 87,
      "outputs": [
        {
          "output_type": "execute_result",
          "data": {
            "text/plain": [
              "[('tome', 0.7485830783843994),\n",
              " ('books', 0.7379178404808044),\n",
              " ('memoir', 0.7302927374839783),\n",
              " ('autobiography', 0.6741527915000916),\n",
              " ('Book', 0.6479282379150391),\n",
              " ('paperback', 0.6471226811408997),\n",
              " ('novels', 0.6341458559036255),\n",
              " ('cookbook', 0.6180881261825562),\n",
              " ('biography', 0.6155841946601868),\n",
              " ('bestseller', 0.6138448119163513)]"
            ]
          },
          "metadata": {
            "tags": []
          },
          "execution_count": 87
        }
      ]
    },
    {
      "cell_type": "code",
      "metadata": {
        "id": "d8RQXHCfZqcF"
      },
      "source": [
        "class Word2VecVectorizer(TransformerMixin, BaseEstimator):\n",
        "    def fit(self, X, y=None):\n",
        "        return self\n",
        "    \n",
        "    def transform(self, X):\n",
        "      # Creating a list for storing the vectors (description into vectors)\n",
        "      word_embeddings = []\n",
        "\n",
        "      # Reading the each book description \n",
        "      for line in X:\n",
        "        avgword2vec = None\n",
        "        count = 0\n",
        "        for word in line.split():\n",
        "            if word in google_model.wv.vocab:\n",
        "                count += 1\n",
        "                if avgword2vec is None:\n",
        "                    avgword2vec = google_model[word]\n",
        "                else:\n",
        "                    avgword2vec = avgword2vec + google_model[word]\n",
        "                \n",
        "        if avgword2vec is not None:\n",
        "            avgword2vec = avgword2vec / count\n",
        "        if avgword2vec is None:\n",
        "          print(line)\n",
        "        else:\n",
        "          word_embeddings.append(avgword2vec)#.reshape(-1,1))\n",
        "      word_embeddings = np.asarray(word_embeddings)\n",
        "      return word_embeddings"
      ],
      "execution_count": 158,
      "outputs": []
    },
    {
      "cell_type": "code",
      "metadata": {
        "id": "cJiEwHTRbWcu"
      },
      "source": [
        "w2v_trans = ColumnTransformer(transformers=[\n",
        "    ('w2v', Word2VecVectorizer(), 0)\n",
        "])\n",
        "w2v_vectors, w2v_embedding_transformer = fit_word_embeddings(df.cleaned_2, w2v_trans)"
      ],
      "execution_count": null,
      "outputs": []
    },
    {
      "cell_type": "code",
      "metadata": {
        "colab": {
          "base_uri": "https://localhost:8080/"
        },
        "id": "Zzz8TvO-crdU",
        "outputId": "a04e65b8-e226-48ef-8f30-363fee76eb81"
      },
      "source": [
        "type(w2v_vectors), w2v_vectors.shape, df.shape"
      ],
      "execution_count": 164,
      "outputs": [
        {
          "output_type": "execute_result",
          "data": {
            "text/plain": [
              "(numpy.ndarray, (2382, 300), (2382, 12))"
            ]
          },
          "metadata": {
            "tags": []
          },
          "execution_count": 164
        }
      ]
    },
    {
      "cell_type": "code",
      "metadata": {
        "id": "z1-flhvkdXcy"
      },
      "source": [
        "w2v_vectors_list = []\n",
        "for i in w2v_vectors:\n",
        "  w2v_vectors_list.append(i)\n",
        "#adding w2v vectors as column\n",
        "df['w2v_vectors'] = w2v_vectors_list\n",
        "cosine_similarity_w2v = cosine_similarity(w2v_vectors_list, w2v_vectors_list)"
      ],
      "execution_count": 166,
      "outputs": []
    },
    {
      "cell_type": "code",
      "metadata": {
        "colab": {
          "base_uri": "https://localhost:8080/"
        },
        "id": "OlyJYkv6JGzH",
        "outputId": "07aef7a2-4245-4510-976a-d8e09c9290c9"
      },
      "source": [
        "joblib.dump(w2v_vectors_list, \"w2v_vectors_list.pkl\")\n",
        "joblib.dump(w2v_embedding_transformer, \"w2v_embedding_transformer.pkl\")\n",
        "joblib.dump(cosine_similarity_w2v, \"cosine_similarity_w2v.pkl\")"
      ],
      "execution_count": 241,
      "outputs": [
        {
          "output_type": "execute_result",
          "data": {
            "text/plain": [
              "['cosine_similarity_w2v.pkl']"
            ]
          },
          "metadata": {
            "tags": []
          },
          "execution_count": 241
        }
      ]
    },
    {
      "cell_type": "code",
      "metadata": {
        "colab": {
          "base_uri": "https://localhost:8080/"
        },
        "id": "IcunjyqGfy4N",
        "outputId": "4fc143b0-46ca-4d75-c22e-7d5f148179d6"
      },
      "source": [
        "recommend_books(w2v_embedding_transformer, cosine_similarity_w2v, desc= \"One is tempted to say 'the only book you'll need on starting a business.' Brilliant! Genius! Choose your superlative-it'll fit.\\\"-Tom Peters   People starting out in business tend to seek step-by-step formulas or rules, but in reality there are no magic bullets. Rather, says veteran company-builder Norm Brodsky, there's a mentality that helps street- smart entrepreneurs solve problems and pursue opportunities as they arise.  Brodsky shares his hard-earned wisdom every month in Inc. magazine, in the hugely popular \\\"Street Smarts\\\" column he cowrites with Bo Burlingham. Now they've adapted their best advice into a comprehensive guide for anyone running a small business.\", vector_col='w2v_vectors')"
      ],
      "execution_count": 209,
      "outputs": [
        {
          "output_type": "stream",
          "text": [
            "/usr/local/lib/python3.7/dist-packages/ipykernel_launcher.py:17: DeprecationWarning: Call to deprecated `__getitem__` (Method will be removed in 4.0.0, use self.wv.__getitem__() instead).\n",
            "/usr/local/lib/python3.7/dist-packages/ipykernel_launcher.py:19: DeprecationWarning: Call to deprecated `__getitem__` (Method will be removed in 4.0.0, use self.wv.__getitem__() instead).\n"
          ],
          "name": "stderr"
        },
        {
          "output_type": "execute_result",
          "data": {
            "text/plain": [
              "[{'Desc': ' \"One is tempted to say \\'the only book you\\'ll need on starting a business.\\' Brilliant! Genius! Choose your superlative-it\\'ll fit.\"-Tom Peters   People starting out in business tend to seek step-by-step formulas or rules, but in reality there are no magic bullets. Rather, says veteran company-builder Norm Brodsky, there\\'s a mentality that helps street- smart entrepreneurs solve problems and pursue opportunities as they arise.  Brodsky shares his hard-earned wisdom every month in Inc. magazine, in the hugely popular \"Street Smarts\" column he cowrites with Bo Burlingham. Now they\\'ve adapted their best advice into a comprehensive guide for anyone running a small business.',\n",
              "  'author': 'Norm Brodsky',\n",
              "  'genre': 'Business',\n",
              "  'id': 40.0,\n",
              "  'image_link': 'https://i.gr-assets.com/images/S/compressed.photo.goodreads.com/books/1347912518l/7218240.jpg',\n",
              "  'rating': 4.14,\n",
              "  'score': 0.999283492565155,\n",
              "  'title': 'Street Smarts: An All-Purpose Tool Kit for Entrepreneurs'},\n",
              " {'Desc': \"In The $100 Startup, Chris Guillebeau shows you how to lead of life of adventure, meaning and purpose – and earn a good living. \\xa0 Still in his early thirties, Chris is on the verge of completing a tour of every country on earth – he’s already visited more than 175 nations – and yet he’s never held a “real job” or earned a regular paycheck.\\xa0 Rather, he has a special genius for turning ideas into income, and he uses what he earns both to support his life of adventure and to give back.\\xa0  \\xa0 There are many others like Chris – those who’ve found ways to opt out of traditional employment and create the time and income to pursue what they find meaningful.\\xa0 Sometimes, achieving that perfect blend of passion and income doesn’t depend on shelving what you currently do.\\xa0 You can start small with your venture, committing little time or money, and wait to take the real plunge when you're sure it's successful.  \\xa0 In preparing to write this book, Chris identified 1,500 individuals who have built businesses earning $50,000 or more from a modest investment (in many cases, $100 or less), and from that group he’s chosen to focus on the 50 most intriguing case studies.\\xa0 In nearly all cases, people with no special skills discovered aspects of their personal passions that could be monetized, and were able to restructure their lives in ways that gave them greater freedom and fulfillment. \\xa0 Here, finally, distilled into one easy-to-use guide, are the most valuable lessons from those who’ve learned how to turn what they do into a gateway to self-fulfillment.\\xa0 It’s all about finding the intersection between your “expertise” – even if you don’t consider it such -- and what other people will pay for.\\xa0 You don’t need an MBA, a business plan or even employees.\\xa0 All you need is a product or service that springs from what you love to do anyway, people willing to pay, and a way to get paid. \\xa0 Not content to talk in generalities, Chris tells you exactly how many dollars his group of unexpected entrepreneurs required to get their projects up and running; what these individuals did in the first weeks and months to generate significant cash; some of the key mistakes they made along the way, and the crucial insights that made the business stick.\\xa0 Among Chris’s key principles: if you’re good at one thing, you’re probably good at something else; never teach a man to fish – sell him the fish instead; and in the battle between planning and action, action wins.  \\xa0 In ancient times, people who were dissatisfied with their lives dreamed of finding magic lamps, buried treasure, or streets paved with gold.\\xa0 Today, we know that it’s up to us to change our lives.\\xa0 And the best part is, if we change our own life, we can help others change theirs.\\xa0 This remarkable book will start you on your way.\",\n",
              "  'author': 'Chris Guillebeau',\n",
              "  'genre': 'Business',\n",
              "  'id': 575.0,\n",
              "  'image_link': 'https://i.gr-assets.com/images/S/compressed.photo.goodreads.com/books/1345666854l/12605157.jpg',\n",
              "  'rating': 3.84,\n",
              "  'score': 0.9361423850059509,\n",
              "  'title': 'The $100 Startup: Reinvent the Way You Make a Living, Do What You Love, and Create a New Future'},\n",
              " {'Desc': 'In this eye-opening account, Cal Newport debunks the long-held belief that \"follow your passion\" is good advice. Not only is the cliché flawed-preexisting passions are rare and have little to do with how most people end up loving their work-but it can also be dangerous, leading to anxiety and chronic job hopping.After making his case against passion, Newport sets out on a quest to discover the reality of how people end up loving what they do. Spending time with organic farmers, venture capitalists, screenwriters, freelance computer programmers, and others who admitted to deriving great satisfaction from their work, Newport uncovers the strategies they used and the pitfalls they avoided in developing their compelling careers.Matching your job to a preexisting passion does not matter, he reveals. Passion comes after you put in the hard work to become excellent at something valuable, not before. In other words, what you do for a living is much less important than how you do it.With a title taken from the comedian Steve Martin, who once said his advice for aspiring entertainers was to \"be so good they can\\'t ignore you,\" Cal Newport\\'s clearly written manifesto is mandatory reading for anyone fretting about what to do with their life, or frustrated by their current job situation and eager to find a fresh new way to take control of their livelihood. He provides an evidence-based blueprint for creating work you love.So Good They Can\\'t Ignore You will change the way we think about our careers, happiness, and the crafting of a remarkable life.',\n",
              "  'author': 'Cal Newport',\n",
              "  'genre': 'Business',\n",
              "  'id': 636.0,\n",
              "  'image_link': 'https://i.gr-assets.com/images/S/compressed.photo.goodreads.com/books/1360564614l/13525945.jpg',\n",
              "  'rating': 4.11,\n",
              "  'score': 0.9345294237136841,\n",
              "  'title': \"So Good They Can't Ignore You: Why Skills Trump Passion in the Quest for Work You Love\"},\n",
              " {'Desc': 'When Hugh MacLeod was a struggling young copywriter living in a YMCA, he started to doodle on the backs of business cards while sitting at a bar. Those cartoons eventually led to a popular blog-gapingvoid.com-and a reputation for pithy insight and humor, in both words and pictures.MacLeod has opinions on everything from marketing to the meaning of life, but one of his main subjects is creativity. How do new ideas emerge in a cynical, risk-averse world? Where does inspiration come from? What does it take to make a living as a creative person?Ignore Everybody expands on MacLeod\\'s sharpest insights, wittiest cartoons, and most useful advice. For example:-Selling out is harder than it looks. Diluting your product to make it more commercial will just make people like it less.-If your plan depends on you suddenly being \"discovered\" by some big shot, your plan will probably fail. Nobody suddenly discovers anything. Things are made slowly and in pain.-Don\\'t try to stand out from the crowd; avoid crowds altogether. There\\'s no point trying to do the same thing as 250,000 other young hopefuls, waiting for a miracle. All existing business models are wrong. Find a new one.-The idea doesn\\'t have to be big. It just has to be yours. The sovereignty you have over your work will inspire far more people than the actual content ever will.After learning MacLeod\\'s forty keys to creativity, you will be ready to unlock your own brilliance and unleash it on the world.',\n",
              "  'author': 'Bill Aulet',\n",
              "  'genre': 'Business',\n",
              "  'id': 1067.0,\n",
              "  'image_link': 'https://i.gr-assets.com/images/S/compressed.photo.goodreads.com/books/1384803731l/18652777.jpg',\n",
              "  'rating': 4.29,\n",
              "  'score': 0.9339132308959961,\n",
              "  'title': 'Disciplined Entrepreneurship: 24 Steps to a Successful Startup'},\n",
              " {'Desc': 'How do you inspire a diverse team to work together, going all out in pursuit of a single, challenging goal? How do you get your team to commit to bold goals? How do you stay motivated despite setbacks and disappointments? And what do you do when it looks like you’re headed for failure?  In Radical Focus, Christina Wodtke combines her hard earned experience as an executive at Zynga, Linkedin and many of Silicon Valley’s hottest companies to answer those questions. It’s not about to-do lists and accountability charts. It’s about creating a framework for regular check-ins, key results, and most of all, the beauty of a good fail – and how to take a temporary disaster and turn it into a future success.  In this book, Wodtke takes you through the fictional case study of Hanna and Jack, who are struggling to survive in their own startup. They fight shiny object syndrome, losing focus, and dealing with communication issues. After hard lessons, they learn the practical steps they need to do what must be done.  The second half of the book demonstrates how to use Objectives and Key Results (OKRs) to help teams realize big goals in a methodical way, leaving nothing to chance. Laid out in a practical but compelling way, she makes the lessons of Hanna and Jack’s story clear and actionable.  Ready to move your team in the right direction? Read this, and learn the system of creating your focus – and finding success.    \"Busy grinding without purpose is the secret death of too many startups. In this memorable story, Christina gives us a glimpse of a more satisfying kind of startup--still hard and chaotic but full of purpose and the chance to build something great.\"  James Cham, Founder, Bloomberg Beta    \"This book is useful, actionable, and actually fun to read! If you want to get your team aligned around real, measurable goals, Radical Focus will teach you how to do it quickly and clearly.\"  -Laura Klein, Principal, Users Know    \"Someone once told me that \\'problems are just opportunities that haven’t presented themselves\\'. Since I was introduced to OKRs, they\\'ve been an invaluable tool for me, and our company. Christina\\'s ideas have been instrumental, allowing me to better navigate the often ambiguous approach to goal setting and along the way creating a more open and accountable team and a clearer path for myself professionally. I personally can\\'t thank her enough for the guidance.\"  Scott Baldwin, Director of Services, Yellow Pencil    \"Radical Focus illustrates how to implement OKRs in an engaging, compact, realistic story. Best of all, Wodtke proves OKRs can be fun!\" Ben Lamorte, OKRs.com',\n",
              "  'author': 'Thomas Sowell',\n",
              "  'genre': 'Business',\n",
              "  'id': 1099.0,\n",
              "  'image_link': 'https://i.gr-assets.com/images/S/compressed.photo.goodreads.com/books/1388328985l/3023.jpg',\n",
              "  'rating': 4.32,\n",
              "  'score': 0.9327090978622437,\n",
              "  'title': \"Basic Economics: A Citizen's Guide to the Economy\"},\n",
              " {'Desc': 'The bestselling business classic that Raytheon CEOWilliam Swanson made famous.Every once in awhile, there is a book with a message so timeless, so universal, that it transcends generations. The Unwritten Laws of Business is such a book. Originally published over 60 years ago as The Unwritten Laws of Engineering, it has sold over 100,000 copies, despite the fact that it has never been available before to general readers. Fully revised for business readers today, here are but a few of the gems you’ll find in this little-known business classic: If you take care of your present job well, the future will take care of itself.The individual who says nothing is usually credited with having nothing to say.Whenever you are performing someone else’s function, you are probably neglecting your own.Martyrdom only rarely makes heroes, and in the business world, such heroes and martyrs often find themselves unemployed.Refreshingly free of the latest business fads and jargon, this is a book that is wise and insightful, capturing and distilling the timeless truths and principles that underlie management and business the world over.The little book with the big history.In the summer of 2005, Business 2.0 published a cover story on Raytheon CEO William Swanson’s self-published pamphlet, Swanson’s Unwritten Rules of Management. Lauded by such chief executives as Jack Welch and Warren Buffett, the booklet becamea quiet phenomenon. As it turned out, much of Swanson’s book drew from a classic of business literature that has been in print for more than sixty years. Now, in a new edition revised and updated for business readers today, we are reissuing the 1944 classic that inspired a number of Swanson’s “rules”: The Unwritten Laws of Business. Filled with sage advice and written in a spare, engaging style, The Unwritten Laws of Business offers insights on working with others, reporting to a boss, organizing a project, running a meeting, advancing your career, and more. Here’s just a sprinkling of the old-fashioned, yet surprisingly relevant, wisdom you’ll find in these pages:If you have no intention of listening to, considering, and perhaps using, someone’s opinion, don’t ask for it.Count any meeting a failure that does not end up with a definite understanding as to what’s going to be done, who’s going to do it, and when.The common belief that everyone can do anything if they just try hard enough is a formula for inefficiency at best and for complete failure at worst.It is natural enough to “look out for Number One first,” but when you do, your associates will be noticeably disinclined to look out for you.Whether you’re a corporate neophyte or seasoned manager, this charming book reveals everything you need to know about the “unwritten” laws of business.',\n",
              "  'author': 'Harvard Business School Press',\n",
              "  'genre': 'Business',\n",
              "  'id': 147.0,\n",
              "  'image_link': 'https://i.gr-assets.com/images/S/compressed.photo.goodreads.com/books/1344703949l/9777102.jpg',\n",
              "  'rating': 4.04,\n",
              "  'score': 0.932456374168396,\n",
              "  'title': \"HBR's 10 Must Reads on Leadership\"}]"
            ]
          },
          "metadata": {
            "tags": []
          },
          "execution_count": 209
        }
      ]
    },
    {
      "cell_type": "code",
      "metadata": {
        "colab": {
          "base_uri": "https://localhost:8080/"
        },
        "id": "8tv8oopX-kaS",
        "outputId": "608e0dae-5e37-41aa-92d0-74819220f703"
      },
      "source": [
        "output = recommend_books(w2v_embedding_transformer,cosine_similarity_w2v, title='Steve Jobs')\n",
        "print(json.dumps(output, indent = 4))"
      ],
      "execution_count": 210,
      "outputs": [
        {
          "output_type": "stream",
          "text": [
            "{\n",
            "    \"565\": [\n",
            "        {\n",
            "            \"Desc\": \"#1 New York Times Bestseller There have been many books\\u2014on a large and small scale\\u2014about Steve Jobs, one of the most famous CEOs in history. But this book is different from all the others.Becoming Steve Jobs takes on and breaks down the existing myth and stereotypes about Steve Jobs. The conventional, one-dimensional view of Jobs is that he was half-genius, half-jerk from youth, an irascible and selfish leader who slighted friends and family alike. Becoming Steve Jobs answers the central question about the life and career of the Apple cofounder and CEO: How did a young man so reckless and arrogant that he was exiled from the company he founded become the most effective visionary business leader of our time, ultimately transforming the daily life of billions of people?Drawing on incredible and sometimes exclusive access, Schlender and Tetzeli tell a different story of a real human being who wrestled with his failings and learned to maximize his strengths over time. Their rich, compelling narrative is filled with stories never told before from the people who knew Jobs best, and who decided to open up to the authors, including his family, former inner circle executives, and top people at Apple, Pixar and Disney, most notably Tim Cook, Jony Ive, Eddy Cue, Ed Catmull, John Lasseter, Robert Iger and many others. In addition, Brent knew Jobs personally for 25 years and draws upon his many interviews with him, on and off the record, in writing the book. He and Rick humanize the man and explain, rather than simply describe, his behavior. Along the way, the book provides rich context about the technology revolution we all have lived through, and the ways in which Jobs changed our world.Schlender and Tetzeli make clear that Jobs's astounding success at Apple was far more complicated than simply picking the right products: he became more patient, he learned to trust his inner circle, and discovered the importance of growing the company incrementally rather than only shooting for dazzling game-changing products.A rich and revealing account that will change the way we view Jobs, Becoming Steve Jobs shows us how one of the most colorful and compelling figures of our times was able to combine his unchanging, relentless passion with a more mature management style to create one of the most valuable and beloved companies on the planet.\",\n",
            "            \"author\": \"Mark Cuban\",\n",
            "            \"genre\": \"Business\",\n",
            "            \"image_link\": \"https://i.gr-assets.com/images/S/compressed.photo.goodreads.com/books/1441897247l/13344951._SY475_.jpg\",\n",
            "            \"rating\": 4.05,\n",
            "            \"title\": \"How to Win at the Sport of Business: If I Can Do It, You Can Do It\",\n",
            "            \"score\": 0.9629985094070435,\n",
            "            \"id\": 1065.0\n",
            "        },\n",
            "        {\n",
            "            \"Desc\": \"iCon takes a look at the most astounding figure in a business era noted for its mavericks, oddballs, and iconoclasts. Drawing on a wide range of sources, Jeffrey Young and William Simon provide new perspectives on the legendary creation of Apple, detail Jobs\\u2019s meteoric rise, and the devastating plunge that left him not only out of Apple, but out of the computer-making business entirely. This unflinching and completely unauthorized portrait reveals both sides of Jobs\\u2019s role in the remarkable rise of the Pixar animation studio, also re-creates the acrimony between Jobs and Disney\\u2019s Michael Eisner, and examines Jobs\\u2019s dramatic his rise from the ashes with his recapture of Apple. The authors examine the takeover and Jobs\\u2019s reinvention of the company with the popular iMac and his transformation of the industry with the revolutionary iPod. iCon is must reading for anyone who wants to understand how the modern digital age has been formed, shaped, and refined by the most influential figure of the age\\u2013a master of three industries: movies, music, and computers. Editorial Reviews With Simon (coauthor, The Art of Intrusion), journalist Young here updates Steve Jobs: The Journey Is the Reward, his biography of the Apple Computer CEO. The authors, who call Jobs the \\\"rock star of high tech,\\\" chronicle the remarkable comeback of the technology wunderkind who had been forced out of Apple in 1985. Jobs subsequently started Pixar, which compiled an impressive track record in developing animated films such as Toy Story and Finding Nemo. He eventually returned to Apple in 1997, where he was instrumental in developing the iMac and the iPod. Many biographies of Jobs suffer from his refusal to cooperate, and this one also betrays a hurried incompleteness, as if the authors were fearful that Jobs might achieve something new that they would be unable to include in time for publication. The book occasionally has a gossipy tone, especially in its overus\",\n",
            "            \"author\": \"David J. Anderson\",\n",
            "            \"genre\": \"Business\",\n",
            "            \"image_link\": \"https://i.gr-assets.com/images/S/compressed.photo.goodreads.com/books/1335865085l/8086552.jpg\",\n",
            "            \"rating\": 3.98,\n",
            "            \"title\": \"Kanban: Successful Evolutionary Change for Your Technology Business\",\n",
            "            \"score\": 0.9410659074783325,\n",
            "            \"id\": 317.0\n",
            "        },\n",
            "        {\n",
            "            \"Desc\": \"A grand vision defined: The CEO of Disney, one of Time's most influential people of 2019, shares the ideas and values he embraced to reinvent one of the most beloved companies in the world and inspire the people who bring the magic to life.Robert Iger became CEO of The Walt Disney Company in 2005, during a difficult time. Competition was more intense than ever and technology was changing faster than at any time in the company's history. His vision came down to three clear ideas: Recommit to the concept that quality matters, embrace technology instead of fighting it, and think bigger--think global--and turn Disney into a stronger brand in international markets.Twelve years later, Disney is the largest, most respected media company in the world, counting Pixar, Marvel, Lucasfilm, and 21st Century Fox among its properties. Its value is nearly five times what it was when Iger took over, and he is recognized as one of the most innovative and successful CEOs of our era.In The Ride of a Lifetime, Robert Iger shares the lessons he's learned while running Disney and leading its 200,000 employees, and he explores the principles that are necessary for true leadership, including:- Optimism. Even in the face of difficulty, an optimistic leader will find the path toward the best possible outcome and focus on that, rather than give in to pessimism and blaming.- Courage. Leaders have to be willing to take risks and place big bets. Fear of failure destroys creativity. - Decisiveness. All decisions, no matter how difficult, can be made on a timely basis. Indecisiveness is both wasteful and destructive to morale. - Fairness. Treat people decently, with empathy, and be accessible to them.This book is about the relentless curiosity that has driven Iger for forty-five years, since the day he started as the lowliest studio grunt at ABC. It's also about thoughtfulness and respect, and a decency-over-dollars approach that has become the bedrock of every project and partnership Iger pursues, from a deep friendship with Steve Jobs in his final years to an abiding love of the Star Wars mythology.\\\"The ideas in this book strike me as universal\\\" Iger writes. \\\"Not just to the aspiring CEOs of the world, but to anyone wanting to feel less fearful, more confidently themselves, as they navigate their professional and even personal lives.\\\"\",\n",
            "            \"author\": \"Marc Benioff\",\n",
            "            \"genre\": \"Business\",\n",
            "            \"image_link\": \"https://i.gr-assets.com/images/S/compressed.photo.goodreads.com/books/1347488145l/6659874.jpg\",\n",
            "            \"rating\": 3.86,\n",
            "            \"title\": \"Behind the Cloud: The Untold Story of How Salesforce.com Went from Idea to Billion-Dollar Company-And Revolutionized an Industry\",\n",
            "            \"score\": 0.9404396414756775,\n",
            "            \"id\": 840.0\n",
            "        },\n",
            "        {\n",
            "            \"Desc\": \"Here is THE book recounting the life and times of one of the most respected men in the world, Warren Buffett. The legendary Omaha investor has never written a memoir, but now he has allowed one writer, Alice Schroeder, unprecedented access to explore directly with him and with those closest to him his work, opinions, struggles, triumphs, follies, and wisdom. The result is the personally revealing and complete biography of the man known everywhere as \\u201cThe Oracle of Omaha.\\u201dAlthough the media track him constantly, Buffett himself has never told his full life story. His reality is private, especially by celebrity standards. Indeed, while the homespun persona that the public sees is true as far as it goes, it goes only so far. Warren Buffett is an array of paradoxes. He set out to prove that nice guys can finish first. Over the years he treated his investors as partners, acted as their steward, and championed honesty as an investor, CEO, board member, essayist, and speaker. At the same time he became the world\\u2019s richest man, all from the modest Omaha headquarters of his company Berkshire Hathaway. None of this fits the term \\u201csimple.\\u201dWhen Alice Schroeder met Warren Buffett she was an insurance industry analyst and a gifted writer known for her keen perception and business acumen. Her writings on finance impressed him, and as she came to know him she realized that while much had been written on the subject of his investing style, no one had moved beyond that to explore his larger philosophy, which is bound up in a complex personality and the details of his life. Out of this came his decision to cooperate with her on the book about himself that he would never write.Never before has Buffett spent countless hours responding to a writer\\u2019s questions, talking, giving complete access to his wife, children, friends, and business associates\\u2014opening his files, recalling his childhood. It was an act of courage, as The Snowball makes immensely clear. Being human, his own life, like most lives, has been a mix of strengths and frailties. Yet notable though his wealth may be, Buffett\\u2019s legacy will not be his ranking on the scorecard of wealth; it will be his principles and ideas that have enriched people\\u2019s lives. This book tells you why Warren Buffett is the most fascinating American success story of our time.\",\n",
            "            \"author\": \"Alice Schroeder\",\n",
            "            \"genre\": \"Business\",\n",
            "            \"image_link\": \"https://i.gr-assets.com/images/S/compressed.photo.goodreads.com/books/1320458276l/2054761.jpg\",\n",
            "            \"rating\": 4.11,\n",
            "            \"title\": \"The Snowball: Warren Buffett and the Business of Life\",\n",
            "            \"score\": 0.9382031559944153,\n",
            "            \"id\": 630.0\n",
            "        },\n",
            "        {\n",
            "            \"Desc\": \"This book describes how one Silicon Valley insider has blazed a path of professional - and personal - success playing the game by his own rules. Silicon Valley is filled with garage-to-riches stories and hot young entrepreneurs with big ideas. Yet even in this place where the exceptional is common, Randy Komisar is a breed apart. Currently a \\\"Virtual CEO\\\" who provides \\\"leadership on demand\\\" for several renowned companies, Komisar was recently described by the \\\"Washington Post\\\" as a \\\"combined professional mentor, minister without portfolio, in-your-face investor, trouble-shooter and door opener.\\\" But even more interesting than what he does is how - and why - he does it. Komisar has found a way to turn an ambitious and challenging work life into his life's work.\\\"The Monk and the Riddle\\\" is unlike any other business book you've read. Transcending the typical \\\"leadership book\\\" model of lists and frameworks on how to succeed in business, \\\"The Monk and the Riddle\\\" is instead a lively and humorous narrative about the education of a unique Valley insider. It unfolds over the course of an ongoing dialogue between Komisar and would-be entrepreneurs, \\\"Lenny and Allison,\\\" and is at once a portal into the inner workings of Silicon Valley - from how startups get launched to how venture capitalists do their deals to how plans get prepared and pitched - and a deeply personal account of how one mover and shaker found fulfillment, not in work's rewards but in work itself.As the narrative follows Komisar through meetings with venture capitalists and eager entrepreneurs, and as his conversations with Lenny evolve toward a resolution, \\\"The Monk and the Riddle\\\" imparts invaluable lessons about the differences between leadership and management and passion and drive, and about the meaning of professional and personal success. \\\"When all is said and done,\\\" writes Komisar, \\\"the journey is the reward.\\\"\",\n",
            "            \"author\": \"Ben Mezrich\",\n",
            "            \"genre\": \"Business\",\n",
            "            \"image_link\": \"https://i.gr-assets.com/images/S/compressed.photo.goodreads.com/books/1320527444l/6326920.jpg\",\n",
            "            \"rating\": 3.54,\n",
            "            \"title\": \"The Accidental Billionaires: The Founding of Facebook, a Tale of Sex, Money, Genius, and Betrayal\",\n",
            "            \"score\": 0.9354634284973145,\n",
            "            \"id\": 1020.0\n",
            "        }\n",
            "    ]\n",
            "}\n"
          ],
          "name": "stdout"
        }
      ]
    },
    {
      "cell_type": "markdown",
      "metadata": {
        "id": "ulzT7XVuM-z8"
      },
      "source": [
        "# Content - Based Recommendation System Using TF-IDF Word2Vec Model"
      ]
    },
    {
      "cell_type": "code",
      "metadata": {
        "id": "bSMQaPR0HaHO"
      },
      "source": [
        "#Building TFIDF model and calculate TFIDF score\n",
        "\n",
        "tfidf = TfidfVectorizer(analyzer='word', ngram_range=(1, 3), min_df = 5, stop_words='english')\n",
        "tfidf.fit(df['cleaned_2'])\n",
        "\n",
        "# Getting the words from the TF-IDF model\n",
        "tfidf_list = dict(zip(tfidf.get_feature_names(), list(tfidf.idf_)))\n",
        "tfidf_feature = tfidf.get_feature_names() # tfidf words/col-names"
      ],
      "execution_count": 243,
      "outputs": []
    },
    {
      "cell_type": "code",
      "metadata": {
        "colab": {
          "base_uri": "https://localhost:8080/"
        },
        "id": "S8Y76brBwQKN",
        "outputId": "146e331a-5f3d-427f-f7e9-2e7a1ad93714"
      },
      "source": [
        "joblib.dump(tfidf, 'tf_idf_vectorizer.pkl')"
      ],
      "execution_count": 244,
      "outputs": [
        {
          "output_type": "execute_result",
          "data": {
            "text/plain": [
              "['tf_idf_vectorizer.pkl']"
            ]
          },
          "metadata": {
            "tags": []
          },
          "execution_count": 244
        }
      ]
    },
    {
      "cell_type": "code",
      "metadata": {
        "id": "kEnCSSXnUuKa"
      },
      "source": [
        "class Word2Vec_TF_IDF_Vectorizer(TransformerMixin, BaseEstimator):\n",
        "    def fit(self, X, y=None):\n",
        "        return self\n",
        "    \n",
        "    def transform(self, X):\n",
        "      # Storing the TFIDF Word2Vec embeddings\n",
        "      tfidf_vectors = []; \n",
        "      line = 0;\n",
        "      # for each book description\n",
        "      for desc in X: \n",
        "        # Word vectors are of zero length (Used 300 dimensions)\n",
        "          sent_vec = np.zeros(300) \n",
        "          # num of words with a valid vector in the book description\n",
        "          weight_sum =0; \n",
        "          # for each word in the book description\n",
        "          for word in desc.split(): \n",
        "              if word in google_model.wv.vocab and word in tfidf_feature:\n",
        "                  vec = google_model.wv[word]\n",
        "                  tf_idf = tfidf_list[word] * (desc.count(word) / len(desc))\n",
        "                  sent_vec += (vec * tf_idf)\n",
        "                  weight_sum += tf_idf\n",
        "          if weight_sum != 0:\n",
        "              sent_vec /= weight_sum\n",
        "          tfidf_vectors.append(sent_vec)\n",
        "          line += 1\n",
        "      # Creating a list for storing the vectors (description into vectors)\n",
        "      word_embeddings = np.asarray(tfidf_vectors)\n",
        "      return word_embeddings"
      ],
      "execution_count": 172,
      "outputs": []
    },
    {
      "cell_type": "code",
      "metadata": {
        "id": "6o-mDTOCVXSE"
      },
      "source": [
        "w2v_tf_idf_trans = ColumnTransformer(transformers=[\n",
        "    ('w2v', Word2Vec_TF_IDF_Vectorizer(), 0)\n",
        "])\n",
        "w2v_tf_idf_vectors, w2v_tf_idf_embedding_transformer = fit_word_embeddings(df.cleaned_2, w2v_tf_idf_trans)"
      ],
      "execution_count": 173,
      "outputs": []
    },
    {
      "cell_type": "code",
      "metadata": {
        "id": "DwJ4K7_HZ5xf"
      },
      "source": [
        "w2v_tf_idf_vectors_list = []\n",
        "for i in w2v_tf_idf_vectors:\n",
        "  w2v_tf_idf_vectors_list.append(i)"
      ],
      "execution_count": 175,
      "outputs": []
    },
    {
      "cell_type": "code",
      "metadata": {
        "id": "N0lruYmXZhwS"
      },
      "source": [
        "#adding w2v vectors as column\n",
        "df['w2v_tf_idf_vectors'] = w2v_tf_idf_vectors_list\n",
        "cosine_similarity_w2v_tf_idf = cosine_similarity(w2v_tf_idf_vectors_list, w2v_tf_idf_vectors_list)"
      ],
      "execution_count": 178,
      "outputs": []
    },
    {
      "cell_type": "code",
      "metadata": {
        "colab": {
          "base_uri": "https://localhost:8080/"
        },
        "id": "ejtj4fYeczmo",
        "outputId": "c267e8d4-51e3-48c6-e3d0-bb418fd5fb54"
      },
      "source": [
        "joblib.dump(w2v_tf_idf_vectors_list, \"w2v_tf_idf_vectors_list.pkl\")\n",
        "joblib.dump(w2v_tf_idf_embedding_transformer, \"w2v_tf_idf_embedding_transformer.pkl\")\n",
        "joblib.dump(cosine_similarity_w2v_tf_idf, \"cosine_similarity_w2v_tf_idf.pkl\")"
      ],
      "execution_count": 213,
      "outputs": [
        {
          "output_type": "execute_result",
          "data": {
            "text/plain": [
              "['cosine_similarity_w2v_tf_idf.pkl']"
            ]
          },
          "metadata": {
            "tags": []
          },
          "execution_count": 213
        }
      ]
    },
    {
      "cell_type": "code",
      "metadata": {
        "colab": {
          "base_uri": "https://localhost:8080/"
        },
        "id": "WdafiHZpZx_I",
        "outputId": "2c74b5bb-f8bf-42ed-b3e4-834a7a7158a9"
      },
      "source": [
        "output = recommend_books(w2v_tf_idf_embedding_transformer,cosine_similarity_w2v_tf_idf, title='Steve Jobs')\n",
        "print(json.dumps(output, indent = 4))"
      ],
      "execution_count": 211,
      "outputs": [
        {
          "output_type": "stream",
          "text": [
            "{\n",
            "    \"565\": [\n",
            "        {\n",
            "            \"Desc\": \"A grand vision defined: The CEO of Disney, one of Time's most influential people of 2019, shares the ideas and values he embraced to reinvent one of the most beloved companies in the world and inspire the people who bring the magic to life.Robert Iger became CEO of The Walt Disney Company in 2005, during a difficult time. Competition was more intense than ever and technology was changing faster than at any time in the company's history. His vision came down to three clear ideas: Recommit to the concept that quality matters, embrace technology instead of fighting it, and think bigger--think global--and turn Disney into a stronger brand in international markets.Twelve years later, Disney is the largest, most respected media company in the world, counting Pixar, Marvel, Lucasfilm, and 21st Century Fox among its properties. Its value is nearly five times what it was when Iger took over, and he is recognized as one of the most innovative and successful CEOs of our era.In The Ride of a Lifetime, Robert Iger shares the lessons he's learned while running Disney and leading its 200,000 employees, and he explores the principles that are necessary for true leadership, including:- Optimism. Even in the face of difficulty, an optimistic leader will find the path toward the best possible outcome and focus on that, rather than give in to pessimism and blaming.- Courage. Leaders have to be willing to take risks and place big bets. Fear of failure destroys creativity. - Decisiveness. All decisions, no matter how difficult, can be made on a timely basis. Indecisiveness is both wasteful and destructive to morale. - Fairness. Treat people decently, with empathy, and be accessible to them.This book is about the relentless curiosity that has driven Iger for forty-five years, since the day he started as the lowliest studio grunt at ABC. It's also about thoughtfulness and respect, and a decency-over-dollars approach that has become the bedrock of every project and partnership Iger pursues, from a deep friendship with Steve Jobs in his final years to an abiding love of the Star Wars mythology.\\\"The ideas in this book strike me as universal\\\" Iger writes. \\\"Not just to the aspiring CEOs of the world, but to anyone wanting to feel less fearful, more confidently themselves, as they navigate their professional and even personal lives.\\\"\",\n",
            "            \"author\": \"Marc Benioff\",\n",
            "            \"genre\": \"Business\",\n",
            "            \"image_link\": \"https://i.gr-assets.com/images/S/compressed.photo.goodreads.com/books/1347488145l/6659874.jpg\",\n",
            "            \"rating\": 3.86,\n",
            "            \"title\": \"Behind the Cloud: The Untold Story of How Salesforce.com Went from Idea to Billion-Dollar Company-And Revolutionized an Industry\",\n",
            "            \"score\": 0.8602373796992147,\n",
            "            \"id\": 840.0\n",
            "        },\n",
            "        {\n",
            "            \"Desc\": \"#1 New York Times Bestseller There have been many books\\u2014on a large and small scale\\u2014about Steve Jobs, one of the most famous CEOs in history. But this book is different from all the others.Becoming Steve Jobs takes on and breaks down the existing myth and stereotypes about Steve Jobs. The conventional, one-dimensional view of Jobs is that he was half-genius, half-jerk from youth, an irascible and selfish leader who slighted friends and family alike. Becoming Steve Jobs answers the central question about the life and career of the Apple cofounder and CEO: How did a young man so reckless and arrogant that he was exiled from the company he founded become the most effective visionary business leader of our time, ultimately transforming the daily life of billions of people?Drawing on incredible and sometimes exclusive access, Schlender and Tetzeli tell a different story of a real human being who wrestled with his failings and learned to maximize his strengths over time. Their rich, compelling narrative is filled with stories never told before from the people who knew Jobs best, and who decided to open up to the authors, including his family, former inner circle executives, and top people at Apple, Pixar and Disney, most notably Tim Cook, Jony Ive, Eddy Cue, Ed Catmull, John Lasseter, Robert Iger and many others. In addition, Brent knew Jobs personally for 25 years and draws upon his many interviews with him, on and off the record, in writing the book. He and Rick humanize the man and explain, rather than simply describe, his behavior. Along the way, the book provides rich context about the technology revolution we all have lived through, and the ways in which Jobs changed our world.Schlender and Tetzeli make clear that Jobs's astounding success at Apple was far more complicated than simply picking the right products: he became more patient, he learned to trust his inner circle, and discovered the importance of growing the company incrementally rather than only shooting for dazzling game-changing products.A rich and revealing account that will change the way we view Jobs, Becoming Steve Jobs shows us how one of the most colorful and compelling figures of our times was able to combine his unchanging, relentless passion with a more mature management style to create one of the most valuable and beloved companies on the planet.\",\n",
            "            \"author\": \"Mark Cuban\",\n",
            "            \"genre\": \"Business\",\n",
            "            \"image_link\": \"https://i.gr-assets.com/images/S/compressed.photo.goodreads.com/books/1441897247l/13344951._SY475_.jpg\",\n",
            "            \"rating\": 4.05,\n",
            "            \"title\": \"How to Win at the Sport of Business: If I Can Do It, You Can Do It\",\n",
            "            \"score\": 0.8579569830041403,\n",
            "            \"id\": 1065.0\n",
            "        },\n",
            "        {\n",
            "            \"Desc\": \"Here is THE book recounting the life and times of one of the most respected men in the world, Warren Buffett. The legendary Omaha investor has never written a memoir, but now he has allowed one writer, Alice Schroeder, unprecedented access to explore directly with him and with those closest to him his work, opinions, struggles, triumphs, follies, and wisdom. The result is the personally revealing and complete biography of the man known everywhere as \\u201cThe Oracle of Omaha.\\u201dAlthough the media track him constantly, Buffett himself has never told his full life story. His reality is private, especially by celebrity standards. Indeed, while the homespun persona that the public sees is true as far as it goes, it goes only so far. Warren Buffett is an array of paradoxes. He set out to prove that nice guys can finish first. Over the years he treated his investors as partners, acted as their steward, and championed honesty as an investor, CEO, board member, essayist, and speaker. At the same time he became the world\\u2019s richest man, all from the modest Omaha headquarters of his company Berkshire Hathaway. None of this fits the term \\u201csimple.\\u201dWhen Alice Schroeder met Warren Buffett she was an insurance industry analyst and a gifted writer known for her keen perception and business acumen. Her writings on finance impressed him, and as she came to know him she realized that while much had been written on the subject of his investing style, no one had moved beyond that to explore his larger philosophy, which is bound up in a complex personality and the details of his life. Out of this came his decision to cooperate with her on the book about himself that he would never write.Never before has Buffett spent countless hours responding to a writer\\u2019s questions, talking, giving complete access to his wife, children, friends, and business associates\\u2014opening his files, recalling his childhood. It was an act of courage, as The Snowball makes immensely clear. Being human, his own life, like most lives, has been a mix of strengths and frailties. Yet notable though his wealth may be, Buffett\\u2019s legacy will not be his ranking on the scorecard of wealth; it will be his principles and ideas that have enriched people\\u2019s lives. This book tells you why Warren Buffett is the most fascinating American success story of our time.\",\n",
            "            \"author\": \"Alice Schroeder\",\n",
            "            \"genre\": \"Business\",\n",
            "            \"image_link\": \"https://i.gr-assets.com/images/S/compressed.photo.goodreads.com/books/1320458276l/2054761.jpg\",\n",
            "            \"rating\": 4.11,\n",
            "            \"title\": \"The Snowball: Warren Buffett and the Business of Life\",\n",
            "            \"score\": 0.8542425736263382,\n",
            "            \"id\": 630.0\n",
            "        },\n",
            "        {\n",
            "            \"Desc\": \"Inside Steve\\u2019s Brain cuts through the cult of personality that surrounds Jobs to unearth the secrets to his unbelievable results. It reveals the real Steve Jobs\\u2014not his heart or his famous temper, but his mind. So what\\u2019s really inside Steve\\u2019s brain? According to Leander Kahney, who has covered Jobs since the early 1990s, it\\u2019s a fascinating bundle of contradictions. Jobs is an elitist who thinks most people are bozos\\u2014but he makes gadgets so easy to use, a bozo can master them. He\\u2019s a mercurial obsessive with a filthy temper\\u2014but he forges deep partnerships with creative geniuses like Steve Wozniak, Jonathan Ive, and John Lasseter. He\\u2019s a Buddhist and anti-materialist\\u2014but he produces mass-market products in Asian factories, and he promotes them with absolute mastery of the crassest medium, advertising. In short, Jobs has embraced the traits that some consider flaws\\u2014narcissism, perfectionism, the desire for total control\\u2014to lead Apple and Pixar to triumph against steep odds. And in the process, he has become a self-made billionaire. In Inside Steve\\u2019s Brain, Kahney distills the principles that guide Jobs as he launches killer products, attracts fanatically loyal customers, and manages some of the world\\u2019s most powerful brands. The result is this unique book about Steve Jobs that is part biography and part leadership guide, and impossible to put down. It gives you a peek inside Steve\\u2019s brain, and might even teach you something about how to build your own culture of innovation.\",\n",
            "            \"author\": \"Ken Robinson\",\n",
            "            \"genre\": \"Business\",\n",
            "            \"image_link\": \"https://i.gr-assets.com/images/S/compressed.photo.goodreads.com/books/1347351470l/4224060.jpg\",\n",
            "            \"rating\": 3.89,\n",
            "            \"title\": \"The Element: How Finding Your Passion Changes Everything\",\n",
            "            \"score\": 0.848151665133348,\n",
            "            \"id\": 413.0\n",
            "        },\n",
            "        {\n",
            "            \"Desc\": \"Biz Stone, the co-founder of Twitter, discusses the power of creativity and how to harness it, through stories from his remarkable life and career.THINGS A LITTLE BIRD TOLD MEFrom GQ's \\\"Nerd of the Year\\\" to one of Time's most influential people in the world, Biz Stone represents different things to different people. But he is known to all as the creative, effervescent, funny, charmingly positive and remarkably savvy co-founder of Twitter-the social media platform that singlehandedly changed the way the world works. Now, Biz tells fascinating, pivotal, and personal stories from his early life and his careers at Google and Twitter, sharing his knowledge about the nature and importance of ingenuity today. In Biz's world:-Opportunity can be manufactured-Great work comes from abandoning a linear way of thinking-Creativity never runs out -Asking questions is free-Empathy is core to personal and global success In this book, Biz also addresses failure, the value of vulnerability, ambition, and corporate culture. Whether seeking behind-the-scenes stories, advice, or wisdom and principles from one of the most successful businessmen of the new century, THINGS A LITTLE BIRD TOLD ME will satisfy every reader.\",\n",
            "            \"author\": \"Biz Stone\",\n",
            "            \"genre\": \"Business\",\n",
            "            \"image_link\": \"https://i.gr-assets.com/images/S/compressed.photo.goodreads.com/books/1384027655l/18296144.jpg\",\n",
            "            \"rating\": 3.93,\n",
            "            \"title\": \"Things a Little Bird Told Me: Confessions of the Creative Mind\",\n",
            "            \"score\": 0.8452477016154065,\n",
            "            \"id\": 132.0\n",
            "        }\n",
            "    ]\n",
            "}\n"
          ],
          "name": "stdout"
        }
      ]
    },
    {
      "cell_type": "code",
      "metadata": {
        "colab": {
          "base_uri": "https://localhost:8080/"
        },
        "id": "IM2wlyerceUK",
        "outputId": "739ad823-9502-454f-dda4-e5adcf0eaacc"
      },
      "source": [
        "output = recommend_books(w2v_tf_idf_embedding_transformer,cosine_similarity_w2v_tf_idf, title='The Da Vinci Code')\n",
        "print(json.dumps(output, indent = 4))"
      ],
      "execution_count": 227,
      "outputs": [
        {
          "output_type": "stream",
          "text": [
            "[((1191, 0.9999999999999999), 3.84), ((1286, 0.8009142057275955), 3.7), ((1582, 0.764782994406739), 3.86), ((1597, 0.7552200260268547), 4.01), ((1732, 0.7549075607634965), 4.07), ((1243, 0.753112802090742), 3.91)]\n",
            "[((1732, 0.7549075607634965), 4.07), ((1597, 0.7552200260268547), 4.01), ((1243, 0.753112802090742), 3.91), ((1582, 0.764782994406739), 3.86), ((1191, 0.9999999999999999), 3.84), ((1286, 0.8009142057275955), 3.7)]\n",
            "[(1732, 0.7549075607634965), (1597, 0.7552200260268547), (1243, 0.753112802090742), (1582, 0.764782994406739), (1191, 0.9999999999999999), (1286, 0.8009142057275955)]\n",
            "{\n",
            "    \"1191\": [\n",
            "        {\n",
            "            \"Desc\": \"An epic novel and a thrilling literary discovery, The Orphan Master's Son follows a young man's journey through the icy waters, dark tunnels, and eerie spy chambers of the world's most mysterious dictatorship, North Korea. Pak Jun Do is the haunted son of a lost mother - a singer \\\"stolen\\\" to Pyongyang - and an influential father who runs Long Tomorrows, a work camp for orphans. There the boy is given his first taste of power, picking which orphans eat first and which will be lent out for manual labor. Recognized for his loyalty and keen instincts, Jun Do comes to the attention of superiors in the state, rises in the ranks, and starts on a road from which there will be no return.Considering himself \\\"a humble citizen of the greatest nation in the world,\\\" Jun Do becomes a professional kidnapper who must navigate the shifting rules, arbitrary violence, and baffling demands of his Korean overlords in order to stay alive. Driven to the absolute limit of what any human being could endure, he boldly takes on the treacherous role of rival to Kim Jong Il in an attempt to save the woman he loves, Sun Moon, a legendary actress \\\"so pure, she didn't know what starving people looked like.\\\" Part breathless thriller, part story of innocence lost, part story of romantic love, The Orphan Master's Son is also a riveting portrait of a world heretofore hidden from view: a North Korea rife with hunger, corruption, and casual cruelty but also camaraderie, stolen moments of beauty, and love. A towering literary achievement, The Orphan Master's Son ushers Adam Johnson into the small group of today's greatest writers.--jacket description\",\n",
            "            \"author\": \"Adam Johnson\",\n",
            "            \"genre\": \"Non-Fiction\",\n",
            "            \"image_link\": \"https://i.gr-assets.com/images/S/compressed.photo.goodreads.com/books/1327878601l/11529868.jpg\",\n",
            "            \"rating\": 4.07,\n",
            "            \"title\": \"The Orphan Master's Son\",\n",
            "            \"score\": 0.7549075607634965,\n",
            "            \"id\": 1732.0\n",
            "        },\n",
            "        {\n",
            "            \"Desc\": \"In Tokyo, sixteen-year-old Nao has decided there\\u2019s only one escape from her aching loneliness and her classmates\\u2019 bullying, but before she ends it all, Nao plans to document the life of her great-grandmother, a Buddhist nun who\\u2019s lived more than a century. A diary is Nao\\u2019s only solace\\u2014and will touch lives in a ways she can scarcely imagine.Across the Pacific, we meet Ruth, a novelist living on a remote island who discovers a collection of artifacts washed ashore in a Hello Kitty lunchbox\\u2014possibly debris from the devastating 2011 tsunami. As the mystery of its contents unfolds, Ruth is pulled into the past, into Nao\\u2019s drama and her unknown fate, and forward into her own future.\\u00a0Full of Ozeki\\u2019s signature humour and deeply engaged with the relationship between writer and reader, past and present, fact and fiction, quantum physics, history, and myth, A Tale for the Time Being  is a brilliantly inventive, beguiling story of our shared humanity and the search for home.\",\n",
            "            \"author\": \"Ruth Ozeki\",\n",
            "            \"genre\": \"Non-Fiction\",\n",
            "            \"image_link\": \"https://i.gr-assets.com/images/S/compressed.photo.goodreads.com/books/1463767452l/15811545._SY475_.jpg\",\n",
            "            \"rating\": 4.01,\n",
            "            \"title\": \"A Tale for the Time Being\",\n",
            "            \"score\": 0.7552200260268547,\n",
            "            \"id\": 1597.0\n",
            "        },\n",
            "        {\n",
            "            \"Desc\": \"Robert Langdon, Harvard professor of symbology and religious iconology, arrives at the ultramodern Guggenheim Museum Bilbao to attend a major announcement\\u2014the unveiling of a discovery that \\u201cwill change the face of science forever.\\u201d The evening\\u2019s host is Edmond Kirsch, a forty-year-old billionaire and futurist whose dazzling high-tech inventions and audacious predictions have made him a renowned global figure. Kirsch, who was one of Langdon\\u2019s first students at Harvard two decades earlier, is about to reveal an astonishing breakthrough . . . one that will answer two of the fundamental questions of human existence. As the event begins, Langdon and several hundred guests find themselves captivated by an utterly original presentation, which Langdon realizes will be far more controversial than he ever imagined. But the meticulously orchestrated evening suddenly erupts into chaos, and Kirsch\\u2019s precious discovery teeters on the brink of being lost forever. Reeling and facing an imminent threat, Langdon is forced into a desperate bid to escape Bilbao. With him is Ambra Vidal, the elegant museum director who worked with Kirsch to stage the provocative event. Together they flee to Barcelona on a perilous quest to locate a cryptic password that will unlock Kirsch\\u2019s secret. Navigating the dark corridors of hidden history and extreme religion, Langdon and Vidal must evade a tormented enemy whose all-knowing power seems to emanate from Spain\\u2019s Royal Palace itself . . . and who will stop at nothing to silence Edmond Kirsch. On a trail marked by modern art and enigmatic symbols, Langdon and Vidal uncover clues that ultimately bring them face-to-face with Kirsch\\u2019s shocking discovery . . . and the breathtaking truth that has long eluded us. Origin is Dan Brown\\u2019s most brilliant and entertaining novel to date.\",\n",
            "            \"author\": \"Dan Brown\",\n",
            "            \"genre\": \"Non-Fiction\",\n",
            "            \"image_link\": \"https://i.gr-assets.com/images/S/compressed.photo.goodreads.com/books/1576370917l/32283133.jpg\",\n",
            "            \"rating\": 3.86,\n",
            "            \"title\": \"Origin\",\n",
            "            \"score\": 0.764782994406739,\n",
            "            \"id\": 1582.0\n",
            "        },\n",
            "        {\n",
            "            \"Desc\": \"WHAT IS LOST...WILL BE FOUNDIn this stunning follow-up to the global phenomenon The Da Vinci Code, Dan Brown demonstrates once again why he is the world's most popular thriller writer. The Lost Symbol is a masterstroke of storytelling - a deadly race through a real-world labyrinth of codes, secrets, and unseen truths...all under the watchful eye of Brown's most terrifying villain to date. Set within the hidden chambers, tunnels, and temples of Washington, DC., The Lost Symbol accelerates through a startling landscape toward an unthinkable finale.As the story opens, Harvard symbologist Robert Langdon is summoned unexpectedly to deliver an evening lecture in the U.S. Capitol Building. Within minutes of his arrival, however, the night takes a bizarre turn. A disturbing object - artfully encoded with five symbols - is discovered in the Capitol Building. Langdon recognizes the object as an ancient invitation...one meant to usher its recipient into a long-lost world of esoteric wisdom.When Langdon's beloved mentor, Peter Solomon - a prominent Mason and philanthropist - is brutally kidnapped, Langdon realizes his only hope of saving Peter is to accept this mystical invitation and follow wherever it leads him. Langdon is instantly into a clandestine world of Masonic secrets, hidden history, and never-before-seen locations - all of which seem to be dragging him toward a single, inconceivable truth.As the world discovered in The Da Vinci Code and Angels & Demons, Dan Brown's novels are brilliant tapestries of veiled histories, arcane symbols, and enigmatic codes. In this new novel, he again challenges readers with an intelligent, lightning-paced story that offers surprises at every turn. The Lost Symbol is exactly what Brown's fans have been waiting for...his most thrilling novel yet.(jacket)\",\n",
            "            \"author\": \"Dan Brown\",\n",
            "            \"genre\": \"Non-Fiction\",\n",
            "            \"image_link\": \"https://i.gr-assets.com/images/S/compressed.photo.goodreads.com/books/1534070883l/6411961.jpg\",\n",
            "            \"rating\": 3.7,\n",
            "            \"title\": \"The Lost Symbol\",\n",
            "            \"score\": 0.8009142057275955,\n",
            "            \"id\": 1286.0\n",
            "        },\n",
            "        {\n",
            "            \"Desc\": \"It begins with a boy. Theo Decker, a thirteen-year-old New Yorker, miraculously survives an accident that kills his mother. Abandoned by his father, Theo is taken in by the family of a wealthy friend. Bewildered by his strange new home on Park Avenue, disturbed by schoolmates who don't know how to talk to him, and tormented above all by his unbearable longing for his mother, he clings to one thing that reminds him of her: a small, mysteriously captivating painting that ultimately draws Theo into the underworld of art.As an adult, Theo moves silkily between the drawing rooms of the rich and the dusty labyrinth of an antiques store where he works. He is alienated and in love-and at the center of a narrowing, ever more dangerous circle.The Goldfinch combines vivid characters, mesmerizing language, and suspense, while plumbing with a philosopher's calm the deepest mysteries of love, identity, and art. It is an old-fashioned story of loss and obsession, survival and self-invention, and the ruthless machinations of fate.\",\n",
            "            \"author\": \"Donna Tartt\",\n",
            "            \"genre\": \"Non-Fiction\",\n",
            "            \"image_link\": \"https://i.gr-assets.com/images/S/compressed.photo.goodreads.com/books/1378710146l/17333223.jpg\",\n",
            "            \"rating\": 3.91,\n",
            "            \"title\": \"The Goldfinch\",\n",
            "            \"score\": 0.753112802090742,\n",
            "            \"id\": 1243.0\n",
            "        },\n",
            "        {\n",
            "            \"Desc\": \"An ingenious code hidden in the works of Leonardo da Vinci.A desperate race through the cathedrals and castles of Europe.An astonishing truth concealed for centuries . . . unveiled at last.While in Paris, Harvard symbologist Robert Langdon is awakened by a phone call in the dead of the night. The elderly curator of the Louvre has been murdered inside the museum, his body covered in baffling symbols. As Langdon and gifted French cryptologist Sophie Neveu sort through the bizarre riddles, they are stunned to discover a trail of clues hidden in the works of Leonardo da Vinci\\u2014clues visible for all to see and yet ingeniously disguised by the painter.Even more startling, the late curator was involved in the Priory of Sion\\u2014a secret society whose members included Sir Isaac Newton, Victor Hugo, and Da Vinci\\u2014and he guarded a breathtaking historical secret. Unless Langdon and Neveu can decipher the labyrinthine puzzle\\u2014while avoiding the faceless adversary who shadows their every move\\u2014the explosive, ancient truth will be lost forever.\",\n",
            "            \"author\": \"Dan Brown\",\n",
            "            \"genre\": \"Non-Fiction\",\n",
            "            \"image_link\": \"https://i.gr-assets.com/images/S/compressed.photo.goodreads.com/books/1579621267l/968.jpg\",\n",
            "            \"rating\": 3.84,\n",
            "            \"title\": \"The Da Vinci Code\",\n",
            "            \"score\": 0.9999999999999999,\n",
            "            \"id\": 1191.0\n",
            "        }\n",
            "    ]\n",
            "}\n"
          ],
          "name": "stdout"
        }
      ]
    },
    {
      "cell_type": "code",
      "metadata": {
        "id": "onsMTam0kcBz"
      },
      "source": [
        ""
      ],
      "execution_count": null,
      "outputs": []
    }
  ]
}